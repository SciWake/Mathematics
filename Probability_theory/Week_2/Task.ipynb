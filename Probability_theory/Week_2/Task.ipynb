{
 "cells": [
  {
   "cell_type": "markdown",
   "metadata": {},
   "source": [
    "<h1 style=\"color:black\" align=\"center\">Неделя 2</h1>\n",
    "<h1 style=\"color:black\" align=\"center\">Задачи к семинару</h1>"
   ]
  },
  {
   "cell_type": "markdown",
   "metadata": {},
   "source": [
    "<h3 style=\"color:#2E8B57\">Задача № 1</h3>\n",
    "\n",
    "В классе $15$ человек. На входе в школу имеются два гардероба. Школьники равновероятно ($p = q = \\frac{1}{2}$) раздеваются либо в одном, либо в другом. Найдите вероятность того, что в правом гардеробе школьники этого класса заняли вдвое больше мест, чем в левом.\n",
    "\n",
    "<h4 align='center'>Решение:</h4>\n",
    "\n",
    "Рассмотрим схему из $n=15$ испытаний Бернулли с вероятностью успеха $p=0.5$. Про успех в $i$-ом испытании будем говорить, если $i$-ый школьник разделся в правом гардеробе. Тогда надо найти вероятность того, что число успехов вдвое больше чем число неудач.\n",
    "\n",
    "Другими словами, необходимно найти: \n",
    "\n",
    "**P(В правом гардеробе заняли 10 мест, а в левом 5 мест)** это тоже самое, что найти:\n",
    "\n",
    "**P(в схеме из 15 испытаний Бернули с p=0.5 произошло 10 успехов)**\n",
    "\n",
    "\n",
    "Обозначим $k$ число успехов (очевидно, $k=10$). Вероятность этого события, как мы знаем, равна.\n",
    "\n",
    "$\\large C_n^k p^k(1-p)^{n-k}=\\frac{C_{15}^{10}}{2^{15}}=\\frac{3003}{32768}$\n",
    "\n",
    "__Ответ:__ $\\large \\frac{3003}{32768}$"
   ]
  },
  {
   "cell_type": "markdown",
   "metadata": {},
   "source": [
    "<h3 style=\"color:#2E8B57\">Задача № 2</h3>\n",
    "\n",
    "\n",
    "<h4 align='center'>Решение:</h4>\n",
    "\n",
    "\n",
    "\n",
    "__Ответ:__ $$"
   ]
  },
  {
   "cell_type": "code",
   "execution_count": null,
   "metadata": {},
   "outputs": [],
   "source": [
    "<h3 style=\"color:#2E8B57\">Задача № 3</h3>\n",
    "\n",
    "\n",
    "<h4 align='center'>Решение:</h4>\n",
    "\n",
    "\n",
    "\n",
    "__Ответ:__ $$"
   ]
  },
  {
   "cell_type": "markdown",
   "metadata": {},
   "source": [
    "<h3 style=\"color:#2E8B57\">Задача № 4</h3>\n",
    "\n",
    "\n",
    "<h4 align='center'>Решение:</h4>\n",
    "\n",
    "\n",
    "\n",
    "__Ответ:__ $$"
   ]
  },
  {
   "cell_type": "markdown",
   "metadata": {},
   "source": [
    "<h3 style=\"color:#2E8B57\">Задача № 5</h3>\n",
    "\n",
    "\n",
    "<h4 align='center'>Решение:</h4>\n",
    "\n",
    "\n",
    "\n",
    "__Ответ:__ $$"
   ]
  },
  {
   "cell_type": "markdown",
   "metadata": {},
   "source": [
    "<h3 style=\"color:#2E8B57\">Задача № 6</h3>\n",
    "\n",
    "\n",
    "<h4 align='center'>Решение:</h4>\n",
    "\n",
    "\n",
    "\n",
    "__Ответ:__ $$"
   ]
  },
  {
   "cell_type": "markdown",
   "metadata": {},
   "source": [
    "<h3 style=\"color:#2E8B57\">Задача № 7</h3>\n",
    "\n",
    "\n",
    "<h4 align='center'>Решение:</h4>\n",
    "\n",
    "\n",
    "\n",
    "__Ответ:__ $$"
   ]
  },
  {
   "cell_type": "code",
   "execution_count": null,
   "metadata": {},
   "outputs": [],
   "source": [
    "<h1 style=\"color:black\" align=\"center\">Итоговое тестирование недели</h1>"
   ]
  }
 ],
 "metadata": {
  "kernelspec": {
   "display_name": "Python 3",
   "language": "python",
   "name": "python3"
  },
  "language_info": {
   "codemirror_mode": {
    "name": "ipython",
    "version": 3
   },
   "file_extension": ".py",
   "mimetype": "text/x-python",
   "name": "python",
   "nbconvert_exporter": "python",
   "pygments_lexer": "ipython3",
   "version": "3.8.5"
  }
 },
 "nbformat": 4,
 "nbformat_minor": 4
}
