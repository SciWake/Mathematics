{
 "cells": [
  {
   "cell_type": "markdown",
   "metadata": {},
   "source": [
    "<h1 style=\"color:black\" align=\"center\">Неделя 1</h1>\n",
    "<h1 style=\"color:black\" align=\"center\">Задачи к семинару</h1>"
   ]
  },
  {
   "cell_type": "markdown",
   "metadata": {},
   "source": [
    "<h3 style=\"color:#2E8B57\">Задача № 1</h3>\n",
    "\n",
    "\n",
    "<h4 align='center'>Решение:</h4>\n",
    "\n",
    "\n",
    "\n",
    "__Ответ:__ $$"
   ]
  },
  {
   "cell_type": "markdown",
   "metadata": {},
   "source": [
    "<h3 style=\"color:#2E8B57\">Задача № 2</h3>\n",
    "\n",
    "\n",
    "<h4 align='center'>Решение:</h4>\n",
    "\n",
    "\n",
    "\n",
    "__Ответ:__ $$"
   ]
  },
  {
   "cell_type": "code",
   "execution_count": null,
   "metadata": {},
   "outputs": [],
   "source": [
    "<h3 style=\"color:#2E8B57\">Задача № 3</h3>\n",
    "\n",
    "\n",
    "<h4 align='center'>Решение:</h4>\n",
    "\n",
    "\n",
    "\n",
    "__Ответ:__ $$"
   ]
  },
  {
   "cell_type": "code",
   "execution_count": null,
   "metadata": {},
   "outputs": [],
   "source": [
    "<h3 style=\"color:#2E8B57\">Задача № 4</h3>\n",
    "\n",
    "\n",
    "<h4 align='center'>Решение:</h4>\n",
    "\n",
    "\n",
    "\n",
    "__Ответ:__ $$"
   ]
  },
  {
   "cell_type": "code",
   "execution_count": null,
   "metadata": {},
   "outputs": [],
   "source": [
    "<h3 style=\"color:#2E8B57\">Задача № 5</h3>\n",
    "\n",
    "\n",
    "<h4 align='center'>Решение:</h4>\n",
    "\n",
    "\n",
    "\n",
    "__Ответ:__ $$"
   ]
  },
  {
   "cell_type": "code",
   "execution_count": null,
   "metadata": {},
   "outputs": [],
   "source": [
    "<h3 style=\"color:#2E8B57\">Задача № 6</h3>\n",
    "\n",
    "\n",
    "<h4 align='center'>Решение:</h4>\n",
    "\n",
    "\n",
    "\n",
    "__Ответ:__ $$"
   ]
  },
  {
   "cell_type": "code",
   "execution_count": null,
   "metadata": {},
   "outputs": [],
   "source": [
    "<h3 style=\"color:#2E8B57\">Задача № 7</h3>\n",
    "\n",
    "\n",
    "<h4 align='center'>Решение:</h4>\n",
    "\n",
    "\n",
    "\n",
    "__Ответ:__ $$"
   ]
  },
  {
   "cell_type": "code",
   "execution_count": null,
   "metadata": {},
   "outputs": [],
   "source": [
    "<h3 style=\"color:#2E8B57\">Задача № 1</h3>\n",
    "\n",
    "\n",
    "<h4 align='center'>Решение:</h4>\n",
    "\n",
    "\n",
    "\n",
    "__Ответ:__ $$"
   ]
  },
  {
   "cell_type": "code",
   "execution_count": null,
   "metadata": {},
   "outputs": [],
   "source": [
    "<h1 style=\"color:black\" align=\"center\">Итоговое тестирование недели</h1>"
   ]
  }
 ],
 "metadata": {
  "kernelspec": {
   "display_name": "Python 3",
   "language": "python",
   "name": "python3"
  },
  "language_info": {
   "codemirror_mode": {
    "name": "ipython",
    "version": 3
   },
   "file_extension": ".py",
   "mimetype": "text/x-python",
   "name": "python",
   "nbconvert_exporter": "python",
   "pygments_lexer": "ipython3",
   "version": "3.8.5"
  }
 },
 "nbformat": 4,
 "nbformat_minor": 4
}
