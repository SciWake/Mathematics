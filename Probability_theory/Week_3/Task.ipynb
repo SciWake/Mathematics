{
 "cells": [
  {
   "cell_type": "markdown",
   "id": "3ffca1b4",
   "metadata": {},
   "source": [
    "<h1 style=\"color:black\" align=\"center\">Неделя 3</h1>\n",
    "<h1 style=\"color:black\" align=\"center\">Задачи к семинару</h1>"
   ]
  },
  {
   "cell_type": "markdown",
   "id": "6ce8bef6",
   "metadata": {},
   "source": [
    "<h3 style=\"color:#2E8B57\">Задача № 1</h3>\n",
    "\n",
    "\n",
    "\n",
    "<h4 align='center'>Решение:</h4>\n",
    "\n",
    "\n",
    "\n",
    "__Ответ:__ "
   ]
  },
  {
   "cell_type": "markdown",
   "id": "1c1efb86",
   "metadata": {},
   "source": [
    "<h3 style=\"color:#2E8B57\">Задача № 2</h3>\n",
    "\n",
    "\n",
    "\n",
    "<h4 align='center'>Решение:</h4>\n",
    "\n",
    "\n",
    "\n",
    "__Ответ:__ "
   ]
  },
  {
   "cell_type": "markdown",
   "id": "e45ff43b",
   "metadata": {},
   "source": [
    "<h3 style=\"color:#2E8B57\">Задача № 3</h3>\n",
    "\n",
    "\n",
    "\n",
    "<h4 align='center'>Решение:</h4>\n",
    "\n",
    "\n",
    "\n",
    "__Ответ:__ "
   ]
  },
  {
   "cell_type": "markdown",
   "id": "4b58b928",
   "metadata": {},
   "source": [
    "<h3 style=\"color:#2E8B57\">Задача № 4</h3>\n",
    "\n",
    "\n",
    "\n",
    "<h4 align='center'>Решение:</h4>\n",
    "\n",
    "\n",
    "\n",
    "__Ответ:__ "
   ]
  },
  {
   "cell_type": "markdown",
   "id": "b1b47795",
   "metadata": {},
   "source": [
    "<h3 style=\"color:#2E8B57\">Задача № 5</h3>\n",
    "\n",
    "\n",
    "\n",
    "<h4 align='center'>Решение:</h4>\n",
    "\n",
    "\n",
    "\n",
    "__Ответ:__ "
   ]
  },
  {
   "cell_type": "markdown",
   "id": "563f8983",
   "metadata": {},
   "source": [
    "<h3 style=\"color:#2E8B57\">Задача № 6</h3>\n",
    "\n",
    "\n",
    "\n",
    "<h4 align='center'>Решение:</h4>\n",
    "\n",
    "\n",
    "\n",
    "__Ответ:__ "
   ]
  },
  {
   "cell_type": "markdown",
   "id": "98b09e0a",
   "metadata": {},
   "source": [
    "<h3 style=\"color:#2E8B57\">Задача № 7</h3>\n",
    "\n",
    "\n",
    "\n",
    "<h4 align='center'>Решение:</h4>\n",
    "\n",
    "\n",
    "\n",
    "__Ответ:__ "
   ]
  },
  {
   "cell_type": "code",
   "execution_count": null,
   "id": "56c256a1",
   "metadata": {},
   "outputs": [],
   "source": []
  }
 ],
 "metadata": {
  "kernelspec": {
   "display_name": "Python 3 (ipykernel)",
   "language": "python",
   "name": "python3"
  },
  "language_info": {
   "codemirror_mode": {
    "name": "ipython",
    "version": 3
   },
   "file_extension": ".py",
   "mimetype": "text/x-python",
   "name": "python",
   "nbconvert_exporter": "python",
   "pygments_lexer": "ipython3",
   "version": "3.9.7"
  },
  "varInspector": {
   "cols": {
    "lenName": 16,
    "lenType": 16,
    "lenVar": 40
   },
   "kernels_config": {
    "python": {
     "delete_cmd_postfix": "",
     "delete_cmd_prefix": "del ",
     "library": "var_list.py",
     "varRefreshCmd": "print(var_dic_list())"
    },
    "r": {
     "delete_cmd_postfix": ") ",
     "delete_cmd_prefix": "rm(",
     "library": "var_list.r",
     "varRefreshCmd": "cat(var_dic_list()) "
    }
   },
   "types_to_exclude": [
    "module",
    "function",
    "builtin_function_or_method",
    "instance",
    "_Feature"
   ],
   "window_display": false
  }
 },
 "nbformat": 4,
 "nbformat_minor": 5
}
