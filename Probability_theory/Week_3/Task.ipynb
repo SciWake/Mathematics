{
 "cells": [
  {
   "cell_type": "markdown",
   "id": "9b066a11",
   "metadata": {},
   "source": [
    "<h1 style=\"color:black\" align=\"center\">Неделя 3</h1>\n",
    "<h1 style=\"color:black\" align=\"center\">Задачи к семинару</h1>"
   ]
  },
  {
   "cell_type": "markdown",
   "id": "7595866d",
   "metadata": {},
   "source": [
    "<h3 style=\"color:#2E8B57\">Задача № 1</h3>\n",
    "\n",
    "Пусть $\\xi$ - номер веб-страницы, выбранный пользователем случайно из выдачи, в которой показано $M$ страниц (все страницы пользователь выбирает равновероятно). Найдите математическое ожидание и дисперсию $\\xi$.\n",
    "\n",
    "<h4 align='center'>Решение:</h4>\n",
    "\n",
    "Случайная величина $\\xi$ принимает значения $1,\\ldots,M$ равновероятно, т.е. ${\\sf P}(\\xi=i)=\\frac{1}{M}$ для всех $i\\in\\{1,\\ldots,M\\}$. Тогда по определению\n",
    "\n",
    "$\\large M\\xi=\\sum\\limits_{i=1}^M i{\\sf P}(\\xi=i)=\\frac{1}{M}\\sum\\limits_{i=1}^M i=\\frac{M(M+1)}{2M}=\\frac{M+1}{2}$\n",
    "\n",
    "Как известно, $D\\xi=M\\xi^2-(M\\xi)^2=M\\xi^2-\\frac{(M+1)^2}{4}$. Остается посчитать второй момент. Действуем по определению:\n",
    "\n",
    "$\\large M\\xi^2=\\sum\\limits_{i=1}^M i^2{\\sf P}(\\xi=i)=\\frac{1}{M}\\sum\\limits_{i=1}^M i^2=\\frac{M(M+1)(2M+1)}{6M}=\\frac{(M+1)(2M+1)}{6}$\n",
    "\n",
    "Тогда \n",
    "\n",
    "$\\large D\\xi=\\frac{(M+1)(2M+1)}{6}-\\frac{(M+1)^2}{4}=\\frac{(M+1)(4M+2-3M-3)}{12}=\\frac{M^2-1}{12}$"
   ]
  },
  {
   "cell_type": "markdown",
   "id": "f35ee21d",
   "metadata": {},
   "source": [
    "<h3 style=\"color:#2E8B57\">Задача № 2</h3>\n",
    "\n",
    "Экипаж космического корабля, состоящий из $k$ космонавтов, отправился на освоение планет. Космонавты случайно высаживаются на $m$ планетах (каждый космонавт высаживается ровно на одной планете). Случайная величина $\\xi$ равна количеству планет, на которые никто не высадился при таком случайном размещении. Найдите математическое ожидание $\\xi$, если планеты различимы.\n",
    "\n",
    "\n",
    "<h4 align='center'>Решение:</h4>\n",
    "\n",
    "Определим множество элементарных исходов $\\Omega=\\{\\omega_1,\\ldots,\\omega_n\\}$. Каждый из этих элементарных исходов соответствует одному способу высадки космонавтов. Разумеется, если планеты различимы, то $n=m^k$. \n",
    "\n",
    "Рассмотрим $m$ событий $A_1,\\ldots,A_m$, где событие $A_i$ заключается в том, что на планету с номером $i$ никто не высадился. Разумеется, для каждого $i\\in\\{1,\\ldots,m\\}$ имеем $|A_i|=(m-1)^k$. Пусть случайная величина $\\xi_i=I_{A_i}$ является индикатором события $A_i$ (иными словами, если событие выполнено, то $\\xi_i=1$, иначе $\\xi_i=0$). Тогда $\\xi=\\xi_1+\\ldots+\\xi_m$, поэтому\n",
    "\n",
    "$\\large M\\xi=M\\xi_1+\\ldots+M\\xi_m={\\sf P}(\\xi_1=1)+\\ldots+{\\sf P}(\\xi_m=1)=$\n",
    "\n",
    "$\\large {\\sf P}(A_1)+\\ldots+{\\sf P}(A_m)=\\frac{m(m-1)^k}{m^k}=\\frac{(m-1)^k}{m^{k-1}}$"
   ]
  },
  {
   "cell_type": "markdown",
   "id": "dc3e22d0",
   "metadata": {},
   "source": [
    "<h3 style=\"color:#2E8B57\">Задача № 3</h3>\n",
    "\n",
    "\n",
    "\n",
    "<h4 align='center'>Решение:</h4>\n",
    "\n",
    "\n",
    "\n",
    "__Ответ:__ "
   ]
  },
  {
   "cell_type": "markdown",
   "id": "dec23b00",
   "metadata": {},
   "source": [
    "<h3 style=\"color:#2E8B57\">Задача № 4</h3>\n",
    "\n",
    "\n",
    "\n",
    "<h4 align='center'>Решение:</h4>\n",
    "\n",
    "\n",
    "\n",
    "__Ответ:__ "
   ]
  },
  {
   "cell_type": "markdown",
   "id": "1c3f053f",
   "metadata": {},
   "source": [
    "<h3 style=\"color:#2E8B57\">Задача № 5</h3>\n",
    "\n",
    "\n",
    "\n",
    "<h4 align='center'>Решение:</h4>\n",
    "\n",
    "\n",
    "\n",
    "__Ответ:__ "
   ]
  },
  {
   "cell_type": "markdown",
   "id": "e1591c37",
   "metadata": {},
   "source": [
    "<h3 style=\"color:#2E8B57\">Задача № 6</h3>\n",
    "\n",
    "\n",
    "\n",
    "<h4 align='center'>Решение:</h4>\n",
    "\n",
    "\n",
    "\n",
    "__Ответ:__ "
   ]
  },
  {
   "cell_type": "markdown",
   "id": "bde28496",
   "metadata": {},
   "source": [
    "<h3 style=\"color:#2E8B57\">Задача № 7</h3>\n",
    "\n",
    "\n",
    "\n",
    "<h4 align='center'>Решение:</h4>\n",
    "\n",
    "\n",
    "\n",
    "__Ответ:__ "
   ]
  },
  {
   "cell_type": "code",
   "execution_count": null,
   "id": "0aad0298",
   "metadata": {},
   "outputs": [],
   "source": []
  }
 ],
 "metadata": {
  "kernelspec": {
   "display_name": "Python 3 (ipykernel)",
   "language": "python",
   "name": "python3"
  },
  "language_info": {
   "codemirror_mode": {
    "name": "ipython",
    "version": 3
   },
   "file_extension": ".py",
   "mimetype": "text/x-python",
   "name": "python",
   "nbconvert_exporter": "python",
   "pygments_lexer": "ipython3",
   "version": "3.9.7"
  },
  "varInspector": {
   "cols": {
    "lenName": 16,
    "lenType": 16,
    "lenVar": 40
   },
   "kernels_config": {
    "python": {
     "delete_cmd_postfix": "",
     "delete_cmd_prefix": "del ",
     "library": "var_list.py",
     "varRefreshCmd": "print(var_dic_list())"
    },
    "r": {
     "delete_cmd_postfix": ") ",
     "delete_cmd_prefix": "rm(",
     "library": "var_list.r",
     "varRefreshCmd": "cat(var_dic_list()) "
    }
   },
   "types_to_exclude": [
    "module",
    "function",
    "builtin_function_or_method",
    "instance",
    "_Feature"
   ],
   "window_display": false
  }
 },
 "nbformat": 4,
 "nbformat_minor": 5
}
