{
 "cells": [
  {
   "cell_type": "markdown",
   "id": "36c193e6",
   "metadata": {},
   "source": [
    "<h1 style=\"color:black\" align=\"center\">Неделя 3</h1>\n",
    "<h1 style=\"color:black\" align=\"center\">Задачи к семинару</h1>"
   ]
  },
  {
   "cell_type": "markdown",
   "id": "39a069c8",
   "metadata": {},
   "source": [
    "<h3 style=\"color:#2E8B57\">Задача № 1</h3>\n",
    "\n",
    "Пусть $\\xi$ - номер веб-страницы, выбранный пользователем случайно из выдачи, в которой показано $M$ страниц (все страницы пользователь выбирает равновероятно). Найдите математическое ожидание и дисперсию $\\xi$.\n",
    "\n",
    "<h4 align='center'>Решение:</h4>\n",
    "\n",
    "Случайная величина $\\xi$ принимает значения $1,\\ldots,M$ равновероятно, т.е. ${\\sf P}(\\xi=i)=\\frac{1}{M}$ для всех $i\\in\\{1,\\ldots,M\\}$. Тогда\n",
    "\n",
    "$\\large M\\xi=\\sum\\limits_{i=1}^M i{\\sf P}(\\xi=i)=\\frac{1}{M}\\sum\\limits_{i=1}^M i=\\frac{M(M+1)}{2M}=\\frac{M+1}{2}$\n",
    "\n",
    "Как известно, $D\\xi=M\\xi^2-(M\\xi)^2=M\\xi^2-\\frac{(M+1)^2}{4}$. Кроме того,\n",
    "\n",
    "$\\large M\\xi^2=\\sum\\limits_{i=1}^M i^2{\\sf P}(\\xi=i)=\\frac{1}{M}\\sum\\limits_{i=1}^M i^2=\\frac{M(M+1)(2M+1)}{6M}=\\frac{(M+1)(2M+1)}{6}$\n",
    "\n",
    "Тогда \n",
    "\n",
    "$\\large D\\xi=\\frac{(M+1)(2M+1)}{6}-\\frac{(M+1)^2}{4}=\\frac{(M+1)(4M+2-3M-3)}{12}=\\frac{M^2-1}{12}$"
   ]
  },
  {
   "cell_type": "markdown",
   "id": "4c124391",
   "metadata": {},
   "source": [
    "<h3 style=\"color:#2E8B57\">Задача № 2</h3>\n",
    "\n",
    "\n",
    "\n",
    "<h4 align='center'>Решение:</h4>\n",
    "\n",
    "\n",
    "\n",
    "__Ответ:__ "
   ]
  },
  {
   "cell_type": "markdown",
   "id": "d86592d4",
   "metadata": {},
   "source": [
    "<h3 style=\"color:#2E8B57\">Задача № 3</h3>\n",
    "\n",
    "\n",
    "\n",
    "<h4 align='center'>Решение:</h4>\n",
    "\n",
    "\n",
    "\n",
    "__Ответ:__ "
   ]
  },
  {
   "cell_type": "markdown",
   "id": "d4d500f5",
   "metadata": {},
   "source": [
    "<h3 style=\"color:#2E8B57\">Задача № 4</h3>\n",
    "\n",
    "\n",
    "\n",
    "<h4 align='center'>Решение:</h4>\n",
    "\n",
    "\n",
    "\n",
    "__Ответ:__ "
   ]
  },
  {
   "cell_type": "markdown",
   "id": "94dbe882",
   "metadata": {},
   "source": [
    "<h3 style=\"color:#2E8B57\">Задача № 5</h3>\n",
    "\n",
    "\n",
    "\n",
    "<h4 align='center'>Решение:</h4>\n",
    "\n",
    "\n",
    "\n",
    "__Ответ:__ "
   ]
  },
  {
   "cell_type": "markdown",
   "id": "8d20d529",
   "metadata": {},
   "source": [
    "<h3 style=\"color:#2E8B57\">Задача № 6</h3>\n",
    "\n",
    "\n",
    "\n",
    "<h4 align='center'>Решение:</h4>\n",
    "\n",
    "\n",
    "\n",
    "__Ответ:__ "
   ]
  },
  {
   "cell_type": "markdown",
   "id": "500a8d65",
   "metadata": {},
   "source": [
    "<h3 style=\"color:#2E8B57\">Задача № 7</h3>\n",
    "\n",
    "\n",
    "\n",
    "<h4 align='center'>Решение:</h4>\n",
    "\n",
    "\n",
    "\n",
    "__Ответ:__ "
   ]
  },
  {
   "cell_type": "code",
   "execution_count": null,
   "id": "a8fd5c4f",
   "metadata": {},
   "outputs": [],
   "source": []
  }
 ],
 "metadata": {
  "kernelspec": {
   "display_name": "Python 3 (ipykernel)",
   "language": "python",
   "name": "python3"
  },
  "language_info": {
   "codemirror_mode": {
    "name": "ipython",
    "version": 3
   },
   "file_extension": ".py",
   "mimetype": "text/x-python",
   "name": "python",
   "nbconvert_exporter": "python",
   "pygments_lexer": "ipython3",
   "version": "3.9.7"
  },
  "varInspector": {
   "cols": {
    "lenName": 16,
    "lenType": 16,
    "lenVar": 40
   },
   "kernels_config": {
    "python": {
     "delete_cmd_postfix": "",
     "delete_cmd_prefix": "del ",
     "library": "var_list.py",
     "varRefreshCmd": "print(var_dic_list())"
    },
    "r": {
     "delete_cmd_postfix": ") ",
     "delete_cmd_prefix": "rm(",
     "library": "var_list.r",
     "varRefreshCmd": "cat(var_dic_list()) "
    }
   },
   "types_to_exclude": [
    "module",
    "function",
    "builtin_function_or_method",
    "instance",
    "_Feature"
   ],
   "window_display": false
  }
 },
 "nbformat": 4,
 "nbformat_minor": 5
}
