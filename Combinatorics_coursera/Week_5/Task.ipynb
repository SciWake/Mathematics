{
 "cells": [
  {
   "cell_type": "markdown",
   "metadata": {},
   "source": [
    "<h1 style=\"color:black\" align=\"center\">Итоговое тестирование</h1>\n",
    "\n",
    "<h3 style=\"color:#2E8B57\">Задача № 1</h3>\n",
    "\n",
    "Количество различных слов, получаемых перестановкой букв в слове `папарацци` равно?\n",
    "\n",
    "<h4 align='center'>Решение:</h4>\n",
    "\n",
    "В слове \"папарацци\" $2$ раза повторяются буквы `п, ц`, $3$ раза `a`, по одному разу `р` и `и`. То есть из набора букв `а, п, ц, р, и` мы составляем слова в которых указанные буквы встречаются нужное количество раз. Это в точности полиномиальный коэффициент \n",
    "\n",
    "$\\large P(3,2,2,1,1) = \\frac{9!}{3!\\cdot 2! \\cdot 2! \\cdot 1! \\cdot 1!} = 15120$\n",
    "\n",
    "__Ответ:__ $15120$"
   ]
  },
  {
   "cell_type": "code",
   "execution_count": null,
   "metadata": {},
   "outputs": [],
   "source": []
  }
 ],
 "metadata": {
  "kernelspec": {
   "display_name": "Python 3",
   "language": "python",
   "name": "python3"
  },
  "language_info": {
   "codemirror_mode": {
    "name": "ipython",
    "version": 3
   },
   "file_extension": ".py",
   "mimetype": "text/x-python",
   "name": "python",
   "nbconvert_exporter": "python",
   "pygments_lexer": "ipython3",
   "version": "3.8.5"
  }
 },
 "nbformat": 4,
 "nbformat_minor": 4
}
