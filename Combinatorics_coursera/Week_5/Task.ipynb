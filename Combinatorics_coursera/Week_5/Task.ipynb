{
 "cells": [
  {
   "cell_type": "markdown",
   "metadata": {},
   "source": [
    "<h1 style=\"color:black\" align=\"center\">Итоговое тестирование</h1>\n",
    "\n",
    "<h3 style=\"color:#2E8B57\">Задача № 1</h3>\n",
    "\n",
    "Количество различных слов, получаемых перестановкой букв в слове `папарацци` равно?\n",
    "\n",
    "<h4 align='center'>Решение:</h4>\n",
    "\n",
    "В слове \"папарацци\" $2$ раза повторяются буквы `п, ц`, $3$ раза `a`, по одному разу `р` и `и`. То есть из набора букв `а, п, ц, р, и` мы составляем слова в которых указанные буквы встречаются нужное количество раз. Это в точности полиномиальный коэффициент \n",
    "\n",
    "$\\large P(3,2,2,1,1) = \\frac{9!}{3!\\cdot 2! \\cdot 2! \\cdot 1! \\cdot 1!} = 15120$\n",
    "\n",
    "__Ответ:__ $15120$"
   ]
  },
  {
   "cell_type": "markdown",
   "metadata": {},
   "source": [
    "<h3 style=\"color:#2E8B57\">Задача № 2</h3>\n",
    "\n",
    "Имеется $18$ различных шаров и $4$ различных ящика. Сколькими способами можно в первые два ящика положить по $5$ шаров, а в оставшиеся два по $4$ шара (Отметьте все подходящие варианты)?\n",
    "\n",
    "<h4 align='center'>Решение:</h4>\n",
    "\n",
    "Занумеруем ящики $\\{1,2,3,4\\}$. Тогда каждому способу разложить шары по ящикам можно поставить в соответствие последовательность из $\\{1,2,3,4\\}$ длины $18$, причём $1$ и $2$ встречается по $5$ раз, а $3$ и $4$ − по $4$. Отсюда искомое количество способов равно \n",
    "\n",
    "$\\large P(5,5,4,4) =\\frac{18!}{5!\\cdot 5! \\cdot 4! \\cdot 4!} = P(5,4,4,5)$."
   ]
  },
  {
   "cell_type": "markdown",
   "metadata": {},
   "source": [
    "<h3 style=\"color:#2E8B57\">Задача № 3</h3>\n",
    "\n",
    "<h4 align='center'>Решение:</h4>\n",
    "    \n",
    "__Ответ:__ $15120$"
   ]
  },
  {
   "cell_type": "markdown",
   "metadata": {},
   "source": [
    "<h3 style=\"color:#2E8B57\">Задача № 4</h3>\n",
    "\n",
    "<h4 align='center'>Решение:</h4>\n",
    "    \n",
    "__Ответ:__ $15120$"
   ]
  },
  {
   "cell_type": "markdown",
   "metadata": {},
   "source": [
    "<h3 style=\"color:#2E8B57\">Задача № 5</h3>\n",
    "\n",
    "<h4 align='center'>Решение:</h4>\n",
    "    \n",
    "__Ответ:__ $15120$"
   ]
  },
  {
   "cell_type": "markdown",
   "metadata": {},
   "source": [
    "<h3 style=\"color:#2E8B57\">Задача № 6</h3>\n",
    "\n",
    "<h4 align='center'>Решение:</h4>\n",
    "    \n",
    "__Ответ:__ $15120$"
   ]
  },
  {
   "cell_type": "markdown",
   "metadata": {},
   "source": [
    "<h3 style=\"color:#2E8B57\">Задача № 7</h3>\n",
    "\n",
    "<h4 align='center'>Решение:</h4>\n",
    "    \n",
    "__Ответ:__ $15120$"
   ]
  },
  {
   "cell_type": "markdown",
   "metadata": {},
   "source": [
    "<h3 style=\"color:#2E8B57\">Задача № 8</h3>\n",
    "\n",
    "<h4 align='center'>Решение:</h4>\n",
    "    \n",
    "__Ответ:__ $15120$"
   ]
  }
 ],
 "metadata": {
  "kernelspec": {
   "display_name": "Python 3",
   "language": "python",
   "name": "python3"
  },
  "language_info": {
   "codemirror_mode": {
    "name": "ipython",
    "version": 3
   },
   "file_extension": ".py",
   "mimetype": "text/x-python",
   "name": "python",
   "nbconvert_exporter": "python",
   "pygments_lexer": "ipython3",
   "version": "3.8.5"
  }
 },
 "nbformat": 4,
 "nbformat_minor": 4
}
