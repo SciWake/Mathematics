{
 "cells": [
  {
   "cell_type": "markdown",
   "metadata": {},
   "source": [
    "<h1 style=\"color:black\" align=\"center\">Неделя 7</h1>\n",
    "<h1 align=\"center\">Выравнивания</h1>"
   ]
  },
  {
   "cell_type": "markdown",
   "metadata": {},
   "source": [
    "<h3 style=\"color:#2E8B57\" align=\"right\">Задача о выравнивании последовательностей</h3>\n",
    "\n",
    "Имеется две последовательности $a_1, \\ldots, a_n$ и последоватлеьность $b_1, \\ldots, b_m$. Необходимо сравнить две последовательности. Для простоты, возьмём две последовательности букв `к, р, о, л, и, к` и `и, к, р, а`.\n",
    "\n",
    "**О выравнивании**\n",
    "\n",
    "Для процесса выравнивания используют символ $\\varnothing$, который представляет собой пустой пробел, например:\n",
    "\n",
    "к, р, о, л, и, к\n",
    "\n",
    "и, к, р, а, $\\varnothing$, $\\varnothing$\n",
    "\n",
    "Но компьютер не сможет сравнить эти последовательности, так как повторяющиеся символы в последовательности расположены в разных метсах. Запишем другое выравнивание:\n",
    "\n",
    "к, р, о, л, и, к, $\\varnothing$, $\\varnothing$\n",
    "\n",
    "$\\varnothing$, $\\varnothing$, $\\varnothing$, $\\varnothing$, и, к, р, а\n",
    "\n",
    "Сколько всего существует выравниваний?\n",
    "\n",
    "<h4 align='center'>Решение:</h4>\n",
    "\n"
   ]
  },
  {
   "cell_type": "code",
   "execution_count": null,
   "metadata": {},
   "outputs": [],
   "source": []
  }
 ],
 "metadata": {
  "kernelspec": {
   "display_name": "Python 3",
   "language": "python",
   "name": "python3"
  },
  "language_info": {
   "codemirror_mode": {
    "name": "ipython",
    "version": 3
   },
   "file_extension": ".py",
   "mimetype": "text/x-python",
   "name": "python",
   "nbconvert_exporter": "python",
   "pygments_lexer": "ipython3",
   "version": "3.8.5"
  }
 },
 "nbformat": 4,
 "nbformat_minor": 4
}
