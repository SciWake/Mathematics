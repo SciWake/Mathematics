{
 "cells": [
  {
   "cell_type": "markdown",
   "metadata": {},
   "source": [
    "<h1 style=\"color:black\" align=\"center\">Неделя 7</h1>\n",
    "<h1 align=\"center\">Выравнивания</h1>"
   ]
  },
  {
   "cell_type": "markdown",
   "metadata": {},
   "source": [
    "<h1 style=\"color:#008B8B\">Задача о выравнивании последовательностей</h1>\n",
    "\n",
    "Имеется две последовательности $a_1, \\ldots, a_n$ и последоватлеьность $b_1, \\ldots, b_m$. Необходимо сравнить две последовательности. Для простоты, возьмём две последовательности букв `к, р, о, л, и, к` и `и, к, р, а`.\n",
    "\n",
    "### О выравнивании\n",
    "\n",
    "Для процесса выравнивания используют символ $\\varnothing$, который представляет собой пустой пробел, например:\n",
    "\n",
    "к, р, о, л, и, к\n",
    "\n",
    "и, к, р, а, $\\varnothing$, $\\varnothing$\n",
    "\n",
    "Но компьютер не сможет сравнить эти последовательности, так как повторяющиеся символы в последовательности расположены в разных метсах. Запишем другое выравнивание:\n",
    "\n",
    "к, р, о, л, и, к, $\\varnothing$, $\\varnothing$\n",
    "\n",
    "$\\varnothing$, $\\varnothing$, $\\varnothing$, $\\varnothing$, и, к, р, а\n",
    "\n",
    "Сколько всего существует выравниваний?"
   ]
  },
  {
   "cell_type": "markdown",
   "metadata": {},
   "source": [
    "### Условия, налагаемые на выравнивания\n",
    "\n",
    "**1) Считаем, что ни в каком выравнивании не бывает ситуации когда пустой символ стоит над пустым символом;**\n",
    "\n",
    "$\\large \\begin{pmatrix}\n",
    "\\emptyset\\\\\n",
    "\\emptyset\n",
    "\\end{pmatrix}$\n",
    "\n",
    "**2) Имеется два выравнивания:**\n",
    "\n",
    "$\\large \\begin{pmatrix}\n",
    "\\ldots & a & \\emptyset & \\ldots\\\\\n",
    "\\ldots & \\emptyset & b & \\ldots\n",
    "\\end{pmatrix},$\n",
    "$\\large \\begin{pmatrix}\n",
    "\\ldots & \\emptyset & a & \\ldots\\\\\n",
    "\\ldots & b &  \\emptyset & \\ldots\n",
    "\\end{pmatrix}$\n",
    "\n",
    "И мы считаем, что первое и второе полностью идентичны, заисключением блоков, которые расположены между точками. И замечаем, что второе выравнивание не даёт никакой информации и будем отождествлять такие выравнивания. Например, отождествляются следующие выравнивания:\n",
    "\n",
    "$\\large \\begin{pmatrix}\n",
    "a & \\emptyset & \\emptyset & a\\\\\n",
    "\\emptyset & b & b & \\emptyset\n",
    "\\end{pmatrix} =$\n",
    "$\\large \\begin{pmatrix}\n",
    "\\emptyset & a & \\emptyset & a\\\\\n",
    "b & \\emptyset & b & \\emptyset\n",
    "\\end{pmatrix} =$\n",
    "$\\large \\begin{pmatrix}\n",
    "\\emptyset & \\emptyset & a & a\\\\\n",
    "b & b & \\emptyset & \\emptyset\n",
    "\\end{pmatrix}$\n",
    "\n",
    "Тем самым, выравниваний становится меньше. А сколько существует выравниваний, которые удовлетворяют этим двум условиям?\n",
    "\n",
    "<h4 align='center'>Решение:</h4>"
   ]
  },
  {
   "cell_type": "markdown",
   "metadata": {},
   "source": [
    "<h1 style=\"color:#008B8B\">Формулировка теоремы о числе выравниваний</h1>\n",
    "\n",
    "$\\large g(n, m) = g(n-1, m) + g(n, m-1)$\n",
    "\n",
    "$g(n, m)$ - количество всех возможных выравниваний последовательностей $a_1, \\ldots, a_n$ и $b_1, \\ldots, b_m$ которые удовлетворяют условиям $1$ и $2$.\n",
    "\n",
    "### Примеры:\n",
    "\n",
    "При $\\large g(1, 1) = 2$ так как:\n",
    "\n",
    "$\\large \\begin{pmatrix}\n",
    "a\\\\\n",
    "b\n",
    "\\end{pmatrix},$\n",
    "$\\large \\begin{pmatrix}\n",
    "a & \\emptyset\\\\\n",
    "\\emptyset & b\n",
    "\\end{pmatrix}$ Других вариантов нет, если соблюдать условия.\n",
    "\n",
    "При $\\large g(0, 1) = g(1, 0) = 0$ так как:\n",
    "\n",
    "$\\large \\begin{pmatrix}\n",
    "a\\\\\n",
    "\\emptyset\n",
    "\\end{pmatrix}$ Единственный вариант.\n",
    "\n",
    "Дальше, пользуясь рекурсией можем написать любое выравнивание:\n",
    "\n",
    "$\\large g(2, 2) = g(1, 2) + g(2, 1)$"
   ]
  },
  {
   "cell_type": "markdown",
   "metadata": {},
   "source": []
  },
  {
   "cell_type": "code",
   "execution_count": null,
   "metadata": {},
   "outputs": [],
   "source": []
  }
 ],
 "metadata": {
  "kernelspec": {
   "display_name": "Python 3",
   "language": "python",
   "name": "python3"
  },
  "language_info": {
   "codemirror_mode": {
    "name": "ipython",
    "version": 3
   },
   "file_extension": ".py",
   "mimetype": "text/x-python",
   "name": "python",
   "nbconvert_exporter": "python",
   "pygments_lexer": "ipython3",
   "version": "3.8.5"
  }
 },
 "nbformat": 4,
 "nbformat_minor": 4
}
