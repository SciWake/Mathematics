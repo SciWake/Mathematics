{
 "cells": [
  {
   "cell_type": "markdown",
   "metadata": {},
   "source": [
    "<h1 style=\"color:black\" align=\"center\">Итоговое тестирование</h1>\n",
    "\n",
    "<h3 style=\"color:#2E8B57\">Задача № 1</h3>\n",
    "\n",
    "\n",
    "\n",
    "<h4 align='center'>Решение:</h4>\n",
    "\n",
    "\n",
    "\n",
    "__Ответ:__"
   ]
  },
  {
   "cell_type": "markdown",
   "metadata": {},
   "source": [
    "<h3 style=\"color:#2E8B57\">Задача № 2</h3>\n",
    "\n",
    "\n",
    "\n",
    "<h4 align='center'>Решение:</h4>\n",
    "\n",
    "\n",
    "\n",
    "__Ответ:__"
   ]
  },
  {
   "cell_type": "markdown",
   "metadata": {},
   "source": [
    "<h3 style=\"color:#2E8B57\">Задача № 3</h3>\n",
    "\n",
    "\n",
    "\n",
    "<h4 align='center'>Решение:</h4>\n",
    "\n",
    "\n",
    "\n",
    "__Ответ:__"
   ]
  },
  {
   "cell_type": "markdown",
   "metadata": {},
   "source": [
    "<h3 style=\"color:#2E8B57\">Задача № 4</h3>\n",
    "\n",
    "\n",
    "\n",
    "<h4 align='center'>Решение:</h4>\n",
    "\n",
    "\n",
    "\n",
    "__Ответ:__"
   ]
  },
  {
   "cell_type": "markdown",
   "metadata": {},
   "source": [
    "<h3 style=\"color:#2E8B57\">Задача № 5</h3>\n",
    "\n",
    "\n",
    "\n",
    "<h4 align='center'>Решение:</h4>\n",
    "\n",
    "\n",
    "\n",
    "__Ответ:__"
   ]
  },
  {
   "cell_type": "markdown",
   "metadata": {},
   "source": [
    "<h3 style=\"color:#2E8B57\">Задача № 6</h3>\n",
    "\n",
    "\n",
    "\n",
    "<h4 align='center'>Решение:</h4>\n",
    "\n",
    "\n",
    "\n",
    "__Ответ:__"
   ]
  },
  {
   "cell_type": "markdown",
   "metadata": {},
   "source": [
    "<h3 style=\"color:#2E8B57\">Задача № 7</h3>\n",
    "\n",
    "\n",
    "\n",
    "<h4 align='center'>Решение:</h4>\n",
    "\n",
    "\n",
    "\n",
    "__Ответ:__"
   ]
  }
 ],
 "metadata": {
  "kernelspec": {
   "display_name": "Python 3",
   "language": "python",
   "name": "python3"
  },
  "language_info": {
   "name": ""
  }
 },
 "nbformat": 4,
 "nbformat_minor": 4
}
