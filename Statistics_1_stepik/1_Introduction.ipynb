{
 "cells": [
  {
   "cell_type": "markdown",
   "metadata": {},
   "source": [
    "<h1 style=\"color:#008B8B\">Почему “1.5” в методе обнаружения выбросов IQR?</h1>\n",
    "https://towardsdatascience.com/why-1-5-in-iqr-method-of-outlier-detection-5d07fdc82097\n",
    "\n",
    "Стандартный вопрос, который возникает при построении графика QQ-plot: Почему в 1,5 раза больше IQR? Почему не 1 или 2 или любое другое число?\n",
    "\n",
    "**IQR-метод обнаружения выбросов**\n",
    "Чтобы легко объяснить метод IQR, давайте начнем с квадратного графика.\n",
    "\n",
    "<img src=\"img/1_1.png\" width=\"600\" height=\"360\">\n",
    "\n",
    "Коробочный график более или менее говорит нам о распределении данных. Это дает представление о том, насколько на самом деле распространены данные, каков их диапазон и какова их асимметрия. Как вы могли заметить на рисунке, прямоугольная диаграмма позволяет нам сделать вывод из нее для упорядоченных данных, то есть она говорит нам о различных метриках данных, расположенных в порядке возрастания.\n",
    "\n",
    "На приведенном выше рисунке: \n",
    "* **Minimum** - это минимальное значение в наборе данных\n",
    "* **Maximum** - максимальное значение в наборе данных.\n",
    "\n",
    "Таким образом, разница между ними говорит нам о диапазоне набора данных.\n",
    "* Медиана-это середина (или центральная точка), также называемая вторым квартилем данных (возникающая из-за того, что данные упорядочены).\n",
    "* **Q1**-это первый квартиль данных, то есть, скажем, 25% данных лежит между минимумом и Q1.\n",
    "* **Q3**-это третий квартиль данных, то есть 75% данных лежит между минимумом и Q3.\n",
    "\n",
    "Разница между 3-им и 1 квартал называется **межквартильным диапазоном (Inter-Quartile Range)** или **IQR**.\n",
    "\n",
    "Чтобы обнаружить выбросы с помощью этого метода, мы определяем новый диапазон, назовем его диапазоном принятия решений, и любая точка данных, лежащая за пределами этого диапазона, рассматривается как выброс и соответственно рассматривается. Диапазон приведен ниже:\n",
    "\n",
    "`Lower Bound: (Q1 - 1.5 * IQR)`\n",
    "\n",
    "`Upper Bound: (Q3 + 1.5 * IQR)`\n",
    "\n",
    "Любая точка данных меньше Нижней границы или больше Верхней границы рассматривается как выброс.\n",
    "\n",
    "**Но вопрос был: почему только в 1,5 раза больше IQR? Почему не любой другой номер?**\n",
    "\n",
    "Ну, как вы уже могли догадаться, число (здесь 1,5, далее шкала) явно управляет чувствительностью диапазона и, следовательно, решающим правилом. При большем масштабе выброс(ы) будет рассматриваться как точка(ы) данных, в то время как при меньшем масштабе некоторые точки данных будут восприниматься как выброс(ы). И мы совершенно уверены, что ни один из этих случаев не является желательным.\n",
    "\n",
    "**Гауссовское распределение:**\n",
    "\n",
    "* Около 68,26% всех данных лежит в пределах одного стандартного отклонения (<σ) от среднего (μ), принимая во внимание обе стороны розовой области на рисунке.\n",
    "\n",
    "* Около 95,44% всех данных лежат в пределах двух стандартных отклонений (2σ) от среднего (μ), принимая во внимание обе стороны, розовую+синюю область на рисунке.\n",
    "\n",
    "* Около 99,72% всех данных лежат в пределах трех стандартных отклонений (<3σ) от среднего (μ), принимая во внимание обе стороны, розовую+синюю+зеленую область на рисунке.\n",
    "\n",
    "* А остальные 0,28% всех данных лежат за пределами трех стандартных отклонений (>3σ) от среднего (μ), принимая во внимание обе стороны, маленькую красную область на рисунке. И эта часть данных рассматривается как выбросы.\n",
    "\n",
    "* Первый и третий квартили, Q1 и Q3, лежат на -0,675 σ и +0,675 σ от среднего значения соответственно.\n",
    "\n",
    "Так как между первым и вторым квартилем данных лежит ровно 50% данных. Так как значение Q1 - это определённое стандарнтое отклонение, слева от которого находится 25% данных. Оно стоставлен -0,675σ, то есть, если посмотреть в z-таблицу мы сможем определить какое количество наблюдений будет лежать слева от 0,675 стандартных отклонений."
   ]
  },
  {
   "cell_type": "markdown",
   "metadata": {},
   "source": [
    "#### Давайте рассчитаем диапазон решения IQR с точки зрения σ\n",
    "\n",
    "**Taking scale = 1:**\n",
    "\n",
    "Lower Bound:\n",
    "\n",
    "`= Q1 - 1 * IQR\n",
    "= Q1 - 1 * (Q3 - Q1)\n",
    "= -0.675σ - 1 * (0.675 - [-0.675])σ\n",
    "= -0.675σ - 1 * 1.35σ\n",
    "= -2.025σ`\n",
    "\n",
    "Upper Bound:\n",
    "\n",
    "`= Q3 + 1 * IQR\n",
    "= Q3 + 1 * (Q3 - Q1)\n",
    "= 0.675σ + 1 * (0.675 - [-0.675])σ\n",
    "= 0.675σ + 1 * 1.35σ\n",
    "= 2.025σ`\n",
    "\n",
    "Таким образом, если шкала принята за 1, то в соответствии с методом IQR любые данные, которые лежат за пределами 2,025σ от среднего значения (μ) с любой стороны, должны рассматриваться как выбросы. Но, как мы знаем, до 3σ по обе стороны от μ данные полезны. Таким образом, мы не можем принять scale = 1, потому что это делает диапазон решений слишком эксклюзивным, что приводит к слишком большим выбросам. Другими словами, диапазон решений становится настолько маленьким (по сравнению с 3σ), что некоторые точки данных рассматриваются как выбросы, что нежелательно.\n",
    "\n",
    "**Taking scale = 2:**\n",
    "\n",
    "Lower Bound:\n",
    "\n",
    "`= Q1 - 2 * IQR\n",
    "= Q1 - 2 * (Q3 - Q1)\n",
    "= -0.675σ - 2 * (0.675 - [-0.675])σ\n",
    "= -0.675σ - 2 * 1.35σ\n",
    "= -3.375σ`\n",
    "\n",
    "Upper Bound:\n",
    "\n",
    "`= Q3 + 2 * IQR\n",
    "= Q3 + 2 * (Q3 - Q1)\n",
    "= 0.675σ + 2 * (0.675 - [-0.675])σ\n",
    "= 0.675σ + 2 * 1.35σ\n",
    "= 3.375σ`\n",
    "\n",
    "Таким образом, если шкала принята равной 2, то в соответствии с методом IQR любые данные, которые лежат за пределами 3,375σ от среднего (μ) с любой стороны, должны рассматриваться как выбросы. Но, как мы знаем, до 3σ по обе стороны от μ данные полезны. Таким образом, мы не можем взять scale = 2, потому что это делает диапазон решений слишком всеобъемлющим, что приводит к слишком малому количеству выбросов. Другими словами, диапазон решений становится настолько большим (по сравнению с 3σ), что некоторые выбросы рассматриваются как точки данных, что тоже нежелательно.\n",
    "\n",
    "**Taking scale = 1.5:**\n",
    "\n",
    "Lower Bound:\n",
    "\n",
    "`= Q1 - 1.5 * IQR\n",
    "= Q1 - 1.5 * (Q3 - Q1)\n",
    "= -0.675σ - 1.5 * (0.675 - [-0.675])σ\n",
    "= -0.675σ - 1.5 * 1.35σ\n",
    "= -2.7σ`\n",
    "\n",
    "Upper Bound:\n",
    "\n",
    "`= Q3 + 1.5 * IQR\n",
    "= Q3 + 1.5 * (Q3 - Q1)\n",
    "= 0.675σ + 1.5 * (0.675 - [-0.675])σ\n",
    "= 0.675σ + 1.5 * 1.35σ\n",
    "= 2.7σ`\n",
    "\n",
    "Если масштаб принимается равным 1,5, то в соответствии с методом IQR любые данные, выходящие за пределы 2,7σ от среднего (μ) с любой стороны, должны рассматриваться как выбросы. И этот диапазон решений наиболее близок к тому, что нам говорит распределение по Гауссу, то есть 3σ. Другими словами, это делает правило принятия решения наиболее близким к тому, что учитывает распределение Гаусса для обнаружения выбросов, и это именно то, что мы хотели.\n",
    "\n",
    "**Дополнительно:**\n",
    "\n",
    "Чтобы получить точно 3σ, нам нужно взять масштаб = 1,7, но тогда 1,5 будет более «симметричным», чем 1,7, и мы всегда были немного более склонны к симметрии, не так ли !?\n",
    "\n",
    "Кроме того, IQR-метод обнаружения выбросов - не единственный и определенно не лучший метод обнаружения выбросов, поэтому небольшой компромисс является понятным и приемлемым."
   ]
  },
  {
   "cell_type": "markdown",
   "metadata": {},
   "source": [
    "---\n",
    "**Заметки сумашедшего:**\n",
    "\n",
    "Таблица **z-значений** нормального распределения. Как её интерпретировать?\n",
    "\n",
    "Насколько я понял, вроде правильно, это таблица  p-значений.\n",
    "\n",
    "p-значение– это вероятность нахождения в данном \"куске\" нормального распределения.\n",
    "\n",
    "Пример. На графике по оси X у нас идет Z-шкала. Берем из таблицы значение Z=0.0, ему соответствует p=0.5. т.е. с вероятностью в 50% мы будем видеть в нашей выборке особей у которых Z>0.0 (т.е. больше-меньше среднеарифметической особи). Что логично.\n",
    "\n",
    "Берем из таблицы значение Z=1.04, ему соответствует p=0.1492. т.е с вероятностью в 14.9% мы будем видеть в нашей выборке особей у которых Z>1.04 (т.е. наше Z-значение уже больше одной сигмы и вероятность встретить таких особей значительно меньше стала).\n",
    "\n",
    "Когда p-значение является очень маленьким, это означает, что это очень маловероятно (маленькая вероятность).\n",
    "\n",
    "___"
   ]
  },
  {
   "cell_type": "code",
   "execution_count": 2,
   "metadata": {},
   "outputs": [],
   "source": [
    "import seaborn as sns\n",
    "import matplotlib.pyplot as plt\n",
    "import numpy as np\n",
    "from pylab import rcParams\n",
    "from math import sqrt\n",
    "\n",
    "%matplotlib inline\n",
    "%config InlineBackend.figure_format = 'png'\n",
    "rcParams['figure.figsize'] = 6, 4\n",
    "\n",
    "sns.set(style='darkgrid')\n",
    "sns.set(font_scale=1.5)"
   ]
  },
  {
   "cell_type": "markdown",
   "metadata": {},
   "source": [
    "<h1 style=\"color:black\" align=\"center\">1. Введение</h1>\n",
    "\n",
    "<h1 style=\"color:black\" align=\"center\">1.2 Генеральная совокупность</h1>\n",
    "\n",
    "<h1 style=\"color:#008B8B\">Основные термины</h1>\n",
    "\n",
    "**Генеральной совокупностью** называют всё исследуемое множество.\n",
    "\n",
    "**Выборкой** называется совокупность случайно отобранныз объекторв из генеральной совокупности (ГС)\n",
    "\n",
    "Выборка должна быть **репрезентативной** (представительной), то есть её объекты должны достаточно хоршо отражать свойства ГС.\n",
    "\n",
    "<h1 style=\"color:#008B8B\">Виды выборок</h1>\n",
    "\n",
    "**Простая случайная выборка (simple random sample)** - Случайным образом выбираем элементы ГС;\n",
    "\n",
    "**Стратифицированная выборка (stratified sample)** - Перед извлечением элементов ГС для исследования, мы разделяем ГС на несколько различных страт. Если мы хотим, чтобы в исследовании равновероятно приняли участие мужчина и женщина, мы сначала разделим ГС по признаку пола, а после используя метод \"случайной выборки\" из каждой страты выбираем элементы для исследования.\n",
    "\n",
    "**Групповая выборка (cluster sample)** - Изначально производим разделение ГС на группы (считаем, что группы практически не отличаются) и выбираем несколько групп из которых случайным образом формируем выборку."
   ]
  },
  {
   "cell_type": "markdown",
   "metadata": {},
   "source": [
    "<h1 style=\"color:black\" align=\"center\">1.3 Типы переменных</h1>\n",
    "\n",
    "1. Количественные\n",
    "    1. Непрерывные - рост на промежутке от 160 до 170;\n",
    "    2. Дискретные - число детей в семье;\n",
    "    \n",
    "2. Номинативные (качественные) - разделение на группы (женщина или мужчина).\n",
    "\n",
    "3. Ранговые. 1-е место занял Саша, 2-е место занял Том - Значения можно только сравнить, нельзя сказать насколько или во сколько 1-й сильнее 5-го). \n",
    "\n",
    "<h1 style=\"color:black\" align=\"center\">1.4 Меры центральной тенденции</h1>\n",
    "\n",
    "<h1 style=\"color:#008B8B\">Свойства среднего значения</h1>\n",
    "\n",
    "Если к каждому значению прибавить число, то среднее значение увеличится на это число:\n",
    "\n",
    "$\\large \\mu_{x + c} \n",
    "= \n",
    "\\frac{\\sum_{i=1}^n (x_i + c)}{n} \n",
    "= \n",
    "\\frac{\\sum_{i=1}^n x_i}{n} + \\frac{\\sum_{i=1}^n c}{n} \n",
    "= \n",
    "\\mu_x + \\frac{nc}{n} \n",
    "= \n",
    "\\mu_x + c$\n",
    "\n",
    "Если каждое значение умножить на некоторое число, то и среднее значение увеличится на это число:\n",
    "\n",
    "$\\large \\mu_{x \\cdot c} \n",
    "=\n",
    "\\frac{\\sum_{i=1}^n x_i \\cdot c}{n}\n",
    "=\n",
    "\\frac{c \\sum_{i=1}^n x_i}{n}\n",
    "=\n",
    "\\mu_x \\cdot c$ \n",
    "\n",
    "Сумма отклонений от среднего равна нулю:\n",
    "\n",
    "$\\large \\sum\\limits_{i=1}^n x_i - \\mu_x \n",
    "=\n",
    "n \\mu_x - n \\mu_x \n",
    "= \n",
    "0$"
   ]
  },
  {
   "cell_type": "markdown",
   "metadata": {},
   "source": [
    "<h1 style=\"color:black\" align=\"center\">1.5 Меры изменчивости</h1>\n",
    "\n",
    "<h1 style=\"color:#008B8B\">Меры изменчивости</h1>\n",
    "\n",
    "**Размах (Range)** - разность максимального и минимального значения:\n",
    "\n",
    "$\\large R = X_{max} - X_{min}$\n",
    "\n",
    "Недостаток: при добавлении большого числа, размах резко изменит значение.\n",
    "\n",
    "**Дисперсия (variance)** - Средний квадрат отклонений индивидуальных значений признака от их средней велечины.\n",
    "\n",
    "$\\large D = \\frac{1}{n} \\sum\\limits_{i=1}^n (x_i - \\mu_x)^2$\n",
    "\n",
    "Возращаемся к исходным еденицам измерения: \n",
    "\n",
    "$\\large \\sigma = \\sqrt{D}$ - **Среднеквадратичное отклонение**\n",
    "\n",
    "$\\large \\text{sd} = \\sqrt{D}$ - **Стандартное отклонение** (Необходимо при рассчёте дисперсии делить на $n-1$)\n",
    "\n",
    "\n",
    "<h1 style=\"color:#008B8B\">Свойства дисперсии</h1>\n",
    "\n",
    "**Добавление числа**\n",
    "\n",
    "$\\large D_{x + c} = D_x$ \n",
    "\n",
    "$\\large \\text{sd}_{x + c} = \\text{sd}_x$\n",
    "\n",
    "Добавление числа только сещает распределение в сторону, но не меняет форму его распределения, поэтому значение отсаётся неизменным.\n",
    "\n",
    "**Умножение на чисо**\n",
    "\n",
    "$\\large D_{x \\cdot c} = D_x \\cdot c^2$ \n",
    "\n",
    "Умножение каждого значения на константу увеличит изменчивость данных (хвосты распределения станут лежать в более широком диапозоне). \n",
    "\n",
    "$\\large \\text{sd}_{x \\cdot c} = \\text{sd}_x \\cdot c$\n",
    "\n",
    "Значит и $\\text{sd}$ увеличится в константу раз. Тогда $D$ увеличится в квадрат, так как $\\text{sd} = \\sqrt{D}$ соответственно $\\text{sd}^2 = D$."
   ]
  },
  {
   "cell_type": "markdown",
   "metadata": {},
   "source": [
    "<h1 style=\"color:black\" align=\"center\">1.7 Нормальное распределение</h1>\n",
    "<h1 style=\"color:#008B8B\">Стандартизация</h1>\n",
    "\n",
    "Стандартизация или z-преобразование - преобразование полученных данных в стандартную z-шкалу (Z-score) со средним $M_z = 0$ и $D_z = 1$\n",
    "\n",
    "Для преобразования данных в Z-шкалу, используется формула следующего вида:\n",
    "\n",
    "$\\large z_i = \\frac{x_i - \\mu}{\\sigma}$\n",
    "\n",
    "### Как работает формула?\n",
    "\n",
    "В числителе стоит $x_i - \\mu$. Вспоминаем свойство среднего, если из каждого наблюдения вычесть некоторое число, то и из самого среднего значения необходимо вычесть это число. Следовательно, $x_i - \\mu = \\mu - \\mu = 0$.\n",
    "\n",
    "Запишем формулу z-преобразования в следующем виде:\n",
    "\n",
    "$\\large z_i = \\frac{x_i - \\mu}{\\sigma} = (x_i - \\mu) \\frac{1}{\\sigma}$\n",
    "\n",
    "В новой формуле, мы умножаем $\\frac{1}{\\sigma}$ на $x_i - \\mu$ столько раз, сколько у нас наблюдений, так как преобразование производится для каждого выборочного элемента, значит, от каждого надо отнять среднее ($x_i - \\mu$) и умножить его на ($\\frac{1}{\\sigma}$). Если мы каждое значение умножаем на некоторое число, то по свойству среднего значения, среднее тоже необходимо умножить на это число. Но среднее значение равняется нулую, поэтому умножение на него не оказывает влияние.\n",
    "\n",
    "А что происходит с дисперсией? По свойству дисперсии, если каждое значение умножить на некоторое чилсло, то дисперсию необходимо умножить на квадрат этого числа:\n",
    "\n",
    "$\\large D \\cdot \\big(\\frac{1}{\\sigma}\\big)^2$\n",
    "\n",
    "Но что есть квадрат стандартного отклонения ? По определению это и есть дисперсия\n",
    "\n",
    "$\\large D \\cdot \\big(\\frac{1}{\\sigma}\\big)^2 = D \\cdot \\frac{1}{D} = 1$\n",
    "\n",
    "Сокращаем и получаем, что дисперсия равна 1."
   ]
  },
  {
   "cell_type": "markdown",
   "metadata": {},
   "source": [
    "<h1 style=\"color:#008B8B\">Практическое применение стандартизации</h1>\n",
    "\n",
    "z - преобразование часто используется, чтобы все наблюдения перевести в z - шкалу (M = 0, sd = 1) для упрощения работы с данными. Однако иногда нам необходимо рассчитать z - значение только для отдельно взятого наблюдения, чтоб выяснить насколько далеко оно отклоняется от среднего значения в единицах стандартного отклонения.\n",
    "\n",
    "z-преобразование позволяет нам ответить на вопрос \"Какой процент наблюдений лежит в абсолютно любом интересующем нас диапозоне\". **Например**, в некоторой выборке, среднее значение равняется $\\bar{x} = 150$, а стандартное отклонение равно $\\text{sd} = 8$. Какой процент наблюдений превосходит значение $154$. Выполняем z-преобразование:\n",
    "\n",
    "$\\large z_{154} = \\frac{154-150}{8} = 0.5$\n",
    "\n",
    "Воспользуемся специальной таблицой, где в диапозоне превышающем 154 (0.5) находится 30% наблюдений или вероятность встретить значение превосходящее 0.5, составляет 0.3."
   ]
  },
  {
   "cell_type": "markdown",
   "metadata": {},
   "source": [
    "<h3 style=\"color:#2E8B57\">Задача № 1</h3>\n",
    "\n",
    "Считается, что значение IQ (уровень интеллекта) у людей имеет нормальное распределение со средним значением равным 100 и стандартным отклонением равным 15 (M = 100, sd = 15). Какой приблизительно процент людей обладает IQ > 125?\n",
    "\n",
    "<h4 align='center'>Решение:</h4>"
   ]
  },
  {
   "cell_type": "code",
   "execution_count": 7,
   "metadata": {},
   "outputs": [
    {
     "name": "stdout",
     "output_type": "stream",
     "text": [
      "Только у 4.78% людей, IQ>125\n"
     ]
    }
   ],
   "source": [
    "from scipy import stats\n",
    "\n",
    "mean = 100\n",
    "std = 15\n",
    "IQ=125\n",
    "# sf - Survival function = (1 - cdf) - Cumulative distribution function\n",
    "print(f\"Только у {(stats.norm(mean, std).sf(IQ))*100:.2f}% людей, IQ>{IQ}\")"
   ]
  },
  {
   "cell_type": "markdown",
   "metadata": {},
   "source": [
    "### Иммитация доски Гальтона в коде"
   ]
  },
  {
   "cell_type": "code",
   "execution_count": 8,
   "metadata": {},
   "outputs": [
    {
     "data": {
      "image/png": "[encoded data removed]",
      "text/plain": [
       "<Figure size 432x288 with 1 Axes>"
      ]
     },
     "metadata": {},
     "output_type": "display_data"
    }
   ],
   "source": [
    "sns.set(font_scale=1.3)\n",
    "\n",
    "data = dict()\n",
    "# количество шариков\n",
    "N = 10000\n",
    "# количество уровней\n",
    "level = 20\n",
    "for _ in range(N):\n",
    "    index = 0\n",
    "    for _ in range(level):\n",
    "        index += np.random.choice([-1, 1])\n",
    "    data.setdefault(index, 0)\n",
    "    data[index] += 1\n",
    "sns.barplot(x=list(data.keys()), y=list(data.values()));"
   ]
  },
  {
   "cell_type": "markdown",
   "metadata": {},
   "source": [
    "<h1 style=\"color:black\" align=\"center\">1.8 Центральная предельная теорема</h1>\n",
    "\n",
    "Central Limit Theorem for Means\n",
    "https://gallery.shinyapps.io/CLT_mean/\n",
    "\n",
    "<h1 style=\"color:#008B8B\">Создадим нормлаьное распределение с использованием Numpy</h1>"
   ]
  },
  {
   "cell_type": "code",
   "execution_count": 9,
   "metadata": {},
   "outputs": [
    {
     "data": {
      "image/png": "[encoded data removed]",
      "text/plain": [
       "<Figure size 432x288 with 1 Axes>"
      ]
     },
     "metadata": {},
     "output_type": "display_data"
    }
   ],
   "source": [
    "mu, sigma = 0, 15\n",
    "s = np.random.normal(mu, sigma, 100000)\n",
    "\n",
    "plt.hist(s, bins=50, label = f'$\\mu$ = {mu} \\n$\\sigma$ = {sigma}')\n",
    "plt.legend(loc='upper right', fontsize=9, frameon=False)\n",
    "plt.show()"
   ]
  },
  {
   "cell_type": "markdown",
   "metadata": {},
   "source": [
    "Допустим, некоторый признак распределён нормально в ГС и имеет среднее значение равное 0 и стандартное отклонение равное 15. \n",
    "Давайте будем многократно извлекать выборки из ГС по 35 наблюдений в каждой и внутри каждой из выборок рассчитывать среднее значение и стандартное отклонение\n",
    "\n",
    "**Визуализируем первые 6 выборок:**"
   ]
  },
  {
   "cell_type": "code",
   "execution_count": 10,
   "metadata": {},
   "outputs": [
    {
     "data": {
      "image/png": "[encoded data removed]",
      "text/plain": [
       "<Figure size 864x576 with 6 Axes>"
      ]
     },
     "metadata": {},
     "output_type": "display_data"
    }
   ],
   "source": [
    "selections_mean = np.array([])\n",
    "\n",
    "# Создаём выборку\n",
    "selections = np.random.choice(s, (200, 35))\n",
    "\n",
    "#  Создаем \"Figure\" и \"Axes\":\n",
    "fig, axes = plt.subplots(nrows = 2, ncols = 3)\n",
    "\n",
    "# Выпрямляем axes, для удобного обращения\n",
    "axes = axes.flatten()\n",
    "\n",
    "# Проходим циклом по кажой выборке\n",
    "for number_axes, selection in enumerate(selections):\n",
    "    \n",
    "    if number_axes < 6: # Строим первые 6 графиков\n",
    "        \n",
    "        # Строим гистограмму\n",
    "        axes[number_axes].hist(selection, label = f' x = {selection.mean():.2f} \\n sd = {selection.std():.2f}')\n",
    "\n",
    "        # Настройка легенды\n",
    "        axes[number_axes].legend(loc='upper right', fontsize=7, frameon=False)\n",
    "\n",
    "        # Добавление заголовков\n",
    "        axes[number_axes].set(title = f'Sample {number_axes + 1}')\n",
    "\n",
    "        # Задаём значение ширины и высоты фигуры в дюймах\n",
    "        fig.set_size_inches(12, 8)\n",
    "\n",
    "        # Увеличение ширины фигуры \n",
    "        # 0.3 - это не дюймы, а доля от среднего значения горизонтальных осей графиков\n",
    "        # wspace - начинаится с буквы W, так как это сокращение от width (Ширина) Отвечает за растояние между графиками по горизонатли\n",
    "        plt.subplots_adjust(wspace=0.3, hspace=0.30)\n",
    "    \n",
    "    # Сохранение результатов в массив\n",
    "    selections_mean = np.append(selections_mean, [selection.mean()])\n",
    "    \n",
    "plt.show()"
   ]
  },
  {
   "cell_type": "markdown",
   "metadata": {},
   "source": [
    "Рассчитаем среднее значение внутри каждой из выборок (это уже сделано в переменной selections_mean) и построим распределение выборочных средних значений:"
   ]
  },
  {
   "cell_type": "code",
   "execution_count": 11,
   "metadata": {
    "scrolled": true
   },
   "outputs": [
    {
     "data": {
      "image/png": "[encoded data removed]",
      "text/plain": [
       "<Figure size 432x288 with 1 Axes>"
      ]
     },
     "metadata": {},
     "output_type": "display_data"
    }
   ],
   "source": [
    "plt.hist(selections_mean, color='#30ba8f',label = f' mean of x = {selections_mean.mean():.2f} \\n sd of x (SE) = {selections_mean.std():.2f}')\n",
    "plt.legend(loc='upper right', fontsize=9, frameon=False)\n",
    "plt.show()"
   ]
  },
  {
   "cell_type": "markdown",
   "metadata": {},
   "source": [
    "Если внутри каждой из выборок оценка реального показателя может быть не столь точной, то в среднем выборочные средние значения предоставят хороший показатель и среднее всех средних будет очень близко к среднему в ГС. На гистограмме мы видим, что большенство всех наших выборочных средних лежат рядом с нулём и какие-то отклоняются в положительную сторону и в отрицательную.\n",
    "\n",
    "Стандартное отклонение данного распределения называется стандартной ошибкой среднего и показывает на сколько в среднем выборочные значения отклоняются от среднего ГС (от среднего средних, так как оно имеет близкое значение к ГС, можно считать среднее средних - средним ГС).\n",
    "\n",
    "**Что если увеличить объём каждой из выборок?**\n",
    "Распределение признака в выборках станет напоминать картину из ГС (множество выборок вторая гистограмма). Выборочные оценки станут тоже более точными. Если мы посмотрим на выборочное распределение средних значений (зелёная гистограмма), то стандартная ошибка уменьшится, так как большинство всех выборочных наблюдений будут лежать близко с реальным показателем (средним ГС)."
   ]
  },
  {
   "cell_type": "markdown",
   "metadata": {},
   "source": [
    "<h1 style=\"color:#008B8B\">Сформулируем центральную предельную теорему</h1>\n",
    "\n",
    "Предположим исследуемый нами признак имеет нормальное распределение в ГС с некоторым средним значением и стандартным отклонением (самая первая гистограмма). Мы многократно извлекаем выборки равные $n$ по объёму и в каждой выборке рассчитываем среднее значение, после чего строим распределение этих выборочных средних (зелёная гистограмма). Такое распределение будет будет являеться нормальным со средним, которое практически совпадает со средним ГС. И данное распределение будет иметь стандартное отклонение (стандартную ошибку среднего), которая рассчитывается следующим образом: стандартное отклонение признаков в ГС разделённое на корень из числа наблюдений в выборке.\n",
    "\n",
    "$\\large se = \\frac{\\sigma}{\\sqrt{n}}$\n",
    "\n",
    "Данный показатель можно рассчитать как стандартное отклонение средних значений или воспользоваться центральной предельной теоремой, значение которой, будет практически идентично:"
   ]
  },
  {
   "cell_type": "code",
   "execution_count": 5,
   "metadata": {},
   "outputs": [
    {
     "data": {
      "text/plain": [
       "2.53546276418555"
      ]
     },
     "execution_count": 5,
     "metadata": {},
     "output_type": "execute_result"
    }
   ],
   "source": [
    "se = sigma / sqrt(35)\n",
    "se"
   ]
  },
  {
   "cell_type": "markdown",
   "metadata": {},
   "source": [
    "Чем больше наблюдений в нашей выборке, тем ближе все выборочные средние к среднему ГС, поэтому изменчивость всех выборочных средних будет тем меньше, чем больше элементов в нашей выборке. Так же чем меньше изменчивость исследуемого признака в ГС, тем реже будут возникать сильные отклонения выборочных средних от среднего в ГС.\n",
    "\n",
    "Следовательно, чем больше число наблюдений в выборке, чем меньше изменчивость исследуемого признака, тем меньше будет стандартная ошибка выборочных средних.\n",
    "\n",
    "**Использование теоремы для одной выборки** Если выполняются следующие условия: число наблюдений в выборке больше 30, эта выборка представляет собой репрезентативную выборку, то мы можем найти стандартную ошибку следующим образом: В качестве стандартного отклонения ГС использовать стандартное отклонение нашей выборки, для оценки этого параметра.\n",
    "\n",
    "$\\large se = \\frac{sd}{\\sqrt{n}}$\n",
    "\n",
    "Сформируем случайную выборку и проверим данное утверждение:"
   ]
  },
  {
   "cell_type": "code",
   "execution_count": 85,
   "metadata": {},
   "outputs": [
    {
     "name": "stdout",
     "output_type": "stream",
     "text": [
      "2.5826593208729793\n"
     ]
    }
   ],
   "source": [
    "one_sample = np.random.choice(s, 35)\n",
    "se = one_sample.std(ddof=1) / sqrt(35)\n",
    "print(se)"
   ]
  },
  {
   "cell_type": "markdown",
   "metadata": {},
   "source": [
    "Даже при небольшом объёме выборки мы получаем близку стандартную ошибку среднего. Основываясь только на данных одной выборки, мы можем предположить, как бы вели себя все выборочные средние, если бы мы многократно повторяли это исследование. Все выборочные средние распределились вокруг среднего ГС (среднего всех средних) с стандартным отклонением, которое равняется ~2.53"
   ]
  },
  {
   "cell_type": "markdown",
   "metadata": {},
   "source": [
    "## Центральная предельная теорема для равномерного распределения\n",
    "\n",
    "А что произойдет, если признак в генеральной совокупности будет распределен ненормально? Допустим, это будет равномерное распределение?\n",
    "\n",
    "Вот это поворот! Оказывается и в такой ситуации, распределение выборочных средних тоже окажется близким к нормальному. Это вынуждает нас значительно дополнить определение ЦПТ, которая сформулирована в прошлом шаге.\n",
    "\n",
    "Можно сказать, что ЦПТ - это значительно более сильное по смыслу утверждение:\n",
    "Пусть есть признак, распределенный КАК  УГОДНО* с некоторым средним и некоторым стандартным отклонением. Тогда, если мы будем выбирать из этой совокупности выборки объема n, то их средние тоже будут распределены нормально со средним равным среднему признака в ГС и стандартным отклонением, se, формулу которого мы уже приводили в прошлых шагах.\n",
    "\n",
    "Это довольно важное замечание, так как на практике мы часто сталкиваемся с признаками, у которых распределение ненормальное, но это не означает, что мы не можем проверять статистические гипотезы в таком случае. Не смотря на то, что сам признак распределен ненормальным образом!\n",
    "\n",
    "* определенные ограничения на распределение все-таки накладываются, например, распределение должно обладать конечной дисперсией, да и так бывает, бывают распределения, у которых дисперсия и вовсе не определена!\n",
    "\n",
    "\n",
    "**Замечание:** Просто взять и подставить выборочное стандартное отклонение - весьма грубое упрощение, которым не пользуются на практике. А как надо, описано во втором модуле."
   ]
  },
  {
   "cell_type": "markdown",
   "metadata": {},
   "source": [
    "<h1 style=\"color:black\" align=\"center\">1.9 Доверительный интервал</h1>\n",
    "\n",
    "<h1 style=\"color:#008B8B\">Для чего нужен доверитлеьный интервал?</h1>\n",
    "\n",
    "Целью статистики является возможность сделать выводы относительно ГС, основываясь только на выборочных данных. Очень часто, исследователя интересует, чему равно среднее значение исследуемого признака во всей ГС. \n",
    "\n",
    "**Пример**: Уровень экспрессии некоторого гена измерялся у мужчин и женщин в возрасте от 18 до 30 лет. Ниже представлены результаты 64 наблюдений."
   ]
  },
  {
   "cell_type": "code",
   "execution_count": 24,
   "metadata": {},
   "outputs": [],
   "source": [
    "data = np.array([102, 91, 99, 100, 103, 98, 99, 101, 106, 88, 103, 97, 103, 101, 101, 91, 104, 105, 105, \n",
    "                 100, 101, 91, 99, 98, 107, 102, 100, 97, 98, 104, 100, 98, 102, 99, 95, 103, 104, 97, \n",
    "                 99, 102, 98, 107, 101, 93, 98, 101, 93, 91, 107, 102, 96, 93, 100, 105, 103, 107, 99, \n",
    "                 102, 106, 102, 94, 104, 103, 102,])\n",
    "\n",
    "std_data = data.std(ddof=1) \n",
    "mean_data = data.mean()\n",
    "count_data = len(data)"
   ]
  },
  {
   "cell_type": "markdown",
   "metadata": {},
   "source": [
    "Исследователей интересует, чему равен средний показатель экспрессии гена в ГС, а не в выборке (в выборке он равен 100). ГС являются все мужчины и женщины в указанном возрастном промежутке и пригласить всех этих людей является сложной задачей. \n",
    "\n",
    "Мы не сможем точно определить среднее ГС, но мы можем рассчитать такой интервал, относительно которого мы можем быть уверены в том, что он включает в себя среднее ГС.\n",
    "\n",
    "Вспомним свойства нормального распределения и ЦПТ. Если бы мы многократно повторяли наш эксперемент, то все выборочные средние распределились бы нормальным образом, вокруг среднего ГС со стандартным отклонение (стандартной ошибкой среднего), которая равняется $se = \\frac{sd}{\\sqrt{n}}$. Мы так же знаем, что 95% всех выборочных средних лежали бы в диапозоне $\\mu \\pm 1.96 \\sigma$. Но у нас выборочное средне, поэтому мы говорим о стандартной ошибке среднего $\\mu \\pm 1.96 se$.\n",
    "\n",
    "Предположим, мы рассчитываем доверительный интервал для каждого выборочного среднего (каждый цвет отражает среднее). Зелёный, красный и чёрный интервал включает в себя среднее ГС:\n",
    "\n",
    "<img src=\"img/1_2.png\" width=\"600\" height=\"360\">\n",
    "\n",
    "Таким, образом 95% выборочных средних включили бы в себя среднее ГС, если бы мы рассчитывали данный интервал. И только те выборочные срдение, которые достаточно далеко отклонились от среднего ГС (x4), не включили бы в свой 95% доверительный интервал среднее ГС. "
   ]
  },
  {
   "cell_type": "markdown",
   "metadata": {},
   "source": [
    "**Вывод:** Если бы многократно извлекали выборки одинкового размера из ГС, в каждой выборке рассчитывали среднее значение и для него свой 95% доверительный интервал ($\\bar{x} \\pm 1.96 se$), то в 95% всех случаев, такой интервал включал бы в себя срденее ГС. Мы можем быть на 95% уверены, что он включает в себя срденее ГС.\n",
    "\n",
    "**Рассчитаем такой интервал для нашего примера:**"
   ]
  },
  {
   "cell_type": "code",
   "execution_count": 88,
   "metadata": {},
   "outputs": [
    {
     "data": {
      "text/plain": [
       "0.5563486402641868"
      ]
     },
     "execution_count": 88,
     "metadata": {},
     "output_type": "execute_result"
    }
   ],
   "source": [
    "se = std_data / sqrt(count_data)\n",
    "se"
   ]
  },
  {
   "cell_type": "markdown",
   "metadata": {},
   "source": [
    "Для рассчёта нам необходимо найти левую и правую границу, а центром будет выступать выборочное среднее. "
   ]
  },
  {
   "cell_type": "code",
   "execution_count": 89,
   "metadata": {},
   "outputs": [
    {
     "name": "stdout",
     "output_type": "stream",
     "text": [
      "98.91 |----100.0----| 101.09\n"
     ]
    }
   ],
   "source": [
    "left = mean_data - 1.96 * se\n",
    "right = mean_data + 1.96 * se\n",
    "\n",
    "print(f'{left:.2f} |----{mean_data}----| {right:.2f}')"
   ]
  },
  {
   "cell_type": "markdown",
   "metadata": {},
   "source": [
    "**99% доверительный интервал:** Если 95% всех наблюдений в нормлаьном распределении находятся в диапозоне $\\mu \\pm 1.96\\sigma$.То 99% лежат в диапозоне $\\mu \\pm 2.58\\sigma$, такой интервал будет более широкий и мы можем быть более уверены, что срденее входит в данный доверительный интервал."
   ]
  },
  {
   "cell_type": "markdown",
   "metadata": {},
   "source": [
    "<h3 style=\"color:#2E8B57\">Задача № 1</h3>\n",
    "\n",
    "Если мы рассчитали 95% доверительный интервал для среднего значения, то какие из следующих утверждений являются верными?\n",
    "\n",
    "<h4 align='center'>Решение:</h4>\n",
    "\n",
    " - <font color='crimson'>Среднее значение в генеральной совокупности точно принадлежит рассчитанному доверительному интервалу.</font>\n",
    " - <font color='green'>Мы можем быть на 95% уверены, что среднее значение в генеральной совокупности принадлежит рассчитанному доверительному интервалу.</font>\n",
    " - <font color='green'>Если многократно повторять эксперимент, для каждой выборки рассчитывать свой доверительный интервал, то в 95 % случаев истинное среднее будет находиться внутри доверительного интервала.</font>\n",
    " - <font color='crimson'>Среднее значение в генеральной совокупности точно превышает нижнюю границу 95% доверительного интервала.</font>\n",
    " - <font color='crimson'>Если многократно повторять эксперимент, то 95 % выборочных средних значений будут принадлежать рассчитанному нами доверительному интервалу.</font>"
   ]
  },
  {
   "cell_type": "markdown",
   "metadata": {},
   "source": [
    "### Почему 1.96 se?\n",
    "\n",
    "Возьмём $\\pm 2 se$. Используя таблицу Z-значний, найдем, с какой вероятность можно встретить значение не превосходящее $2se$. Используя Z-тбалицу мы получаем вероятность равную $0.9772$, то есть, $97.72%$ выборочных средних будут лежать слева от $2se$. А вероятность встретить значение превосходящее $2se$ составляет $1 - 0.9772 = 0.0228$, то есть, $2.28%$ выборочных средних будут лежать за справа от $2se$.\n",
    "\n",
    "Но мы хотим знать, а какой процент наблюдений лежит в пределе $\\pm 2se$, для этого из всё площади под кривой вычитаем хвосты для $-2se$ и для $2se$. Получаем $1 - 0.0228 \\cdot 2 = 0.9544$ вероятность встретить выборочные средние в пределах $\\pm 2se$.\n",
    "\n",
    "Нам необходимо именно 95% выборочных средних, найдём такую сигму. Для этого нам необходимо найти такое значение, где между $x se$ будет лежать 95% выборочных срдених, а это есть $1.96se$. Находится аналогично, как и для $2 se$. \n",
    "\n",
    "Данные рассчёты справедливы для стандартного отклонения, так как стандартная ошибка срденего - это и есть стандартное отклонение выборочных средних."
   ]
  },
  {
   "cell_type": "code",
   "execution_count": 25,
   "metadata": {},
   "outputs": [
    {
     "name": "stdout",
     "output_type": "stream",
     "text": [
      "1.96 sigma\n"
     ]
    }
   ],
   "source": [
    "'''Вычисление 1.96 c помощью scipy'''\n",
    "from scipy import stats\n",
    "\n",
    "# 95%\n",
    "p = 0.95\n",
    "# так как у нас двухсторонний интервал, сделаем вычисление\n",
    "alpha = (1-p)/2\n",
    "# isf - Inverse survival function (inverse of sf) \n",
    "print(f'{stats.norm().isf(alpha):.2f} sigma')"
   ]
  },
  {
   "cell_type": "markdown",
   "metadata": {},
   "source": [
    "<h3 style=\"color:#2E8B57\">Задача № 2</h3>\n",
    "\n",
    "Рассчитайте 99% доверительный интервал для следующего примера:  среднее = 10, стандартное отклонение = 5, размер выборки = 100\n",
    "\n",
    "<h4 align='center'>Решение:</h4>"
   ]
  },
  {
   "cell_type": "code",
   "execution_count": 27,
   "metadata": {},
   "outputs": [
    {
     "name": "stdout",
     "output_type": "stream",
     "text": [
      "[8.71; 11.29]\n"
     ]
    }
   ],
   "source": [
    "from numpy import sqrt\n",
    "from scipy import stats\n",
    "\n",
    "p = 0.99\n",
    "mean = 10\n",
    "std = 5\n",
    "n = 100\n",
    "\n",
    "se = std/sqrt(n)\n",
    "alpha = (1-p)/2\n",
    "sigma = stats.norm().isf(alpha)\n",
    "сonfidence_interval = mean - sigma*se, mean + sigma*se\n",
    "print('[%.2f; %.2f]' % сonfidence_interval)"
   ]
  },
  {
   "cell_type": "markdown",
   "metadata": {},
   "source": [
    "<h1 style=\"color:black\" align=\"center\">1.10 Идея статистического вывода, p-уровень значимости</h1>\n",
    "\n",
    "Distribution Calculator - Адрес сайта, используемого для расчета p - уровня значимости:\n",
    "\n",
    "https://vavilovva.shinyapps.io/dist_calc/\n",
    "\n",
    "<h1 style=\"color:#008B8B\">Формирование гипотез</h1>\n",
    "\n",
    "Предположим, нам известно, что на выздоровление при некотором заболевании в среднем требуется $\\mu = 20$ дней. Однако, мы разработали новый препорат и хотим проверить, можно ли сократить время выздоравления. Мы собрали выборку из $n = 64$ пациентов и опробывали на них новый метод лечения, оказалось что средний срок выздоравления сократился до $\\bar{x} = 18.5$ дней при стандартном отклонении равном $sd = 4$. \n",
    "\n",
    "Данный результат мог быть получен совершенно случайно, давайте проверим это. **Сформируем необходимые гипотезы:**\n",
    "\n",
    "$H_0: \\mu_\\text{новый препорат} = 20$ - Никакого воздействия препорат не оказывает и среднее значение в ГС тех пациентов, кто использует новый препорат, не отличается от 20.\n",
    "\n",
    "$H_1: \\mu_\\text{новый препорат} \\ne 20$ - Альтернативная гипотеза гворит о том, что препорат оказывает влияние на выздоровление, и что среднее значение скорости выздоравления тех, кто принимает данный препорат не равнятся 20.\n",
    "\n",
    "Предположим, что на самом деле верна нулевая гипотеза. Тогда мы знаем, что в соответствии с ЦПТ, если бы мы многократно повторяли наше исследование, то выборочные средние распределились бы нормльным образом, вокруг среднего ГС ($\\mu = 20$) и со стандартной ошибкой среднего равной:\n",
    "\n",
    "$\\large se = \\frac{4}{\\sqrt{64}} = 0.5$\n",
    "\n",
    "Насколько далеко наше выборочное среднее отклонилось от предпологаемого среднего в ГС в еденицах стандартного отклонения. Для этого необходимо сделать Z-преобразование:\n",
    "\n",
    "$\\large z_{18.5} = \\frac{18.5 - 20}{0.5} = -3$\n",
    "\n",
    "Это означает, что если в ГС среднее значение на самом деле равнялось 20, то наше выборочное среднее отклонилось бы от среднего ГС на $-3 \\sigma$ в левую сторону.\n",
    "\n",
    "**Рассчёт вероятности:** Воспользуемся свойствами нормлаьного распределения и рассчитаем вероятность такого (-3) или ещё более выраженного отклонения от среднего значения. Рассчитаем это значение с использование Python:"
   ]
  },
  {
   "cell_type": "code",
   "execution_count": 11,
   "metadata": {},
   "outputs": [
    {
     "data": {
      "text/plain": [
       "0.0026997960632601866"
      ]
     },
     "execution_count": 11,
     "metadata": {},
     "output_type": "execute_result"
    }
   ],
   "source": [
    "from scipy import stats\n",
    "\n",
    "2*(stats.norm.cdf(-3))"
   ]
  },
  {
   "cell_type": "markdown",
   "metadata": {},
   "source": [
    "Вероятность отклониться от среднего больше чем на 3 стандартных отклонения составляет 0.0027. На первом этапе мы предположили, что верна нулевая гипотеза. Чем меньше p-value тем больше у исследователя оснований отклонить нулевую гипотезу, считается если p-value меньше чем 0.05, тогда можно принимать альтернативную гипотезу.\n",
    "\n",
    "**Заметка:** Зачем рассчитывать вероятность отклонения в другую сторону? Если мы проверяли гипотизу о том, что препорат ускорит скорость выздоровления, зачем учитывать веротяность того, что он её понизит, причём с таким большим отклонением в другую сторону? Так как вероятность - это площадь под кривой и если мы будем рассматривать только одно отклонение, тогда вероятность данного события будет меньше, поэтому в статистики учитываются оба конца распределения. Ведь мы не знаем в какую сторону мы получим отклонения от среднего. \n",
    "\n",
    "Иногда используется односторонний критерий тогда, когда отклонение в одну из сторон попросту невозможно, что бывает довольно редко.\n",
    "\n",
    "### Ошибки статистического вывода:\n",
    "\n",
    "`1-го рода` - отклонили нулевую гипотезу, когда она оказалась верной.\n",
    "\n",
    "`2-го рода` - не отклонили нулевую гипотезу, когда верна альтернативная."
   ]
  },
  {
   "cell_type": "markdown",
   "metadata": {},
   "source": [
    "<h3 style=\"color:#2E8B57\">Задача № 1</h3>\n",
    "\n",
    "Укажите, какие утверждения относительно p-уровня значимости являются верными.  Правильными могут быть все утверждения, некоторые, одно, а может не быть вообще.\n",
    "\n",
    "<h4 align='center'>Решение:</h4>\n",
    "\n",
    "* Т.к. в нашем исследовании p уровень значимости равен 0,003, то вероятность того, что верна нулевая гипотеза (новый препарат не влияет на скорость выздоровления) также равняется всего-лишь 0,003.\n",
    "\n",
    "Возьмем монетку, подбросим ее 10 раз и все 10 раз выпал орёл. Вероятность такого события это $\\frac{1}{2^{10}} = 0.0009765625$ - это не вероятность того, что монетка является честной и работает правильно. Это вероятность того, что если допустить то, что монетка работает правильно, вероятность такого события была бы $0.0009765625$.\n",
    "\n",
    "Аналогично и с p-уровенем значимости. Если мы получили в эксперементе p-уровень значимости равный 0.05, это означает, что если верна нулевая гипотеза - вероятность получить такие или ещё более выраженные различия равняется 0.05.\n",
    " \n",
    "* Если бы в исследовании мы получили p=0,9, это означало бы, что верна нулевая гипотеза, и новый препарат не влияет на скорость выздоровления.\n",
    "\n",
    "Если p-уровень значимости оказался больше 0.05, какой вывод мы можем заключить? Это значит, что у нас недостаточно оснований для отклонения нулевой гипотезы. Если p-уровень значимости равен 0.3, это означает что наши данные хорошо согласуются с нулевой гипотезой. Это не означает что нулева гипотеза верна, тем более с вероятностью 70% или 30%. p-уровень значимости просто не позволяет нам отклонить нулевую гипотезу.\n",
    "\n",
    "* Чем меньше p уровень значимости, тем сильнее получаемые различия. Например, если бы p уровень значимости в нашем исследовании был бы равен 0,0001, значит новый препарат еще сильнее бы влиял на скорость выздоровления.\n",
    "\n",
    "p-уровень значимости ничего не сообщает о силе эффекта, о величичене различий. Можно получить довольно значимое различие, которое будет небольшим, а можно получить сокращение госпитализации на неделю, но абсолютно не значимое с точки зрения статистики.\n",
    "\n",
    "* Статистически значимый результат, всегда означает ценный и осмысленный результат.\n",
    "\n",
    "p-уровень значимости ничего не говорит о правильности, о ценности, о научности получаемых результатов. Статистика является только инструемнтом. Любую гипотезу можно подтвердить статистически - бесконечно долгим повтороением эксперемента до тех пор, пока случайно мы не получим статистически значимые различия.\n",
    "\n",
    "* Вероятность случайно получить такие различия равняется 0,003.\n",
    "\n",
    "* [Правильный вариант] Все утверждения выше неверны.\n",
    "\n",
    "### Статья о интерпретации p-value\n",
    "\n",
    "https://habr.com/ru/company/stepic/blog/250527/"
   ]
  },
  {
   "cell_type": "markdown",
   "metadata": {},
   "source": [
    "<h3 style=\"color:#2E8B57\">Задача № 2</h3>\n",
    "\n",
    "В среднем слушатели курса по введению в статистику набирают 115 баллов, однако, в 2015 году средний балл случайно выбранных 144 участников составил 118 со стандартным отклонением равным 9. Рассчитайте p уровень значимости для проверки нулевой гипотезы о том, что среднее значение баллов в 2015 году равняется 115.\n",
    "\n",
    "<h4 align='center'>Решение:</h4>\n",
    "\n",
    "$\\text{Изначальная выборка } \\mu = 115$\n",
    "\n",
    "$\\text{Выборка 2015 года } \\bar{X} = 118 \\qquad N = 144 \\qquad sd = 9$\n",
    "\n",
    "**Сформируем необходимые гипотезы:**\n",
    "\n",
    "$H_0: \\mu_\\text{2015} = 115$ - Нет различия в среднем балле учеников прошлых лет и учеников в 2015 году. Среднее значение в ГС тех учеников, кто проходил курс в 2015 году, не отличается от 115.\n",
    "\n",
    "$H_1: \\mu_\\text{2015} \\ne 115$ - Альтернативная гипотеза гворит о том, что средний балл учеников за 2015 год отличается от среднего балла в прошлых годах.\n",
    "\n",
    "$\\large se = \\frac{sd}{\\sqrt{N}} = \\frac{9}{\\sqrt{144}} = 0.75$\n",
    "\n",
    "$\\large z = \\frac{\\bar{X} - \\mu}{\\frac{sd}{\\sqrt{N}}} = \\frac{118-115}{0.75} = 4$\n",
    "\n",
    "Это означает, что если в ГС среднее значение на самом деле равнялось 115, то наше выборочное среднее отклонилось бы от среднего ГС на $4 \\sigma$ в правую сторону. Скорее всего, это выборочное среднее принадлежит другой генеральной совокупности, проверим наше предположение расчитав p-value:"
   ]
  },
  {
   "cell_type": "code",
   "execution_count": 29,
   "metadata": {},
   "outputs": [
    {
     "data": {
      "text/plain": [
       "6.334248366623973e-05"
      ]
     },
     "execution_count": 29,
     "metadata": {},
     "output_type": "execute_result"
    }
   ],
   "source": [
    "from scipy import stats\n",
    "\n",
    "2*(stats.norm.cdf(-4))"
   ]
  },
  {
   "cell_type": "markdown",
   "metadata": {},
   "source": [
    "На первом этапе мы предположили, что верна нулевая гипотеза. Так как p-value < 0.05, значит у нас достаточно основай чтобы отклонить нулевую гипотезу."
   ]
  }
 ],
 "metadata": {
  "kernelspec": {
   "display_name": "Python 3 (ipykernel)",
   "language": "python",
   "name": "python3"
  },
  "language_info": {
   "codemirror_mode": {
    "name": "ipython",
    "version": 3
   },
   "file_extension": ".py",
   "mimetype": "text/x-python",
   "name": "python",
   "nbconvert_exporter": "python",
   "pygments_lexer": "ipython3",
   "version": "3.9.7"
  },
  "varInspector": {
   "cols": {
    "lenName": 16,
    "lenType": 16,
    "lenVar": 40
   },
   "kernels_config": {
    "python": {
     "delete_cmd_postfix": "",
     "delete_cmd_prefix": "del ",
     "library": "var_list.py",
     "varRefreshCmd": "print(var_dic_list())"
    },
    "r": {
     "delete_cmd_postfix": ") ",
     "delete_cmd_prefix": "rm(",
     "library": "var_list.r",
     "varRefreshCmd": "cat(var_dic_list()) "
    }
   },
   "types_to_exclude": [
    "module",
    "function",
    "builtin_function_or_method",
    "instance",
    "_Feature"
   ],
   "window_display": false
  }
 },
 "nbformat": 4,
 "nbformat_minor": 4
}
