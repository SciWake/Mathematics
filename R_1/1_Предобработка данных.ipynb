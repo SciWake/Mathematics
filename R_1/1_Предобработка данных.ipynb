{
 "cells": [
  {
   "cell_type": "markdown",
   "id": "9df3b844",
   "metadata": {},
   "source": [
    "<h1 style=\"color:black\" align=\"center\">1.5 Описательные статистики</h1>"
   ]
  },
  {
   "cell_type": "markdown",
   "id": "397e80f4",
   "metadata": {},
   "source": [
    "## Step 2: Data preprocessing"
   ]
  },
  {
   "cell_type": "code",
   "execution_count": 77,
   "id": "6052300f",
   "metadata": {},
   "outputs": [
    {
     "name": "stdout",
     "output_type": "stream",
     "text": [
      "'data.frame':\t32 obs. of  11 variables:\n",
      " $ mpg : num  21 21 22.8 21.4 18.7 18.1 14.3 24.4 22.8 19.2 ...\n",
      " $ cyl : num  6 6 4 6 8 6 8 4 4 6 ...\n",
      " $ disp: num  160 160 108 258 360 ...\n",
      " $ hp  : num  110 110 93 110 175 105 245 62 95 123 ...\n",
      " $ drat: num  3.9 3.9 3.85 3.08 3.15 2.76 3.21 3.69 3.92 3.92 ...\n",
      " $ wt  : num  2.62 2.88 2.32 3.21 3.44 ...\n",
      " $ qsec: num  16.5 17 18.6 19.4 17 ...\n",
      " $ vs  : num  0 0 1 1 0 1 0 1 1 1 ...\n",
      " $ am  : num  1 1 1 0 0 0 0 0 0 0 ...\n",
      " $ gear: num  4 4 4 3 3 3 3 4 4 4 ...\n",
      " $ carb: num  4 4 1 1 2 1 4 2 2 4 ...\n"
     ]
    }
   ],
   "source": [
    "df  <- mtcars\n",
    "\n",
    "str(df)\n",
    "\n",
    "df$vs  <- factor(df$vs  , labels = c(\"V\", \"S\"))\n",
    "df$am  <- factor(df$am  , labels = c(\"Auto\", \"Manual\"))"
   ]
  },
  {
   "cell_type": "code",
   "execution_count": 78,
   "id": "fba0a6b7",
   "metadata": {},
   "outputs": [
    {
     "data": {
      "text/html": [
       "53.9081957335938"
      ],
      "text/latex": [
       "53.9081957335938"
      ],
      "text/markdown": [
       "53.9081957335938"
      ],
      "text/plain": [
       "[1] 53.9082"
      ]
     },
     "metadata": {},
     "output_type": "display_data"
    }
   ],
   "source": [
    "sd(df$hp[df$cyl != 3 & df$am == \"Auto\"])"
   ]
  },
  {
   "cell_type": "markdown",
   "id": "12da1638",
   "metadata": {},
   "source": [
    "## Step 5: Aggregation"
   ]
  },
  {
   "cell_type": "code",
   "execution_count": 79,
   "id": "1e3043a7",
   "metadata": {},
   "outputs": [
    {
     "data": {
      "text/html": [
       "<table class=\"dataframe\">\n",
       "<caption>A data.frame: 6 × 11</caption>\n",
       "<thead>\n",
       "\t<tr><th></th><th scope=col>mpg</th><th scope=col>cyl</th><th scope=col>disp</th><th scope=col>hp</th><th scope=col>drat</th><th scope=col>wt</th><th scope=col>qsec</th><th scope=col>vs</th><th scope=col>am</th><th scope=col>gear</th><th scope=col>carb</th></tr>\n",
       "\t<tr><th></th><th scope=col>&lt;dbl&gt;</th><th scope=col>&lt;dbl&gt;</th><th scope=col>&lt;dbl&gt;</th><th scope=col>&lt;dbl&gt;</th><th scope=col>&lt;dbl&gt;</th><th scope=col>&lt;dbl&gt;</th><th scope=col>&lt;dbl&gt;</th><th scope=col>&lt;fct&gt;</th><th scope=col>&lt;fct&gt;</th><th scope=col>&lt;dbl&gt;</th><th scope=col>&lt;dbl&gt;</th></tr>\n",
       "</thead>\n",
       "<tbody>\n",
       "\t<tr><th scope=row>Mazda RX4</th><td>21.0</td><td>6</td><td>160</td><td>110</td><td>3.90</td><td>2.620</td><td>16.46</td><td>V</td><td>Manual</td><td>4</td><td>4</td></tr>\n",
       "\t<tr><th scope=row>Mazda RX4 Wag</th><td>21.0</td><td>6</td><td>160</td><td>110</td><td>3.90</td><td>2.875</td><td>17.02</td><td>V</td><td>Manual</td><td>4</td><td>4</td></tr>\n",
       "\t<tr><th scope=row>Datsun 710</th><td>22.8</td><td>4</td><td>108</td><td> 93</td><td>3.85</td><td>2.320</td><td>18.61</td><td>S</td><td>Manual</td><td>4</td><td>1</td></tr>\n",
       "\t<tr><th scope=row>Hornet 4 Drive</th><td>21.4</td><td>6</td><td>258</td><td>110</td><td>3.08</td><td>3.215</td><td>19.44</td><td>S</td><td>Auto  </td><td>3</td><td>1</td></tr>\n",
       "\t<tr><th scope=row>Hornet Sportabout</th><td>18.7</td><td>8</td><td>360</td><td>175</td><td>3.15</td><td>3.440</td><td>17.02</td><td>V</td><td>Auto  </td><td>3</td><td>2</td></tr>\n",
       "\t<tr><th scope=row>Valiant</th><td>18.1</td><td>6</td><td>225</td><td>105</td><td>2.76</td><td>3.460</td><td>20.22</td><td>S</td><td>Auto  </td><td>3</td><td>1</td></tr>\n",
       "</tbody>\n",
       "</table>\n"
      ],
      "text/latex": [
       "A data.frame: 6 × 11\n",
       "\\begin{tabular}{r|lllllllllll}\n",
       "  & mpg & cyl & disp & hp & drat & wt & qsec & vs & am & gear & carb\\\\\n",
       "  & <dbl> & <dbl> & <dbl> & <dbl> & <dbl> & <dbl> & <dbl> & <fct> & <fct> & <dbl> & <dbl>\\\\\n",
       "\\hline\n",
       "\tMazda RX4 & 21.0 & 6 & 160 & 110 & 3.90 & 2.620 & 16.46 & V & Manual & 4 & 4\\\\\n",
       "\tMazda RX4 Wag & 21.0 & 6 & 160 & 110 & 3.90 & 2.875 & 17.02 & V & Manual & 4 & 4\\\\\n",
       "\tDatsun 710 & 22.8 & 4 & 108 &  93 & 3.85 & 2.320 & 18.61 & S & Manual & 4 & 1\\\\\n",
       "\tHornet 4 Drive & 21.4 & 6 & 258 & 110 & 3.08 & 3.215 & 19.44 & S & Auto   & 3 & 1\\\\\n",
       "\tHornet Sportabout & 18.7 & 8 & 360 & 175 & 3.15 & 3.440 & 17.02 & V & Auto   & 3 & 2\\\\\n",
       "\tValiant & 18.1 & 6 & 225 & 105 & 2.76 & 3.460 & 20.22 & S & Auto   & 3 & 1\\\\\n",
       "\\end{tabular}\n"
      ],
      "text/markdown": [
       "\n",
       "A data.frame: 6 × 11\n",
       "\n",
       "| <!--/--> | mpg &lt;dbl&gt; | cyl &lt;dbl&gt; | disp &lt;dbl&gt; | hp &lt;dbl&gt; | drat &lt;dbl&gt; | wt &lt;dbl&gt; | qsec &lt;dbl&gt; | vs &lt;fct&gt; | am &lt;fct&gt; | gear &lt;dbl&gt; | carb &lt;dbl&gt; |\n",
       "|---|---|---|---|---|---|---|---|---|---|---|---|\n",
       "| Mazda RX4 | 21.0 | 6 | 160 | 110 | 3.90 | 2.620 | 16.46 | V | Manual | 4 | 4 |\n",
       "| Mazda RX4 Wag | 21.0 | 6 | 160 | 110 | 3.90 | 2.875 | 17.02 | V | Manual | 4 | 4 |\n",
       "| Datsun 710 | 22.8 | 4 | 108 |  93 | 3.85 | 2.320 | 18.61 | S | Manual | 4 | 1 |\n",
       "| Hornet 4 Drive | 21.4 | 6 | 258 | 110 | 3.08 | 3.215 | 19.44 | S | Auto   | 3 | 1 |\n",
       "| Hornet Sportabout | 18.7 | 8 | 360 | 175 | 3.15 | 3.440 | 17.02 | V | Auto   | 3 | 2 |\n",
       "| Valiant | 18.1 | 6 | 225 | 105 | 2.76 | 3.460 | 20.22 | S | Auto   | 3 | 1 |\n",
       "\n"
      ],
      "text/plain": [
       "                  mpg  cyl disp hp  drat wt    qsec  vs am     gear carb\n",
       "Mazda RX4         21.0 6   160  110 3.90 2.620 16.46 V  Manual 4    4   \n",
       "Mazda RX4 Wag     21.0 6   160  110 3.90 2.875 17.02 V  Manual 4    4   \n",
       "Datsun 710        22.8 4   108   93 3.85 2.320 18.61 S  Manual 4    1   \n",
       "Hornet 4 Drive    21.4 6   258  110 3.08 3.215 19.44 S  Auto   3    1   \n",
       "Hornet Sportabout 18.7 8   360  175 3.15 3.440 17.02 V  Auto   3    2   \n",
       "Valiant           18.1 6   225  105 2.76 3.460 20.22 S  Auto   3    1   "
      ]
     },
     "metadata": {},
     "output_type": "display_data"
    }
   ],
   "source": [
    "head(df)"
   ]
  },
  {
   "cell_type": "code",
   "execution_count": 80,
   "id": "70a1ec85",
   "metadata": {},
   "outputs": [
    {
     "data": {
      "text/html": [
       "<table class=\"dataframe\">\n",
       "<caption>A data.frame: 2 × 2</caption>\n",
       "<thead>\n",
       "\t<tr><th scope=col>Group.1</th><th scope=col>x</th></tr>\n",
       "\t<tr><th scope=col>&lt;fct&gt;</th><th scope=col>&lt;dbl&gt;</th></tr>\n",
       "</thead>\n",
       "<tbody>\n",
       "\t<tr><td>V</td><td>189.72222</td></tr>\n",
       "\t<tr><td>S</td><td> 91.35714</td></tr>\n",
       "</tbody>\n",
       "</table>\n"
      ],
      "text/latex": [
       "A data.frame: 2 × 2\n",
       "\\begin{tabular}{ll}\n",
       " Group.1 & x\\\\\n",
       " <fct> & <dbl>\\\\\n",
       "\\hline\n",
       "\t V & 189.72222\\\\\n",
       "\t S &  91.35714\\\\\n",
       "\\end{tabular}\n"
      ],
      "text/markdown": [
       "\n",
       "A data.frame: 2 × 2\n",
       "\n",
       "| Group.1 &lt;fct&gt; | x &lt;dbl&gt; |\n",
       "|---|---|\n",
       "| V | 189.72222 |\n",
       "| S |  91.35714 |\n",
       "\n"
      ],
      "text/plain": [
       "  Group.1 x        \n",
       "1 V       189.72222\n",
       "2 S        91.35714"
      ]
     },
     "metadata": {},
     "output_type": "display_data"
    },
    {
     "data": {
      "text/html": [
       "<table class=\"dataframe\">\n",
       "<caption>A data.frame: 2 × 2</caption>\n",
       "<thead>\n",
       "\t<tr><th scope=col>VS</th><th scope=col>Mean HP</th></tr>\n",
       "\t<tr><th scope=col>&lt;fct&gt;</th><th scope=col>&lt;dbl&gt;</th></tr>\n",
       "</thead>\n",
       "<tbody>\n",
       "\t<tr><td>V</td><td>189.72222</td></tr>\n",
       "\t<tr><td>S</td><td> 91.35714</td></tr>\n",
       "</tbody>\n",
       "</table>\n"
      ],
      "text/latex": [
       "A data.frame: 2 × 2\n",
       "\\begin{tabular}{ll}\n",
       " VS & Mean HP\\\\\n",
       " <fct> & <dbl>\\\\\n",
       "\\hline\n",
       "\t V & 189.72222\\\\\n",
       "\t S &  91.35714\\\\\n",
       "\\end{tabular}\n"
      ],
      "text/markdown": [
       "\n",
       "A data.frame: 2 × 2\n",
       "\n",
       "| VS &lt;fct&gt; | Mean HP &lt;dbl&gt; |\n",
       "|---|---|\n",
       "| V | 189.72222 |\n",
       "| S |  91.35714 |\n",
       "\n"
      ],
      "text/plain": [
       "  VS Mean HP  \n",
       "1 V  189.72222\n",
       "2 S   91.35714"
      ]
     },
     "metadata": {},
     "output_type": "display_data"
    }
   ],
   "source": [
    "mean_hp_vs  <- aggregate(x = df$hp, by = list(df$vs), FUN = mean)\n",
    "mean_hp_vs\n",
    "colnames(mean_hp_vs)  <- c(\"VS\", \"Mean HP\")\n",
    "mean_hp_vs"
   ]
  },
  {
   "cell_type": "markdown",
   "id": "b103af92",
   "metadata": {},
   "source": [
    "Более простой вариант"
   ]
  },
  {
   "cell_type": "code",
   "execution_count": 81,
   "id": "5d341602",
   "metadata": {},
   "outputs": [
    {
     "data": {
      "text/html": [
       "<table class=\"dataframe\">\n",
       "<caption>A data.frame: 2 × 2</caption>\n",
       "<thead>\n",
       "\t<tr><th scope=col>vs</th><th scope=col>hp</th></tr>\n",
       "\t<tr><th scope=col>&lt;fct&gt;</th><th scope=col>&lt;dbl&gt;</th></tr>\n",
       "</thead>\n",
       "<tbody>\n",
       "\t<tr><td>V</td><td>189.72222</td></tr>\n",
       "\t<tr><td>S</td><td> 91.35714</td></tr>\n",
       "</tbody>\n",
       "</table>\n"
      ],
      "text/latex": [
       "A data.frame: 2 × 2\n",
       "\\begin{tabular}{ll}\n",
       " vs & hp\\\\\n",
       " <fct> & <dbl>\\\\\n",
       "\\hline\n",
       "\t V & 189.72222\\\\\n",
       "\t S &  91.35714\\\\\n",
       "\\end{tabular}\n"
      ],
      "text/markdown": [
       "\n",
       "A data.frame: 2 × 2\n",
       "\n",
       "| vs &lt;fct&gt; | hp &lt;dbl&gt; |\n",
       "|---|---|\n",
       "| V | 189.72222 |\n",
       "| S |  91.35714 |\n",
       "\n"
      ],
      "text/plain": [
       "  vs hp       \n",
       "1 V  189.72222\n",
       "2 S   91.35714"
      ]
     },
     "metadata": {},
     "output_type": "display_data"
    }
   ],
   "source": [
    "aggregate(hp ~ vs, df, mean)"
   ]
  },
  {
   "cell_type": "markdown",
   "id": "c184b7b7",
   "metadata": {},
   "source": [
    "Разбиение по двум переменным"
   ]
  },
  {
   "cell_type": "code",
   "execution_count": 82,
   "id": "439acaee",
   "metadata": {},
   "outputs": [
    {
     "data": {
      "text/html": [
       "<table class=\"dataframe\">\n",
       "<caption>A data.frame: 4 × 3</caption>\n",
       "<thead>\n",
       "\t<tr><th scope=col>vs</th><th scope=col>am</th><th scope=col>hp</th></tr>\n",
       "\t<tr><th scope=col>&lt;fct&gt;</th><th scope=col>&lt;fct&gt;</th><th scope=col>&lt;dbl&gt;</th></tr>\n",
       "</thead>\n",
       "<tbody>\n",
       "\t<tr><td>V</td><td>Auto  </td><td>194.16667</td></tr>\n",
       "\t<tr><td>S</td><td>Auto  </td><td>102.14286</td></tr>\n",
       "\t<tr><td>V</td><td>Manual</td><td>180.83333</td></tr>\n",
       "\t<tr><td>S</td><td>Manual</td><td> 80.57143</td></tr>\n",
       "</tbody>\n",
       "</table>\n"
      ],
      "text/latex": [
       "A data.frame: 4 × 3\n",
       "\\begin{tabular}{lll}\n",
       " vs & am & hp\\\\\n",
       " <fct> & <fct> & <dbl>\\\\\n",
       "\\hline\n",
       "\t V & Auto   & 194.16667\\\\\n",
       "\t S & Auto   & 102.14286\\\\\n",
       "\t V & Manual & 180.83333\\\\\n",
       "\t S & Manual &  80.57143\\\\\n",
       "\\end{tabular}\n"
      ],
      "text/markdown": [
       "\n",
       "A data.frame: 4 × 3\n",
       "\n",
       "| vs &lt;fct&gt; | am &lt;fct&gt; | hp &lt;dbl&gt; |\n",
       "|---|---|---|\n",
       "| V | Auto   | 194.16667 |\n",
       "| S | Auto   | 102.14286 |\n",
       "| V | Manual | 180.83333 |\n",
       "| S | Manual |  80.57143 |\n",
       "\n"
      ],
      "text/plain": [
       "  vs am     hp       \n",
       "1 V  Auto   194.16667\n",
       "2 S  Auto   102.14286\n",
       "3 V  Manual 180.83333\n",
       "4 S  Manual  80.57143"
      ]
     },
     "metadata": {},
     "output_type": "display_data"
    }
   ],
   "source": [
    "aggregate(hp ~ vs + am, df, mean)"
   ]
  },
  {
   "cell_type": "code",
   "execution_count": 83,
   "id": "91cac5c2",
   "metadata": {},
   "outputs": [
    {
     "data": {
      "text/html": [
       "<table class=\"dataframe\">\n",
       "<caption>A data.frame: 4 × 3</caption>\n",
       "<thead>\n",
       "\t<tr><th scope=col>Group.1</th><th scope=col>Group.2</th><th scope=col>x</th></tr>\n",
       "\t<tr><th scope=col>&lt;fct&gt;</th><th scope=col>&lt;fct&gt;</th><th scope=col>&lt;dbl&gt;</th></tr>\n",
       "</thead>\n",
       "<tbody>\n",
       "\t<tr><td>V</td><td>Auto  </td><td>194.16667</td></tr>\n",
       "\t<tr><td>S</td><td>Auto  </td><td>102.14286</td></tr>\n",
       "\t<tr><td>V</td><td>Manual</td><td>180.83333</td></tr>\n",
       "\t<tr><td>S</td><td>Manual</td><td> 80.57143</td></tr>\n",
       "</tbody>\n",
       "</table>\n"
      ],
      "text/latex": [
       "A data.frame: 4 × 3\n",
       "\\begin{tabular}{lll}\n",
       " Group.1 & Group.2 & x\\\\\n",
       " <fct> & <fct> & <dbl>\\\\\n",
       "\\hline\n",
       "\t V & Auto   & 194.16667\\\\\n",
       "\t S & Auto   & 102.14286\\\\\n",
       "\t V & Manual & 180.83333\\\\\n",
       "\t S & Manual &  80.57143\\\\\n",
       "\\end{tabular}\n"
      ],
      "text/markdown": [
       "\n",
       "A data.frame: 4 × 3\n",
       "\n",
       "| Group.1 &lt;fct&gt; | Group.2 &lt;fct&gt; | x &lt;dbl&gt; |\n",
       "|---|---|---|\n",
       "| V | Auto   | 194.16667 |\n",
       "| S | Auto   | 102.14286 |\n",
       "| V | Manual | 180.83333 |\n",
       "| S | Manual |  80.57143 |\n",
       "\n"
      ],
      "text/plain": [
       "  Group.1 Group.2 x        \n",
       "1 V       Auto    194.16667\n",
       "2 S       Auto    102.14286\n",
       "3 V       Manual  180.83333\n",
       "4 S       Manual   80.57143"
      ]
     },
     "metadata": {},
     "output_type": "display_data"
    }
   ],
   "source": [
    "aggregate(x = df$hp, by = list (df$vs, df$am), FUN = mean)"
   ]
  },
  {
   "cell_type": "markdown",
   "id": "1569f676",
   "metadata": {},
   "source": [
    "До этого мы использовали только одну количественную переменную для рассчета статистик. Исследуем все количественные переменные, за исключением факторых (8, 9)"
   ]
  },
  {
   "cell_type": "code",
   "execution_count": 84,
   "id": "d3d03872",
   "metadata": {},
   "outputs": [
    {
     "data": {
      "text/html": [
       "<table class=\"dataframe\">\n",
       "<caption>A data.frame: 2 × 10</caption>\n",
       "<thead>\n",
       "\t<tr><th scope=col>Group.1</th><th scope=col>mpg</th><th scope=col>cyl</th><th scope=col>disp</th><th scope=col>hp</th><th scope=col>drat</th><th scope=col>wt</th><th scope=col>qsec</th><th scope=col>gear</th><th scope=col>carb</th></tr>\n",
       "\t<tr><th scope=col>&lt;fct&gt;</th><th scope=col>&lt;dbl&gt;</th><th scope=col>&lt;dbl&gt;</th><th scope=col>&lt;dbl&gt;</th><th scope=col>&lt;dbl&gt;</th><th scope=col>&lt;dbl&gt;</th><th scope=col>&lt;dbl&gt;</th><th scope=col>&lt;dbl&gt;</th><th scope=col>&lt;dbl&gt;</th><th scope=col>&lt;dbl&gt;</th></tr>\n",
       "</thead>\n",
       "<tbody>\n",
       "\t<tr><td>Auto  </td><td>17.3</td><td>8</td><td>275.8</td><td>175</td><td>3.15</td><td>3.52</td><td>17.82</td><td>3</td><td>3</td></tr>\n",
       "\t<tr><td>Manual</td><td>22.8</td><td>4</td><td>120.3</td><td>109</td><td>4.08</td><td>2.32</td><td>17.02</td><td>4</td><td>2</td></tr>\n",
       "</tbody>\n",
       "</table>\n"
      ],
      "text/latex": [
       "A data.frame: 2 × 10\n",
       "\\begin{tabular}{llllllllll}\n",
       " Group.1 & mpg & cyl & disp & hp & drat & wt & qsec & gear & carb\\\\\n",
       " <fct> & <dbl> & <dbl> & <dbl> & <dbl> & <dbl> & <dbl> & <dbl> & <dbl> & <dbl>\\\\\n",
       "\\hline\n",
       "\t Auto   & 17.3 & 8 & 275.8 & 175 & 3.15 & 3.52 & 17.82 & 3 & 3\\\\\n",
       "\t Manual & 22.8 & 4 & 120.3 & 109 & 4.08 & 2.32 & 17.02 & 4 & 2\\\\\n",
       "\\end{tabular}\n"
      ],
      "text/markdown": [
       "\n",
       "A data.frame: 2 × 10\n",
       "\n",
       "| Group.1 &lt;fct&gt; | mpg &lt;dbl&gt; | cyl &lt;dbl&gt; | disp &lt;dbl&gt; | hp &lt;dbl&gt; | drat &lt;dbl&gt; | wt &lt;dbl&gt; | qsec &lt;dbl&gt; | gear &lt;dbl&gt; | carb &lt;dbl&gt; |\n",
       "|---|---|---|---|---|---|---|---|---|---|\n",
       "| Auto   | 17.3 | 8 | 275.8 | 175 | 3.15 | 3.52 | 17.82 | 3 | 3 |\n",
       "| Manual | 22.8 | 4 | 120.3 | 109 | 4.08 | 2.32 | 17.02 | 4 | 2 |\n",
       "\n"
      ],
      "text/plain": [
       "  Group.1 mpg  cyl disp  hp  drat wt   qsec  gear carb\n",
       "1 Auto    17.3 8   275.8 175 3.15 3.52 17.82 3    3   \n",
       "2 Manual  22.8 4   120.3 109 4.08 2.32 17.02 4    2   "
      ]
     },
     "metadata": {},
     "output_type": "display_data"
    }
   ],
   "source": [
    "aggregate(x = df[,-c(8,9)], by = list(df$am), FUN = median)"
   ]
  },
  {
   "cell_type": "markdown",
   "id": "8e96dc5e",
   "metadata": {},
   "source": [
    "Рассчитаем стандартное отклонение по двум количественным переменным, разбив количественные переменные с учетом типа количества передач и типа двигателя."
   ]
  },
  {
   "cell_type": "code",
   "execution_count": 85,
   "id": "2c3322f6",
   "metadata": {},
   "outputs": [
    {
     "data": {
      "text/html": [
       "<table class=\"dataframe\">\n",
       "<caption>A data.frame: 4 × 4</caption>\n",
       "<thead>\n",
       "\t<tr><th scope=col>Group.1</th><th scope=col>Group.2</th><th scope=col>mpg</th><th scope=col>disp</th></tr>\n",
       "\t<tr><th scope=col>&lt;fct&gt;</th><th scope=col>&lt;fct&gt;</th><th scope=col>&lt;dbl&gt;</th><th scope=col>&lt;dbl&gt;</th></tr>\n",
       "</thead>\n",
       "<tbody>\n",
       "\t<tr><td>Auto  </td><td>V</td><td>2.774396</td><td>71.82349</td></tr>\n",
       "\t<tr><td>Manual</td><td>V</td><td>4.008865</td><td>95.23362</td></tr>\n",
       "\t<tr><td>Auto  </td><td>S</td><td>2.471071</td><td>49.13072</td></tr>\n",
       "\t<tr><td>Manual</td><td>S</td><td>4.757701</td><td>18.80213</td></tr>\n",
       "</tbody>\n",
       "</table>\n"
      ],
      "text/latex": [
       "A data.frame: 4 × 4\n",
       "\\begin{tabular}{llll}\n",
       " Group.1 & Group.2 & mpg & disp\\\\\n",
       " <fct> & <fct> & <dbl> & <dbl>\\\\\n",
       "\\hline\n",
       "\t Auto   & V & 2.774396 & 71.82349\\\\\n",
       "\t Manual & V & 4.008865 & 95.23362\\\\\n",
       "\t Auto   & S & 2.471071 & 49.13072\\\\\n",
       "\t Manual & S & 4.757701 & 18.80213\\\\\n",
       "\\end{tabular}\n"
      ],
      "text/markdown": [
       "\n",
       "A data.frame: 4 × 4\n",
       "\n",
       "| Group.1 &lt;fct&gt; | Group.2 &lt;fct&gt; | mpg &lt;dbl&gt; | disp &lt;dbl&gt; |\n",
       "|---|---|---|---|\n",
       "| Auto   | V | 2.774396 | 71.82349 |\n",
       "| Manual | V | 4.008865 | 95.23362 |\n",
       "| Auto   | S | 2.471071 | 49.13072 |\n",
       "| Manual | S | 4.757701 | 18.80213 |\n",
       "\n"
      ],
      "text/plain": [
       "  Group.1 Group.2 mpg      disp    \n",
       "1 Auto    V       2.774396 71.82349\n",
       "2 Manual  V       4.008865 95.23362\n",
       "3 Auto    S       2.471071 49.13072\n",
       "4 Manual  S       4.757701 18.80213"
      ]
     },
     "metadata": {},
     "output_type": "display_data"
    }
   ],
   "source": [
    "aggregate(df[,c(1,3)], by = list(df$am, df$vs), FUN = sd)"
   ]
  },
  {
   "cell_type": "markdown",
   "id": "d0989c47",
   "metadata": {},
   "source": [
    "В виде формулы:"
   ]
  },
  {
   "cell_type": "code",
   "execution_count": 86,
   "id": "20af64be",
   "metadata": {},
   "outputs": [
    {
     "data": {
      "text/html": [
       "<table class=\"dataframe\">\n",
       "<caption>A data.frame: 4 × 4</caption>\n",
       "<thead>\n",
       "\t<tr><th scope=col>am</th><th scope=col>vs</th><th scope=col>mpg</th><th scope=col>disp</th></tr>\n",
       "\t<tr><th scope=col>&lt;fct&gt;</th><th scope=col>&lt;fct&gt;</th><th scope=col>&lt;dbl&gt;</th><th scope=col>&lt;dbl&gt;</th></tr>\n",
       "</thead>\n",
       "<tbody>\n",
       "\t<tr><td>Auto  </td><td>V</td><td>2.774396</td><td>71.82349</td></tr>\n",
       "\t<tr><td>Manual</td><td>V</td><td>4.008865</td><td>95.23362</td></tr>\n",
       "\t<tr><td>Auto  </td><td>S</td><td>2.471071</td><td>49.13072</td></tr>\n",
       "\t<tr><td>Manual</td><td>S</td><td>4.757701</td><td>18.80213</td></tr>\n",
       "</tbody>\n",
       "</table>\n"
      ],
      "text/latex": [
       "A data.frame: 4 × 4\n",
       "\\begin{tabular}{llll}\n",
       " am & vs & mpg & disp\\\\\n",
       " <fct> & <fct> & <dbl> & <dbl>\\\\\n",
       "\\hline\n",
       "\t Auto   & V & 2.774396 & 71.82349\\\\\n",
       "\t Manual & V & 4.008865 & 95.23362\\\\\n",
       "\t Auto   & S & 2.471071 & 49.13072\\\\\n",
       "\t Manual & S & 4.757701 & 18.80213\\\\\n",
       "\\end{tabular}\n"
      ],
      "text/markdown": [
       "\n",
       "A data.frame: 4 × 4\n",
       "\n",
       "| am &lt;fct&gt; | vs &lt;fct&gt; | mpg &lt;dbl&gt; | disp &lt;dbl&gt; |\n",
       "|---|---|---|---|\n",
       "| Auto   | V | 2.774396 | 71.82349 |\n",
       "| Manual | V | 4.008865 | 95.23362 |\n",
       "| Auto   | S | 2.471071 | 49.13072 |\n",
       "| Manual | S | 4.757701 | 18.80213 |\n",
       "\n"
      ],
      "text/plain": [
       "  am     vs mpg      disp    \n",
       "1 Auto   V  2.774396 71.82349\n",
       "2 Manual V  4.008865 95.23362\n",
       "3 Auto   S  2.471071 49.13072\n",
       "4 Manual S  4.757701 18.80213"
      ]
     },
     "metadata": {},
     "output_type": "display_data"
    }
   ],
   "source": [
    "aggregate(cbind(mpg, disp) ~ am + vs, df, sd)"
   ]
  },
  {
   "cell_type": "code",
   "execution_count": 87,
   "id": "93fd4dc4",
   "metadata": {},
   "outputs": [
    {
     "data": {
      "text/html": [
       "<table class=\"dataframe\">\n",
       "<caption>A data.frame: 2 × 3</caption>\n",
       "<thead>\n",
       "\t<tr><th scope=col>am</th><th scope=col>hp</th><th scope=col>disp</th></tr>\n",
       "\t<tr><th scope=col>&lt;fct&gt;</th><th scope=col>&lt;dbl&gt;</th><th scope=col>&lt;dbl&gt;</th></tr>\n",
       "</thead>\n",
       "<tbody>\n",
       "\t<tr><td>Auto  </td><td>53.90820</td><td>110.17165</td></tr>\n",
       "\t<tr><td>Manual</td><td>84.06232</td><td> 87.20399</td></tr>\n",
       "</tbody>\n",
       "</table>\n"
      ],
      "text/latex": [
       "A data.frame: 2 × 3\n",
       "\\begin{tabular}{lll}\n",
       " am & hp & disp\\\\\n",
       " <fct> & <dbl> & <dbl>\\\\\n",
       "\\hline\n",
       "\t Auto   & 53.90820 & 110.17165\\\\\n",
       "\t Manual & 84.06232 &  87.20399\\\\\n",
       "\\end{tabular}\n"
      ],
      "text/markdown": [
       "\n",
       "A data.frame: 2 × 3\n",
       "\n",
       "| am &lt;fct&gt; | hp &lt;dbl&gt; | disp &lt;dbl&gt; |\n",
       "|---|---|---|\n",
       "| Auto   | 53.90820 | 110.17165 |\n",
       "| Manual | 84.06232 |  87.20399 |\n",
       "\n"
      ],
      "text/plain": [
       "  am     hp       disp     \n",
       "1 Auto   53.90820 110.17165\n",
       "2 Manual 84.06232  87.20399"
      ]
     },
     "metadata": {},
     "output_type": "display_data"
    }
   ],
   "source": [
    "aggregate(cbind(hp, disp) ~ am, df, sd)"
   ]
  },
  {
   "cell_type": "markdown",
   "id": "b878451a",
   "metadata": {},
   "source": [
    "## Step 8, 9: Library \"psych\""
   ]
  },
  {
   "cell_type": "code",
   "execution_count": 88,
   "id": "66eb7fde",
   "metadata": {},
   "outputs": [],
   "source": [
    "library(psych)\n",
    "library(ggplot2)"
   ]
  },
  {
   "cell_type": "code",
   "execution_count": 89,
   "id": "22a76b42",
   "metadata": {},
   "outputs": [
    {
     "data": {
      "text/html": [
       "<table class=\"dataframe\">\n",
       "<caption>A psych: 11 × 13</caption>\n",
       "<thead>\n",
       "\t<tr><th></th><th scope=col>vars</th><th scope=col>n</th><th scope=col>mean</th><th scope=col>sd</th><th scope=col>median</th><th scope=col>trimmed</th><th scope=col>mad</th><th scope=col>min</th><th scope=col>max</th><th scope=col>range</th><th scope=col>skew</th><th scope=col>kurtosis</th><th scope=col>se</th></tr>\n",
       "\t<tr><th></th><th scope=col>&lt;int&gt;</th><th scope=col>&lt;dbl&gt;</th><th scope=col>&lt;dbl&gt;</th><th scope=col>&lt;dbl&gt;</th><th scope=col>&lt;dbl&gt;</th><th scope=col>&lt;dbl&gt;</th><th scope=col>&lt;dbl&gt;</th><th scope=col>&lt;dbl&gt;</th><th scope=col>&lt;dbl&gt;</th><th scope=col>&lt;dbl&gt;</th><th scope=col>&lt;dbl&gt;</th><th scope=col>&lt;dbl&gt;</th><th scope=col>&lt;dbl&gt;</th></tr>\n",
       "</thead>\n",
       "<tbody>\n",
       "\t<tr><th scope=row>mpg</th><td> 1</td><td>32</td><td> 20.090625</td><td>  6.0269481</td><td> 19.200</td><td> 19.696154</td><td>  5.4114900</td><td>10.400</td><td> 33.900</td><td> 23.500</td><td> 0.6106550</td><td>-0.37276603</td><td> 1.06542396</td></tr>\n",
       "\t<tr><th scope=row>cyl</th><td> 2</td><td>32</td><td>  6.187500</td><td>  1.7859216</td><td>  6.000</td><td>  6.230769</td><td>  2.9652000</td><td> 4.000</td><td>  8.000</td><td>  4.000</td><td>-0.1746119</td><td>-1.76211977</td><td> 0.31570933</td></tr>\n",
       "\t<tr><th scope=row>disp</th><td> 3</td><td>32</td><td>230.721875</td><td>123.9386938</td><td>196.300</td><td>222.523077</td><td>140.4763500</td><td>71.100</td><td>472.000</td><td>400.900</td><td> 0.3816570</td><td>-1.20721195</td><td>21.90947271</td></tr>\n",
       "\t<tr><th scope=row>hp</th><td> 4</td><td>32</td><td>146.687500</td><td> 68.5628685</td><td>123.000</td><td>141.192308</td><td> 77.0952000</td><td>52.000</td><td>335.000</td><td>283.000</td><td> 0.7260237</td><td>-0.13555112</td><td>12.12031731</td></tr>\n",
       "\t<tr><th scope=row>drat</th><td> 5</td><td>32</td><td>  3.596563</td><td>  0.5346787</td><td>  3.695</td><td>  3.579231</td><td>  0.7042350</td><td> 2.760</td><td>  4.930</td><td>  2.170</td><td> 0.2659039</td><td>-0.71470062</td><td> 0.09451874</td></tr>\n",
       "\t<tr><th scope=row>wt</th><td> 6</td><td>32</td><td>  3.217250</td><td>  0.9784574</td><td>  3.325</td><td>  3.152692</td><td>  0.7672455</td><td> 1.513</td><td>  5.424</td><td>  3.911</td><td> 0.4231465</td><td>-0.02271075</td><td> 0.17296847</td></tr>\n",
       "\t<tr><th scope=row>qsec</th><td> 7</td><td>32</td><td> 17.848750</td><td>  1.7869432</td><td> 17.710</td><td> 17.827692</td><td>  1.4158830</td><td>14.500</td><td> 22.900</td><td>  8.400</td><td> 0.3690453</td><td> 0.33511422</td><td> 0.31588992</td></tr>\n",
       "\t<tr><th scope=row>vs*</th><td> 8</td><td>32</td><td>  1.437500</td><td>  0.5040161</td><td>  1.000</td><td>  1.423077</td><td>  0.0000000</td><td> 1.000</td><td>  2.000</td><td>  1.000</td><td> 0.2402577</td><td>-2.00193762</td><td> 0.08909831</td></tr>\n",
       "\t<tr><th scope=row>am*</th><td> 9</td><td>32</td><td>  1.406250</td><td>  0.4989909</td><td>  1.000</td><td>  1.384615</td><td>  0.0000000</td><td> 1.000</td><td>  2.000</td><td>  1.000</td><td> 0.3640159</td><td>-1.92474143</td><td> 0.08820997</td></tr>\n",
       "\t<tr><th scope=row>gear</th><td>10</td><td>32</td><td>  3.687500</td><td>  0.7378041</td><td>  4.000</td><td>  3.615385</td><td>  1.4826000</td><td> 3.000</td><td>  5.000</td><td>  2.000</td><td> 0.5288545</td><td>-1.06975068</td><td> 0.13042656</td></tr>\n",
       "\t<tr><th scope=row>carb</th><td>11</td><td>32</td><td>  2.812500</td><td>  1.6152000</td><td>  2.000</td><td>  2.653846</td><td>  1.4826000</td><td> 1.000</td><td>  8.000</td><td>  7.000</td><td> 1.0508738</td><td> 1.25704307</td><td> 0.28552971</td></tr>\n",
       "</tbody>\n",
       "</table>\n"
      ],
      "text/latex": [
       "A psych: 11 × 13\n",
       "\\begin{tabular}{r|lllllllllllll}\n",
       "  & vars & n & mean & sd & median & trimmed & mad & min & max & range & skew & kurtosis & se\\\\\n",
       "  & <int> & <dbl> & <dbl> & <dbl> & <dbl> & <dbl> & <dbl> & <dbl> & <dbl> & <dbl> & <dbl> & <dbl> & <dbl>\\\\\n",
       "\\hline\n",
       "\tmpg &  1 & 32 &  20.090625 &   6.0269481 &  19.200 &  19.696154 &   5.4114900 & 10.400 &  33.900 &  23.500 &  0.6106550 & -0.37276603 &  1.06542396\\\\\n",
       "\tcyl &  2 & 32 &   6.187500 &   1.7859216 &   6.000 &   6.230769 &   2.9652000 &  4.000 &   8.000 &   4.000 & -0.1746119 & -1.76211977 &  0.31570933\\\\\n",
       "\tdisp &  3 & 32 & 230.721875 & 123.9386938 & 196.300 & 222.523077 & 140.4763500 & 71.100 & 472.000 & 400.900 &  0.3816570 & -1.20721195 & 21.90947271\\\\\n",
       "\thp &  4 & 32 & 146.687500 &  68.5628685 & 123.000 & 141.192308 &  77.0952000 & 52.000 & 335.000 & 283.000 &  0.7260237 & -0.13555112 & 12.12031731\\\\\n",
       "\tdrat &  5 & 32 &   3.596563 &   0.5346787 &   3.695 &   3.579231 &   0.7042350 &  2.760 &   4.930 &   2.170 &  0.2659039 & -0.71470062 &  0.09451874\\\\\n",
       "\twt &  6 & 32 &   3.217250 &   0.9784574 &   3.325 &   3.152692 &   0.7672455 &  1.513 &   5.424 &   3.911 &  0.4231465 & -0.02271075 &  0.17296847\\\\\n",
       "\tqsec &  7 & 32 &  17.848750 &   1.7869432 &  17.710 &  17.827692 &   1.4158830 & 14.500 &  22.900 &   8.400 &  0.3690453 &  0.33511422 &  0.31588992\\\\\n",
       "\tvs* &  8 & 32 &   1.437500 &   0.5040161 &   1.000 &   1.423077 &   0.0000000 &  1.000 &   2.000 &   1.000 &  0.2402577 & -2.00193762 &  0.08909831\\\\\n",
       "\tam* &  9 & 32 &   1.406250 &   0.4989909 &   1.000 &   1.384615 &   0.0000000 &  1.000 &   2.000 &   1.000 &  0.3640159 & -1.92474143 &  0.08820997\\\\\n",
       "\tgear & 10 & 32 &   3.687500 &   0.7378041 &   4.000 &   3.615385 &   1.4826000 &  3.000 &   5.000 &   2.000 &  0.5288545 & -1.06975068 &  0.13042656\\\\\n",
       "\tcarb & 11 & 32 &   2.812500 &   1.6152000 &   2.000 &   2.653846 &   1.4826000 &  1.000 &   8.000 &   7.000 &  1.0508738 &  1.25704307 &  0.28552971\\\\\n",
       "\\end{tabular}\n"
      ],
      "text/markdown": [
       "\n",
       "A psych: 11 × 13\n",
       "\n",
       "| <!--/--> | vars &lt;int&gt; | n &lt;dbl&gt; | mean &lt;dbl&gt; | sd &lt;dbl&gt; | median &lt;dbl&gt; | trimmed &lt;dbl&gt; | mad &lt;dbl&gt; | min &lt;dbl&gt; | max &lt;dbl&gt; | range &lt;dbl&gt; | skew &lt;dbl&gt; | kurtosis &lt;dbl&gt; | se &lt;dbl&gt; |\n",
       "|---|---|---|---|---|---|---|---|---|---|---|---|---|---|\n",
       "| mpg |  1 | 32 |  20.090625 |   6.0269481 |  19.200 |  19.696154 |   5.4114900 | 10.400 |  33.900 |  23.500 |  0.6106550 | -0.37276603 |  1.06542396 |\n",
       "| cyl |  2 | 32 |   6.187500 |   1.7859216 |   6.000 |   6.230769 |   2.9652000 |  4.000 |   8.000 |   4.000 | -0.1746119 | -1.76211977 |  0.31570933 |\n",
       "| disp |  3 | 32 | 230.721875 | 123.9386938 | 196.300 | 222.523077 | 140.4763500 | 71.100 | 472.000 | 400.900 |  0.3816570 | -1.20721195 | 21.90947271 |\n",
       "| hp |  4 | 32 | 146.687500 |  68.5628685 | 123.000 | 141.192308 |  77.0952000 | 52.000 | 335.000 | 283.000 |  0.7260237 | -0.13555112 | 12.12031731 |\n",
       "| drat |  5 | 32 |   3.596563 |   0.5346787 |   3.695 |   3.579231 |   0.7042350 |  2.760 |   4.930 |   2.170 |  0.2659039 | -0.71470062 |  0.09451874 |\n",
       "| wt |  6 | 32 |   3.217250 |   0.9784574 |   3.325 |   3.152692 |   0.7672455 |  1.513 |   5.424 |   3.911 |  0.4231465 | -0.02271075 |  0.17296847 |\n",
       "| qsec |  7 | 32 |  17.848750 |   1.7869432 |  17.710 |  17.827692 |   1.4158830 | 14.500 |  22.900 |   8.400 |  0.3690453 |  0.33511422 |  0.31588992 |\n",
       "| vs* |  8 | 32 |   1.437500 |   0.5040161 |   1.000 |   1.423077 |   0.0000000 |  1.000 |   2.000 |   1.000 |  0.2402577 | -2.00193762 |  0.08909831 |\n",
       "| am* |  9 | 32 |   1.406250 |   0.4989909 |   1.000 |   1.384615 |   0.0000000 |  1.000 |   2.000 |   1.000 |  0.3640159 | -1.92474143 |  0.08820997 |\n",
       "| gear | 10 | 32 |   3.687500 |   0.7378041 |   4.000 |   3.615385 |   1.4826000 |  3.000 |   5.000 |   2.000 |  0.5288545 | -1.06975068 |  0.13042656 |\n",
       "| carb | 11 | 32 |   2.812500 |   1.6152000 |   2.000 |   2.653846 |   1.4826000 |  1.000 |   8.000 |   7.000 |  1.0508738 |  1.25704307 |  0.28552971 |\n",
       "\n"
      ],
      "text/plain": [
       "     vars n  mean       sd          median  trimmed    mad         min   \n",
       "mpg   1   32  20.090625   6.0269481  19.200  19.696154   5.4114900 10.400\n",
       "cyl   2   32   6.187500   1.7859216   6.000   6.230769   2.9652000  4.000\n",
       "disp  3   32 230.721875 123.9386938 196.300 222.523077 140.4763500 71.100\n",
       "hp    4   32 146.687500  68.5628685 123.000 141.192308  77.0952000 52.000\n",
       "drat  5   32   3.596563   0.5346787   3.695   3.579231   0.7042350  2.760\n",
       "wt    6   32   3.217250   0.9784574   3.325   3.152692   0.7672455  1.513\n",
       "qsec  7   32  17.848750   1.7869432  17.710  17.827692   1.4158830 14.500\n",
       "vs*   8   32   1.437500   0.5040161   1.000   1.423077   0.0000000  1.000\n",
       "am*   9   32   1.406250   0.4989909   1.000   1.384615   0.0000000  1.000\n",
       "gear 10   32   3.687500   0.7378041   4.000   3.615385   1.4826000  3.000\n",
       "carb 11   32   2.812500   1.6152000   2.000   2.653846   1.4826000  1.000\n",
       "     max     range   skew       kurtosis    se         \n",
       "mpg   33.900  23.500  0.6106550 -0.37276603  1.06542396\n",
       "cyl    8.000   4.000 -0.1746119 -1.76211977  0.31570933\n",
       "disp 472.000 400.900  0.3816570 -1.20721195 21.90947271\n",
       "hp   335.000 283.000  0.7260237 -0.13555112 12.12031731\n",
       "drat   4.930   2.170  0.2659039 -0.71470062  0.09451874\n",
       "wt     5.424   3.911  0.4231465 -0.02271075  0.17296847\n",
       "qsec  22.900   8.400  0.3690453  0.33511422  0.31588992\n",
       "vs*    2.000   1.000  0.2402577 -2.00193762  0.08909831\n",
       "am*    2.000   1.000  0.3640159 -1.92474143  0.08820997\n",
       "gear   5.000   2.000  0.5288545 -1.06975068  0.13042656\n",
       "carb   8.000   7.000  1.0508738  1.25704307  0.28552971"
      ]
     },
     "metadata": {},
     "output_type": "display_data"
    }
   ],
   "source": [
    "describe(x = df)"
   ]
  },
  {
   "cell_type": "code",
   "execution_count": 90,
   "id": "5b32b648",
   "metadata": {},
   "outputs": [
    {
     "data": {
      "text/html": [
       "<table class=\"dataframe\">\n",
       "<caption>A psych: 9 × 13</caption>\n",
       "<thead>\n",
       "\t<tr><th></th><th scope=col>vars</th><th scope=col>n</th><th scope=col>mean</th><th scope=col>sd</th><th scope=col>median</th><th scope=col>trimmed</th><th scope=col>mad</th><th scope=col>min</th><th scope=col>max</th><th scope=col>range</th><th scope=col>skew</th><th scope=col>kurtosis</th><th scope=col>se</th></tr>\n",
       "\t<tr><th></th><th scope=col>&lt;int&gt;</th><th scope=col>&lt;dbl&gt;</th><th scope=col>&lt;dbl&gt;</th><th scope=col>&lt;dbl&gt;</th><th scope=col>&lt;dbl&gt;</th><th scope=col>&lt;dbl&gt;</th><th scope=col>&lt;dbl&gt;</th><th scope=col>&lt;dbl&gt;</th><th scope=col>&lt;dbl&gt;</th><th scope=col>&lt;dbl&gt;</th><th scope=col>&lt;dbl&gt;</th><th scope=col>&lt;dbl&gt;</th><th scope=col>&lt;dbl&gt;</th></tr>\n",
       "</thead>\n",
       "<tbody>\n",
       "\t<tr><th scope=row>mpg</th><td>1</td><td>32</td><td> 20.090625</td><td>  6.0269481</td><td> 19.200</td><td> 19.696154</td><td>  5.4114900</td><td>10.400</td><td> 33.900</td><td> 23.500</td><td> 0.6106550</td><td>-0.37276603</td><td> 1.06542396</td></tr>\n",
       "\t<tr><th scope=row>cyl</th><td>2</td><td>32</td><td>  6.187500</td><td>  1.7859216</td><td>  6.000</td><td>  6.230769</td><td>  2.9652000</td><td> 4.000</td><td>  8.000</td><td>  4.000</td><td>-0.1746119</td><td>-1.76211977</td><td> 0.31570933</td></tr>\n",
       "\t<tr><th scope=row>disp</th><td>3</td><td>32</td><td>230.721875</td><td>123.9386938</td><td>196.300</td><td>222.523077</td><td>140.4763500</td><td>71.100</td><td>472.000</td><td>400.900</td><td> 0.3816570</td><td>-1.20721195</td><td>21.90947271</td></tr>\n",
       "\t<tr><th scope=row>hp</th><td>4</td><td>32</td><td>146.687500</td><td> 68.5628685</td><td>123.000</td><td>141.192308</td><td> 77.0952000</td><td>52.000</td><td>335.000</td><td>283.000</td><td> 0.7260237</td><td>-0.13555112</td><td>12.12031731</td></tr>\n",
       "\t<tr><th scope=row>drat</th><td>5</td><td>32</td><td>  3.596563</td><td>  0.5346787</td><td>  3.695</td><td>  3.579231</td><td>  0.7042350</td><td> 2.760</td><td>  4.930</td><td>  2.170</td><td> 0.2659039</td><td>-0.71470062</td><td> 0.09451874</td></tr>\n",
       "\t<tr><th scope=row>wt</th><td>6</td><td>32</td><td>  3.217250</td><td>  0.9784574</td><td>  3.325</td><td>  3.152692</td><td>  0.7672455</td><td> 1.513</td><td>  5.424</td><td>  3.911</td><td> 0.4231465</td><td>-0.02271075</td><td> 0.17296847</td></tr>\n",
       "\t<tr><th scope=row>qsec</th><td>7</td><td>32</td><td> 17.848750</td><td>  1.7869432</td><td> 17.710</td><td> 17.827692</td><td>  1.4158830</td><td>14.500</td><td> 22.900</td><td>  8.400</td><td> 0.3690453</td><td> 0.33511422</td><td> 0.31588992</td></tr>\n",
       "\t<tr><th scope=row>gear</th><td>8</td><td>32</td><td>  3.687500</td><td>  0.7378041</td><td>  4.000</td><td>  3.615385</td><td>  1.4826000</td><td> 3.000</td><td>  5.000</td><td>  2.000</td><td> 0.5288545</td><td>-1.06975068</td><td> 0.13042656</td></tr>\n",
       "\t<tr><th scope=row>carb</th><td>9</td><td>32</td><td>  2.812500</td><td>  1.6152000</td><td>  2.000</td><td>  2.653846</td><td>  1.4826000</td><td> 1.000</td><td>  8.000</td><td>  7.000</td><td> 1.0508738</td><td> 1.25704307</td><td> 0.28552971</td></tr>\n",
       "</tbody>\n",
       "</table>\n"
      ],
      "text/latex": [
       "A psych: 9 × 13\n",
       "\\begin{tabular}{r|lllllllllllll}\n",
       "  & vars & n & mean & sd & median & trimmed & mad & min & max & range & skew & kurtosis & se\\\\\n",
       "  & <int> & <dbl> & <dbl> & <dbl> & <dbl> & <dbl> & <dbl> & <dbl> & <dbl> & <dbl> & <dbl> & <dbl> & <dbl>\\\\\n",
       "\\hline\n",
       "\tmpg & 1 & 32 &  20.090625 &   6.0269481 &  19.200 &  19.696154 &   5.4114900 & 10.400 &  33.900 &  23.500 &  0.6106550 & -0.37276603 &  1.06542396\\\\\n",
       "\tcyl & 2 & 32 &   6.187500 &   1.7859216 &   6.000 &   6.230769 &   2.9652000 &  4.000 &   8.000 &   4.000 & -0.1746119 & -1.76211977 &  0.31570933\\\\\n",
       "\tdisp & 3 & 32 & 230.721875 & 123.9386938 & 196.300 & 222.523077 & 140.4763500 & 71.100 & 472.000 & 400.900 &  0.3816570 & -1.20721195 & 21.90947271\\\\\n",
       "\thp & 4 & 32 & 146.687500 &  68.5628685 & 123.000 & 141.192308 &  77.0952000 & 52.000 & 335.000 & 283.000 &  0.7260237 & -0.13555112 & 12.12031731\\\\\n",
       "\tdrat & 5 & 32 &   3.596563 &   0.5346787 &   3.695 &   3.579231 &   0.7042350 &  2.760 &   4.930 &   2.170 &  0.2659039 & -0.71470062 &  0.09451874\\\\\n",
       "\twt & 6 & 32 &   3.217250 &   0.9784574 &   3.325 &   3.152692 &   0.7672455 &  1.513 &   5.424 &   3.911 &  0.4231465 & -0.02271075 &  0.17296847\\\\\n",
       "\tqsec & 7 & 32 &  17.848750 &   1.7869432 &  17.710 &  17.827692 &   1.4158830 & 14.500 &  22.900 &   8.400 &  0.3690453 &  0.33511422 &  0.31588992\\\\\n",
       "\tgear & 8 & 32 &   3.687500 &   0.7378041 &   4.000 &   3.615385 &   1.4826000 &  3.000 &   5.000 &   2.000 &  0.5288545 & -1.06975068 &  0.13042656\\\\\n",
       "\tcarb & 9 & 32 &   2.812500 &   1.6152000 &   2.000 &   2.653846 &   1.4826000 &  1.000 &   8.000 &   7.000 &  1.0508738 &  1.25704307 &  0.28552971\\\\\n",
       "\\end{tabular}\n"
      ],
      "text/markdown": [
       "\n",
       "A psych: 9 × 13\n",
       "\n",
       "| <!--/--> | vars &lt;int&gt; | n &lt;dbl&gt; | mean &lt;dbl&gt; | sd &lt;dbl&gt; | median &lt;dbl&gt; | trimmed &lt;dbl&gt; | mad &lt;dbl&gt; | min &lt;dbl&gt; | max &lt;dbl&gt; | range &lt;dbl&gt; | skew &lt;dbl&gt; | kurtosis &lt;dbl&gt; | se &lt;dbl&gt; |\n",
       "|---|---|---|---|---|---|---|---|---|---|---|---|---|---|\n",
       "| mpg | 1 | 32 |  20.090625 |   6.0269481 |  19.200 |  19.696154 |   5.4114900 | 10.400 |  33.900 |  23.500 |  0.6106550 | -0.37276603 |  1.06542396 |\n",
       "| cyl | 2 | 32 |   6.187500 |   1.7859216 |   6.000 |   6.230769 |   2.9652000 |  4.000 |   8.000 |   4.000 | -0.1746119 | -1.76211977 |  0.31570933 |\n",
       "| disp | 3 | 32 | 230.721875 | 123.9386938 | 196.300 | 222.523077 | 140.4763500 | 71.100 | 472.000 | 400.900 |  0.3816570 | -1.20721195 | 21.90947271 |\n",
       "| hp | 4 | 32 | 146.687500 |  68.5628685 | 123.000 | 141.192308 |  77.0952000 | 52.000 | 335.000 | 283.000 |  0.7260237 | -0.13555112 | 12.12031731 |\n",
       "| drat | 5 | 32 |   3.596563 |   0.5346787 |   3.695 |   3.579231 |   0.7042350 |  2.760 |   4.930 |   2.170 |  0.2659039 | -0.71470062 |  0.09451874 |\n",
       "| wt | 6 | 32 |   3.217250 |   0.9784574 |   3.325 |   3.152692 |   0.7672455 |  1.513 |   5.424 |   3.911 |  0.4231465 | -0.02271075 |  0.17296847 |\n",
       "| qsec | 7 | 32 |  17.848750 |   1.7869432 |  17.710 |  17.827692 |   1.4158830 | 14.500 |  22.900 |   8.400 |  0.3690453 |  0.33511422 |  0.31588992 |\n",
       "| gear | 8 | 32 |   3.687500 |   0.7378041 |   4.000 |   3.615385 |   1.4826000 |  3.000 |   5.000 |   2.000 |  0.5288545 | -1.06975068 |  0.13042656 |\n",
       "| carb | 9 | 32 |   2.812500 |   1.6152000 |   2.000 |   2.653846 |   1.4826000 |  1.000 |   8.000 |   7.000 |  1.0508738 |  1.25704307 |  0.28552971 |\n",
       "\n"
      ],
      "text/plain": [
       "     vars n  mean       sd          median  trimmed    mad         min   \n",
       "mpg  1    32  20.090625   6.0269481  19.200  19.696154   5.4114900 10.400\n",
       "cyl  2    32   6.187500   1.7859216   6.000   6.230769   2.9652000  4.000\n",
       "disp 3    32 230.721875 123.9386938 196.300 222.523077 140.4763500 71.100\n",
       "hp   4    32 146.687500  68.5628685 123.000 141.192308  77.0952000 52.000\n",
       "drat 5    32   3.596563   0.5346787   3.695   3.579231   0.7042350  2.760\n",
       "wt   6    32   3.217250   0.9784574   3.325   3.152692   0.7672455  1.513\n",
       "qsec 7    32  17.848750   1.7869432  17.710  17.827692   1.4158830 14.500\n",
       "gear 8    32   3.687500   0.7378041   4.000   3.615385   1.4826000  3.000\n",
       "carb 9    32   2.812500   1.6152000   2.000   2.653846   1.4826000  1.000\n",
       "     max     range   skew       kurtosis    se         \n",
       "mpg   33.900  23.500  0.6106550 -0.37276603  1.06542396\n",
       "cyl    8.000   4.000 -0.1746119 -1.76211977  0.31570933\n",
       "disp 472.000 400.900  0.3816570 -1.20721195 21.90947271\n",
       "hp   335.000 283.000  0.7260237 -0.13555112 12.12031731\n",
       "drat   4.930   2.170  0.2659039 -0.71470062  0.09451874\n",
       "wt     5.424   3.911  0.4231465 -0.02271075  0.17296847\n",
       "qsec  22.900   8.400  0.3690453  0.33511422  0.31588992\n",
       "gear   5.000   2.000  0.5288545 -1.06975068  0.13042656\n",
       "carb   8.000   7.000  1.0508738  1.25704307  0.28552971"
      ]
     },
     "metadata": {},
     "output_type": "display_data"
    }
   ],
   "source": [
    "descr  <- describe(x = df[,-c(8,9)])\n",
    "descr"
   ]
  },
  {
   "cell_type": "markdown",
   "id": "fa1e47a5",
   "metadata": {},
   "source": [
    "**describeBy** Расчет описательных статистик по группам."
   ]
  },
  {
   "cell_type": "code",
   "execution_count": 91,
   "id": "98533581",
   "metadata": {},
   "outputs": [
    {
     "data": {
      "text/html": [
       "<table class=\"dataframe\">\n",
       "<caption>A psych: 9 × 13</caption>\n",
       "<thead>\n",
       "\t<tr><th></th><th scope=col>vars</th><th scope=col>n</th><th scope=col>mean</th><th scope=col>sd</th><th scope=col>median</th><th scope=col>trimmed</th><th scope=col>mad</th><th scope=col>min</th><th scope=col>max</th><th scope=col>range</th><th scope=col>skew</th><th scope=col>kurtosis</th><th scope=col>se</th></tr>\n",
       "\t<tr><th></th><th scope=col>&lt;int&gt;</th><th scope=col>&lt;dbl&gt;</th><th scope=col>&lt;dbl&gt;</th><th scope=col>&lt;dbl&gt;</th><th scope=col>&lt;dbl&gt;</th><th scope=col>&lt;dbl&gt;</th><th scope=col>&lt;dbl&gt;</th><th scope=col>&lt;dbl&gt;</th><th scope=col>&lt;dbl&gt;</th><th scope=col>&lt;dbl&gt;</th><th scope=col>&lt;dbl&gt;</th><th scope=col>&lt;dbl&gt;</th><th scope=col>&lt;dbl&gt;</th></tr>\n",
       "</thead>\n",
       "<tbody>\n",
       "\t<tr><th scope=row>mpg</th><td>1</td><td>18</td><td> 16.616667</td><td>  3.8606994</td><td> 15.65</td><td> 16.418750</td><td> 2.9652000</td><td> 10.40</td><td> 26.000</td><td> 15.600</td><td> 0.4848484</td><td>-0.04617697</td><td> 0.9099756</td></tr>\n",
       "\t<tr><th scope=row>cyl</th><td>2</td><td>18</td><td>  7.444444</td><td>  1.1490263</td><td>  8.00</td><td>  7.625000</td><td> 0.0000000</td><td>  4.00</td><td>  8.000</td><td>  4.000</td><td>-1.7397531</td><td> 1.94499359</td><td> 0.2708281</td></tr>\n",
       "\t<tr><th scope=row>disp</th><td>3</td><td>18</td><td>307.150000</td><td>106.7652193</td><td>311.00</td><td>308.525000</td><td>72.6474000</td><td>120.30</td><td>472.000</td><td>351.700</td><td>-0.2554760</td><td>-1.05725636</td><td>25.1648035</td></tr>\n",
       "\t<tr><th scope=row>hp</th><td>4</td><td>18</td><td>189.722222</td><td> 60.2815019</td><td>180.00</td><td>186.812500</td><td>48.1845000</td><td> 91.00</td><td>335.000</td><td>244.000</td><td> 0.4528693</td><td>-0.14510499</td><td>14.2084863</td></tr>\n",
       "\t<tr><th scope=row>drat</th><td>5</td><td>18</td><td>  3.392222</td><td>  0.4739515</td><td>  3.18</td><td>  3.366875</td><td> 0.3187590</td><td>  2.76</td><td>  4.430</td><td>  1.670</td><td> 0.7404542</td><td>-0.73394358</td><td> 0.1117115</td></tr>\n",
       "\t<tr><th scope=row>wt</th><td>6</td><td>18</td><td>  3.688556</td><td>  0.9040308</td><td>  3.57</td><td>  3.676875</td><td> 0.5003775</td><td>  2.14</td><td>  5.424</td><td>  3.284</td><td> 0.5425973</td><td>-0.43390250</td><td> 0.2130821</td></tr>\n",
       "\t<tr><th scope=row>qsec</th><td>7</td><td>18</td><td> 16.693889</td><td>  1.0918960</td><td> 17.02</td><td> 16.749375</td><td> 0.8450820</td><td> 14.50</td><td> 18.000</td><td>  3.500</td><td>-0.7079236</td><td>-0.79946994</td><td> 0.2573624</td></tr>\n",
       "\t<tr><th scope=row>gear</th><td>8</td><td>18</td><td>  3.555556</td><td>  0.8555853</td><td>  3.00</td><td>  3.500000</td><td> 0.0000000</td><td>  3.00</td><td>  5.000</td><td>  2.000</td><td> 0.9023599</td><td>-1.06814531</td><td> 0.2016634</td></tr>\n",
       "\t<tr><th scope=row>carb</th><td>9</td><td>18</td><td>  3.611111</td><td>  1.5392469</td><td>  4.00</td><td>  3.437500</td><td> 1.4826000</td><td>  2.00</td><td>  8.000</td><td>  6.000</td><td> 1.1737397</td><td> 1.33375017</td><td> 0.3628040</td></tr>\n",
       "</tbody>\n",
       "</table>\n"
      ],
      "text/latex": [
       "A psych: 9 × 13\n",
       "\\begin{tabular}{r|lllllllllllll}\n",
       "  & vars & n & mean & sd & median & trimmed & mad & min & max & range & skew & kurtosis & se\\\\\n",
       "  & <int> & <dbl> & <dbl> & <dbl> & <dbl> & <dbl> & <dbl> & <dbl> & <dbl> & <dbl> & <dbl> & <dbl> & <dbl>\\\\\n",
       "\\hline\n",
       "\tmpg & 1 & 18 &  16.616667 &   3.8606994 &  15.65 &  16.418750 &  2.9652000 &  10.40 &  26.000 &  15.600 &  0.4848484 & -0.04617697 &  0.9099756\\\\\n",
       "\tcyl & 2 & 18 &   7.444444 &   1.1490263 &   8.00 &   7.625000 &  0.0000000 &   4.00 &   8.000 &   4.000 & -1.7397531 &  1.94499359 &  0.2708281\\\\\n",
       "\tdisp & 3 & 18 & 307.150000 & 106.7652193 & 311.00 & 308.525000 & 72.6474000 & 120.30 & 472.000 & 351.700 & -0.2554760 & -1.05725636 & 25.1648035\\\\\n",
       "\thp & 4 & 18 & 189.722222 &  60.2815019 & 180.00 & 186.812500 & 48.1845000 &  91.00 & 335.000 & 244.000 &  0.4528693 & -0.14510499 & 14.2084863\\\\\n",
       "\tdrat & 5 & 18 &   3.392222 &   0.4739515 &   3.18 &   3.366875 &  0.3187590 &   2.76 &   4.430 &   1.670 &  0.7404542 & -0.73394358 &  0.1117115\\\\\n",
       "\twt & 6 & 18 &   3.688556 &   0.9040308 &   3.57 &   3.676875 &  0.5003775 &   2.14 &   5.424 &   3.284 &  0.5425973 & -0.43390250 &  0.2130821\\\\\n",
       "\tqsec & 7 & 18 &  16.693889 &   1.0918960 &  17.02 &  16.749375 &  0.8450820 &  14.50 &  18.000 &   3.500 & -0.7079236 & -0.79946994 &  0.2573624\\\\\n",
       "\tgear & 8 & 18 &   3.555556 &   0.8555853 &   3.00 &   3.500000 &  0.0000000 &   3.00 &   5.000 &   2.000 &  0.9023599 & -1.06814531 &  0.2016634\\\\\n",
       "\tcarb & 9 & 18 &   3.611111 &   1.5392469 &   4.00 &   3.437500 &  1.4826000 &   2.00 &   8.000 &   6.000 &  1.1737397 &  1.33375017 &  0.3628040\\\\\n",
       "\\end{tabular}\n"
      ],
      "text/markdown": [
       "\n",
       "A psych: 9 × 13\n",
       "\n",
       "| <!--/--> | vars &lt;int&gt; | n &lt;dbl&gt; | mean &lt;dbl&gt; | sd &lt;dbl&gt; | median &lt;dbl&gt; | trimmed &lt;dbl&gt; | mad &lt;dbl&gt; | min &lt;dbl&gt; | max &lt;dbl&gt; | range &lt;dbl&gt; | skew &lt;dbl&gt; | kurtosis &lt;dbl&gt; | se &lt;dbl&gt; |\n",
       "|---|---|---|---|---|---|---|---|---|---|---|---|---|---|\n",
       "| mpg | 1 | 18 |  16.616667 |   3.8606994 |  15.65 |  16.418750 |  2.9652000 |  10.40 |  26.000 |  15.600 |  0.4848484 | -0.04617697 |  0.9099756 |\n",
       "| cyl | 2 | 18 |   7.444444 |   1.1490263 |   8.00 |   7.625000 |  0.0000000 |   4.00 |   8.000 |   4.000 | -1.7397531 |  1.94499359 |  0.2708281 |\n",
       "| disp | 3 | 18 | 307.150000 | 106.7652193 | 311.00 | 308.525000 | 72.6474000 | 120.30 | 472.000 | 351.700 | -0.2554760 | -1.05725636 | 25.1648035 |\n",
       "| hp | 4 | 18 | 189.722222 |  60.2815019 | 180.00 | 186.812500 | 48.1845000 |  91.00 | 335.000 | 244.000 |  0.4528693 | -0.14510499 | 14.2084863 |\n",
       "| drat | 5 | 18 |   3.392222 |   0.4739515 |   3.18 |   3.366875 |  0.3187590 |   2.76 |   4.430 |   1.670 |  0.7404542 | -0.73394358 |  0.1117115 |\n",
       "| wt | 6 | 18 |   3.688556 |   0.9040308 |   3.57 |   3.676875 |  0.5003775 |   2.14 |   5.424 |   3.284 |  0.5425973 | -0.43390250 |  0.2130821 |\n",
       "| qsec | 7 | 18 |  16.693889 |   1.0918960 |  17.02 |  16.749375 |  0.8450820 |  14.50 |  18.000 |   3.500 | -0.7079236 | -0.79946994 |  0.2573624 |\n",
       "| gear | 8 | 18 |   3.555556 |   0.8555853 |   3.00 |   3.500000 |  0.0000000 |   3.00 |   5.000 |   2.000 |  0.9023599 | -1.06814531 |  0.2016634 |\n",
       "| carb | 9 | 18 |   3.611111 |   1.5392469 |   4.00 |   3.437500 |  1.4826000 |   2.00 |   8.000 |   6.000 |  1.1737397 |  1.33375017 |  0.3628040 |\n",
       "\n"
      ],
      "text/plain": [
       "     vars n  mean       sd          median trimmed    mad        min    max    \n",
       "mpg  1    18  16.616667   3.8606994  15.65  16.418750  2.9652000  10.40  26.000\n",
       "cyl  2    18   7.444444   1.1490263   8.00   7.625000  0.0000000   4.00   8.000\n",
       "disp 3    18 307.150000 106.7652193 311.00 308.525000 72.6474000 120.30 472.000\n",
       "hp   4    18 189.722222  60.2815019 180.00 186.812500 48.1845000  91.00 335.000\n",
       "drat 5    18   3.392222   0.4739515   3.18   3.366875  0.3187590   2.76   4.430\n",
       "wt   6    18   3.688556   0.9040308   3.57   3.676875  0.5003775   2.14   5.424\n",
       "qsec 7    18  16.693889   1.0918960  17.02  16.749375  0.8450820  14.50  18.000\n",
       "gear 8    18   3.555556   0.8555853   3.00   3.500000  0.0000000   3.00   5.000\n",
       "carb 9    18   3.611111   1.5392469   4.00   3.437500  1.4826000   2.00   8.000\n",
       "     range   skew       kurtosis    se        \n",
       "mpg   15.600  0.4848484 -0.04617697  0.9099756\n",
       "cyl    4.000 -1.7397531  1.94499359  0.2708281\n",
       "disp 351.700 -0.2554760 -1.05725636 25.1648035\n",
       "hp   244.000  0.4528693 -0.14510499 14.2084863\n",
       "drat   1.670  0.7404542 -0.73394358  0.1117115\n",
       "wt     3.284  0.5425973 -0.43390250  0.2130821\n",
       "qsec   3.500 -0.7079236 -0.79946994  0.2573624\n",
       "gear   2.000  0.9023599 -1.06814531  0.2016634\n",
       "carb   6.000  1.1737397  1.33375017  0.3628040"
      ]
     },
     "metadata": {},
     "output_type": "display_data"
    },
    {
     "data": {
      "text/html": [
       "<table class=\"dataframe\">\n",
       "<caption>A psych: 9 × 13</caption>\n",
       "<thead>\n",
       "\t<tr><th></th><th scope=col>vars</th><th scope=col>n</th><th scope=col>mean</th><th scope=col>sd</th><th scope=col>median</th><th scope=col>trimmed</th><th scope=col>mad</th><th scope=col>min</th><th scope=col>max</th><th scope=col>range</th><th scope=col>skew</th><th scope=col>kurtosis</th><th scope=col>se</th></tr>\n",
       "\t<tr><th></th><th scope=col>&lt;int&gt;</th><th scope=col>&lt;dbl&gt;</th><th scope=col>&lt;dbl&gt;</th><th scope=col>&lt;dbl&gt;</th><th scope=col>&lt;dbl&gt;</th><th scope=col>&lt;dbl&gt;</th><th scope=col>&lt;dbl&gt;</th><th scope=col>&lt;dbl&gt;</th><th scope=col>&lt;dbl&gt;</th><th scope=col>&lt;dbl&gt;</th><th scope=col>&lt;dbl&gt;</th><th scope=col>&lt;dbl&gt;</th><th scope=col>&lt;dbl&gt;</th></tr>\n",
       "</thead>\n",
       "<tbody>\n",
       "\t<tr><th scope=row>mpg</th><td>1</td><td>14</td><td> 24.557143</td><td> 5.3789782</td><td> 22.8000</td><td> 24.341667</td><td> 6.004530</td><td>17.800</td><td> 33.90</td><td> 16.100</td><td> 0.4055612</td><td>-1.40081941</td><td> 1.4375924</td></tr>\n",
       "\t<tr><th scope=row>cyl</th><td>2</td><td>14</td><td>  4.571429</td><td> 0.9376145</td><td>  4.0000</td><td>  4.500000</td><td> 0.000000</td><td> 4.000</td><td>  6.00</td><td>  2.000</td><td> 0.8488760</td><td>-1.36173469</td><td> 0.2505880</td></tr>\n",
       "\t<tr><th scope=row>disp</th><td>3</td><td>14</td><td>132.457143</td><td>56.8932430</td><td>120.5500</td><td>127.108333</td><td>61.824420</td><td>71.100</td><td>258.00</td><td>186.900</td><td> 0.8026718</td><td>-0.48933244</td><td>15.2053588</td></tr>\n",
       "\t<tr><th scope=row>hp</th><td>4</td><td>14</td><td> 91.357143</td><td>24.4244743</td><td> 96.0000</td><td> 92.000000</td><td>32.617200</td><td>52.000</td><td>123.00</td><td> 71.000</td><td>-0.2399009</td><td>-1.60915113</td><td> 6.5277153</td></tr>\n",
       "\t<tr><th scope=row>drat</th><td>5</td><td>14</td><td>  3.859286</td><td> 0.5057890</td><td>  3.9200</td><td>  3.861667</td><td> 0.259455</td><td> 2.760</td><td>  4.93</td><td>  2.170</td><td>-0.2754065</td><td> 0.46046904</td><td> 0.1351778</td></tr>\n",
       "\t<tr><th scope=row>wt</th><td>6</td><td>14</td><td>  2.611286</td><td> 0.7150100</td><td>  2.6225</td><td>  2.632083</td><td> 0.948864</td><td> 1.513</td><td>  3.46</td><td>  1.947</td><td>-0.1687530</td><td>-1.67700029</td><td> 0.1910945</td></tr>\n",
       "\t<tr><th scope=row>qsec</th><td>7</td><td>14</td><td> 19.333571</td><td> 1.3544150</td><td> 19.1700</td><td> 19.239167</td><td> 1.022994</td><td>16.900</td><td> 22.90</td><td>  6.000</td><td> 0.8584003</td><td> 1.24936758</td><td> 0.3619826</td></tr>\n",
       "\t<tr><th scope=row>gear</th><td>8</td><td>14</td><td>  3.857143</td><td> 0.5345225</td><td>  4.0000</td><td>  3.833333</td><td> 0.000000</td><td> 3.000</td><td>  5.00</td><td>  2.000</td><td>-0.1718108</td><td>-0.08673469</td><td> 0.1428571</td></tr>\n",
       "\t<tr><th scope=row>carb</th><td>9</td><td>14</td><td>  1.785714</td><td> 1.0509023</td><td>  1.5000</td><td>  1.666667</td><td> 0.741300</td><td> 1.000</td><td>  4.00</td><td>  3.000</td><td> 1.1303980</td><td>-0.02744161</td><td> 0.2808654</td></tr>\n",
       "</tbody>\n",
       "</table>\n"
      ],
      "text/latex": [
       "A psych: 9 × 13\n",
       "\\begin{tabular}{r|lllllllllllll}\n",
       "  & vars & n & mean & sd & median & trimmed & mad & min & max & range & skew & kurtosis & se\\\\\n",
       "  & <int> & <dbl> & <dbl> & <dbl> & <dbl> & <dbl> & <dbl> & <dbl> & <dbl> & <dbl> & <dbl> & <dbl> & <dbl>\\\\\n",
       "\\hline\n",
       "\tmpg & 1 & 14 &  24.557143 &  5.3789782 &  22.8000 &  24.341667 &  6.004530 & 17.800 &  33.90 &  16.100 &  0.4055612 & -1.40081941 &  1.4375924\\\\\n",
       "\tcyl & 2 & 14 &   4.571429 &  0.9376145 &   4.0000 &   4.500000 &  0.000000 &  4.000 &   6.00 &   2.000 &  0.8488760 & -1.36173469 &  0.2505880\\\\\n",
       "\tdisp & 3 & 14 & 132.457143 & 56.8932430 & 120.5500 & 127.108333 & 61.824420 & 71.100 & 258.00 & 186.900 &  0.8026718 & -0.48933244 & 15.2053588\\\\\n",
       "\thp & 4 & 14 &  91.357143 & 24.4244743 &  96.0000 &  92.000000 & 32.617200 & 52.000 & 123.00 &  71.000 & -0.2399009 & -1.60915113 &  6.5277153\\\\\n",
       "\tdrat & 5 & 14 &   3.859286 &  0.5057890 &   3.9200 &   3.861667 &  0.259455 &  2.760 &   4.93 &   2.170 & -0.2754065 &  0.46046904 &  0.1351778\\\\\n",
       "\twt & 6 & 14 &   2.611286 &  0.7150100 &   2.6225 &   2.632083 &  0.948864 &  1.513 &   3.46 &   1.947 & -0.1687530 & -1.67700029 &  0.1910945\\\\\n",
       "\tqsec & 7 & 14 &  19.333571 &  1.3544150 &  19.1700 &  19.239167 &  1.022994 & 16.900 &  22.90 &   6.000 &  0.8584003 &  1.24936758 &  0.3619826\\\\\n",
       "\tgear & 8 & 14 &   3.857143 &  0.5345225 &   4.0000 &   3.833333 &  0.000000 &  3.000 &   5.00 &   2.000 & -0.1718108 & -0.08673469 &  0.1428571\\\\\n",
       "\tcarb & 9 & 14 &   1.785714 &  1.0509023 &   1.5000 &   1.666667 &  0.741300 &  1.000 &   4.00 &   3.000 &  1.1303980 & -0.02744161 &  0.2808654\\\\\n",
       "\\end{tabular}\n"
      ],
      "text/markdown": [
       "\n",
       "A psych: 9 × 13\n",
       "\n",
       "| <!--/--> | vars &lt;int&gt; | n &lt;dbl&gt; | mean &lt;dbl&gt; | sd &lt;dbl&gt; | median &lt;dbl&gt; | trimmed &lt;dbl&gt; | mad &lt;dbl&gt; | min &lt;dbl&gt; | max &lt;dbl&gt; | range &lt;dbl&gt; | skew &lt;dbl&gt; | kurtosis &lt;dbl&gt; | se &lt;dbl&gt; |\n",
       "|---|---|---|---|---|---|---|---|---|---|---|---|---|---|\n",
       "| mpg | 1 | 14 |  24.557143 |  5.3789782 |  22.8000 |  24.341667 |  6.004530 | 17.800 |  33.90 |  16.100 |  0.4055612 | -1.40081941 |  1.4375924 |\n",
       "| cyl | 2 | 14 |   4.571429 |  0.9376145 |   4.0000 |   4.500000 |  0.000000 |  4.000 |   6.00 |   2.000 |  0.8488760 | -1.36173469 |  0.2505880 |\n",
       "| disp | 3 | 14 | 132.457143 | 56.8932430 | 120.5500 | 127.108333 | 61.824420 | 71.100 | 258.00 | 186.900 |  0.8026718 | -0.48933244 | 15.2053588 |\n",
       "| hp | 4 | 14 |  91.357143 | 24.4244743 |  96.0000 |  92.000000 | 32.617200 | 52.000 | 123.00 |  71.000 | -0.2399009 | -1.60915113 |  6.5277153 |\n",
       "| drat | 5 | 14 |   3.859286 |  0.5057890 |   3.9200 |   3.861667 |  0.259455 |  2.760 |   4.93 |   2.170 | -0.2754065 |  0.46046904 |  0.1351778 |\n",
       "| wt | 6 | 14 |   2.611286 |  0.7150100 |   2.6225 |   2.632083 |  0.948864 |  1.513 |   3.46 |   1.947 | -0.1687530 | -1.67700029 |  0.1910945 |\n",
       "| qsec | 7 | 14 |  19.333571 |  1.3544150 |  19.1700 |  19.239167 |  1.022994 | 16.900 |  22.90 |   6.000 |  0.8584003 |  1.24936758 |  0.3619826 |\n",
       "| gear | 8 | 14 |   3.857143 |  0.5345225 |   4.0000 |   3.833333 |  0.000000 |  3.000 |   5.00 |   2.000 | -0.1718108 | -0.08673469 |  0.1428571 |\n",
       "| carb | 9 | 14 |   1.785714 |  1.0509023 |   1.5000 |   1.666667 |  0.741300 |  1.000 |   4.00 |   3.000 |  1.1303980 | -0.02744161 |  0.2808654 |\n",
       "\n"
      ],
      "text/plain": [
       "     vars n  mean       sd         median   trimmed    mad       min    max   \n",
       "mpg  1    14  24.557143  5.3789782  22.8000  24.341667  6.004530 17.800  33.90\n",
       "cyl  2    14   4.571429  0.9376145   4.0000   4.500000  0.000000  4.000   6.00\n",
       "disp 3    14 132.457143 56.8932430 120.5500 127.108333 61.824420 71.100 258.00\n",
       "hp   4    14  91.357143 24.4244743  96.0000  92.000000 32.617200 52.000 123.00\n",
       "drat 5    14   3.859286  0.5057890   3.9200   3.861667  0.259455  2.760   4.93\n",
       "wt   6    14   2.611286  0.7150100   2.6225   2.632083  0.948864  1.513   3.46\n",
       "qsec 7    14  19.333571  1.3544150  19.1700  19.239167  1.022994 16.900  22.90\n",
       "gear 8    14   3.857143  0.5345225   4.0000   3.833333  0.000000  3.000   5.00\n",
       "carb 9    14   1.785714  1.0509023   1.5000   1.666667  0.741300  1.000   4.00\n",
       "     range   skew       kurtosis    se        \n",
       "mpg   16.100  0.4055612 -1.40081941  1.4375924\n",
       "cyl    2.000  0.8488760 -1.36173469  0.2505880\n",
       "disp 186.900  0.8026718 -0.48933244 15.2053588\n",
       "hp    71.000 -0.2399009 -1.60915113  6.5277153\n",
       "drat   2.170 -0.2754065  0.46046904  0.1351778\n",
       "wt     1.947 -0.1687530 -1.67700029  0.1910945\n",
       "qsec   6.000  0.8584003  1.24936758  0.3619826\n",
       "gear   2.000 -0.1718108 -0.08673469  0.1428571\n",
       "carb   3.000  1.1303980 -0.02744161  0.2808654"
      ]
     },
     "metadata": {},
     "output_type": "display_data"
    }
   ],
   "source": [
    "descr2  <- describeBy(x = df[,-c(8,9)], group = df$vs)\n",
    "descr2$V\n",
    "descr2$S\n"
   ]
  },
  {
   "cell_type": "markdown",
   "id": "aec39bf8",
   "metadata": {},
   "source": [
    "Получим матрицу, а не list. Что удобно для просмотра всех данных, digits позволяет округлить данные."
   ]
  },
  {
   "cell_type": "code",
   "execution_count": null,
   "id": "1c06c1c0",
   "metadata": {},
   "outputs": [],
   "source": [
    "descr2  <- describeBy(x = df[,-c(8,9)], group = df$vs, mat = T, digits = 1)\n",
    "descr2"
   ]
  },
  {
   "cell_type": "markdown",
   "id": "ec6ad1e9",
   "metadata": {},
   "source": [
    "`fast` более быстрый вариант описательных статистик."
   ]
  },
  {
   "cell_type": "code",
   "execution_count": null,
   "id": "369c4554",
   "metadata": {},
   "outputs": [],
   "source": [
    "descr3  <- describeBy(x = df[,-c(8,9)], group = df$vs, mat = T, digits = 1, fast = T)\n",
    "descr3"
   ]
  },
  {
   "cell_type": "markdown",
   "id": "6b83d4c8",
   "metadata": {},
   "source": [
    "Укажем две группирующих переменных"
   ]
  },
  {
   "cell_type": "code",
   "execution_count": 92,
   "id": "8c9c53f3",
   "metadata": {},
   "outputs": [
    {
     "data": {
      "text/plain": [
       "\n",
       " Descriptive statistics by group \n",
       ": V\n",
       ": Auto\n",
       "   vars  n  mean  sd   min max range   se\n",
       "X1    1 12 17.14 0.8 15.41  18  2.59 0.23\n",
       "------------------------------------------------------------ \n",
       ": S\n",
       ": Auto\n",
       "   vars n  mean   sd  min  max range   se\n",
       "X1    1 7 19.97 1.46 18.3 22.9   4.6 0.55\n",
       "------------------------------------------------------------ \n",
       ": V\n",
       ": Manual\n",
       "   vars n mean   sd  min   max range   se\n",
       "X1    1 6 15.8 1.09 14.5 17.02  2.52 0.45\n",
       "------------------------------------------------------------ \n",
       ": S\n",
       ": Manual\n",
       "   vars n mean   sd  min  max range   se\n",
       "X1    1 7 18.7 0.95 16.9 19.9     3 0.36"
      ]
     },
     "metadata": {},
     "output_type": "display_data"
    }
   ],
   "source": [
    "describeBy(df$qsec, group = list(df$vs, df$am), digits = 1, fast = T)"
   ]
  },
  {
   "cell_type": "markdown",
   "id": "e39410ca",
   "metadata": {},
   "source": [
    "## Step 10: NA values"
   ]
  },
  {
   "cell_type": "code",
   "execution_count": 93,
   "id": "6d36ae62",
   "metadata": {},
   "outputs": [
    {
     "data": {
      "text/html": [
       "0"
      ],
      "text/latex": [
       "0"
      ],
      "text/markdown": [
       "0"
      ],
      "text/plain": [
       "[1] 0"
      ]
     },
     "metadata": {},
     "output_type": "display_data"
    }
   ],
   "source": [
    "sum(is.na(df))"
   ]
  },
  {
   "cell_type": "code",
   "execution_count": null,
   "id": "f12552b6",
   "metadata": {},
   "outputs": [],
   "source": [
    "df$mpg[1:10] <- NA\n",
    "sum(is.na(df))"
   ]
  },
  {
   "cell_type": "markdown",
   "id": "d22b2667",
   "metadata": {},
   "source": [
    "Пставим мету, что необходимо игнорировать пропушенные значения"
   ]
  },
  {
   "cell_type": "code",
   "execution_count": 94,
   "id": "f8d8ec06",
   "metadata": {},
   "outputs": [
    {
     "data": {
      "text/html": [
       "20.090625"
      ],
      "text/latex": [
       "20.090625"
      ],
      "text/markdown": [
       "20.090625"
      ],
      "text/plain": [
       "[1] 20.09062"
      ]
     },
     "metadata": {},
     "output_type": "display_data"
    }
   ],
   "source": [
    "mean(df$mpg, na.rm = T)"
   ]
  },
  {
   "cell_type": "markdown",
   "id": "cda44fc2",
   "metadata": {},
   "source": [
    "`aggregate` поумолчанию игнорирует пропуски."
   ]
  },
  {
   "cell_type": "code",
   "execution_count": 95,
   "id": "612fd7bd",
   "metadata": {},
   "outputs": [
    {
     "data": {
      "text/html": [
       "<table class=\"dataframe\">\n",
       "<caption>A data.frame: 2 × 2</caption>\n",
       "<thead>\n",
       "\t<tr><th scope=col>am</th><th scope=col>mpg</th></tr>\n",
       "\t<tr><th scope=col>&lt;fct&gt;</th><th scope=col>&lt;dbl&gt;</th></tr>\n",
       "</thead>\n",
       "<tbody>\n",
       "\t<tr><td>Auto  </td><td>3.833966</td></tr>\n",
       "\t<tr><td>Manual</td><td>6.166504</td></tr>\n",
       "</tbody>\n",
       "</table>\n"
      ],
      "text/latex": [
       "A data.frame: 2 × 2\n",
       "\\begin{tabular}{ll}\n",
       " am & mpg\\\\\n",
       " <fct> & <dbl>\\\\\n",
       "\\hline\n",
       "\t Auto   & 3.833966\\\\\n",
       "\t Manual & 6.166504\\\\\n",
       "\\end{tabular}\n"
      ],
      "text/markdown": [
       "\n",
       "A data.frame: 2 × 2\n",
       "\n",
       "| am &lt;fct&gt; | mpg &lt;dbl&gt; |\n",
       "|---|---|\n",
       "| Auto   | 3.833966 |\n",
       "| Manual | 6.166504 |\n",
       "\n"
      ],
      "text/plain": [
       "  am     mpg     \n",
       "1 Auto   3.833966\n",
       "2 Manual 6.166504"
      ]
     },
     "metadata": {},
     "output_type": "display_data"
    }
   ],
   "source": [
    "aggregate(mpg ~ am, df, sd)"
   ]
  },
  {
   "cell_type": "markdown",
   "id": "3b7619bd",
   "metadata": {},
   "source": [
    "`describe` изначально не учитывает пропуски в столбец."
   ]
  },
  {
   "cell_type": "markdown",
   "id": "44e702c5",
   "metadata": {},
   "source": [
    "`replace`"
   ]
  },
  {
   "cell_type": "code",
   "execution_count": 182,
   "id": "0054aa26",
   "metadata": {},
   "outputs": [
    {
     "name": "stderr",
     "output_type": "stream",
     "text": [
      "Your code contains a unicode char which cannot be displayed in your\n",
      "current locale and R will silently convert it to an escaped form when the\n",
      "R kernel executes this code. This can lead to subtle errors if you use\n",
      "such chars to do comparisons. For more information, please see\n",
      "https://github.com/IRkernel/repr/wiki/Problems-with-unicode-on-windows"
     ]
    }
   ],
   "source": [
    "my_vector <- rnorm(30)\n",
    "\n",
    "my_vector[sample(1:30, 10)] <- NA # на десять случайных позиций поместим "
   ]
  },
  {
   "cell_type": "code",
   "execution_count": 184,
   "id": "2d81a5e5",
   "metadata": {},
   "outputs": [
    {
     "data": {
      "text/html": [
       "<style>\n",
       ".list-inline {list-style: none; margin:0; padding: 0}\n",
       ".list-inline>li {display: inline-block}\n",
       ".list-inline>li:not(:last-child)::after {content: \"\\00b7\"; padding: 0 .5ex}\n",
       "</style>\n",
       "<ol class=list-inline><li>-0.136337654371507</li><li>-0.0196950984008929</li><li>0.111784061892324</li><li>-0.167097106987694</li><li>-0.606313270079505</li><li>0.111784061892324</li><li>-2.71341085942507</li><li>0.111784061892324</li><li>0.111784061892324</li><li>1.56830642021953</li><li>0.173429188484986</li><li>0.111784061892324</li><li>0.111784061892324</li><li>-0.385288454723389</li><li>0.111784061892324</li><li>0.111784061892324</li><li>-0.158639690801613</li><li>0.550578895440881</li><li>0.111784061892324</li><li>-0.920187968389733</li><li>1.77264889754965</li><li>1.46238838794775</li><li>0.956913675522712</li><li>0.470728259528575</li><li>0.158439954879234</li><li>0.318836495373552</li><li>-0.0637947068456697</li><li>0.463861614869432</li><li>0.111784061892324</li><li>-0.489685741944765</li></ol>\n"
      ],
      "text/latex": [
       "\\begin{enumerate*}\n",
       "\\item -0.136337654371507\n",
       "\\item -0.0196950984008929\n",
       "\\item 0.111784061892324\n",
       "\\item -0.167097106987694\n",
       "\\item -0.606313270079505\n",
       "\\item 0.111784061892324\n",
       "\\item -2.71341085942507\n",
       "\\item 0.111784061892324\n",
       "\\item 0.111784061892324\n",
       "\\item 1.56830642021953\n",
       "\\item 0.173429188484986\n",
       "\\item 0.111784061892324\n",
       "\\item 0.111784061892324\n",
       "\\item -0.385288454723389\n",
       "\\item 0.111784061892324\n",
       "\\item 0.111784061892324\n",
       "\\item -0.158639690801613\n",
       "\\item 0.550578895440881\n",
       "\\item 0.111784061892324\n",
       "\\item -0.920187968389733\n",
       "\\item 1.77264889754965\n",
       "\\item 1.46238838794775\n",
       "\\item 0.956913675522712\n",
       "\\item 0.470728259528575\n",
       "\\item 0.158439954879234\n",
       "\\item 0.318836495373552\n",
       "\\item -0.0637947068456697\n",
       "\\item 0.463861614869432\n",
       "\\item 0.111784061892324\n",
       "\\item -0.489685741944765\n",
       "\\end{enumerate*}\n"
      ],
      "text/markdown": [
       "1. -0.136337654371507\n",
       "2. -0.0196950984008929\n",
       "3. 0.111784061892324\n",
       "4. -0.167097106987694\n",
       "5. -0.606313270079505\n",
       "6. 0.111784061892324\n",
       "7. -2.71341085942507\n",
       "8. 0.111784061892324\n",
       "9. 0.111784061892324\n",
       "10. 1.56830642021953\n",
       "11. 0.173429188484986\n",
       "12. 0.111784061892324\n",
       "13. 0.111784061892324\n",
       "14. -0.385288454723389\n",
       "15. 0.111784061892324\n",
       "16. 0.111784061892324\n",
       "17. -0.158639690801613\n",
       "18. 0.550578895440881\n",
       "19. 0.111784061892324\n",
       "20. -0.920187968389733\n",
       "21. 1.77264889754965\n",
       "22. 1.46238838794775\n",
       "23. 0.956913675522712\n",
       "24. 0.470728259528575\n",
       "25. 0.158439954879234\n",
       "26. 0.318836495373552\n",
       "27. -0.0637947068456697\n",
       "28. 0.463861614869432\n",
       "29. 0.111784061892324\n",
       "30. -0.489685741944765\n",
       "\n",
       "\n"
      ],
      "text/plain": [
       " [1] -0.13633765 -0.01969510  0.11178406 -0.16709711 -0.60631327  0.11178406\n",
       " [7] -2.71341086  0.11178406  0.11178406  1.56830642  0.17342919  0.11178406\n",
       "[13]  0.11178406 -0.38528845  0.11178406  0.11178406 -0.15863969  0.55057890\n",
       "[19]  0.11178406 -0.92018797  1.77264890  1.46238839  0.95691368  0.47072826\n",
       "[25]  0.15843995  0.31883650 -0.06379471  0.46386161  0.11178406 -0.48968574"
      ]
     },
     "metadata": {},
     "output_type": "display_data"
    }
   ],
   "source": [
    "replace(my_vector, is.na(my_vector), mean(my_vector, na.rm=T))"
   ]
  },
  {
   "cell_type": "markdown",
   "id": "9c76a9d7",
   "metadata": {},
   "source": [
    "<h1 style=\"color:black\" align=\"center\">1.6 Описательные статистики. Графики</h1>"
   ]
  },
  {
   "cell_type": "markdown",
   "id": "8ae21806",
   "metadata": {},
   "source": [
    "## Step 1: Base graphs"
   ]
  },
  {
   "cell_type": "code",
   "execution_count": 186,
   "id": "209a0345",
   "metadata": {},
   "outputs": [],
   "source": [
    "df  <- mtcars\n",
    "df$vs  <- factor(df$vs  , labels = c(\"V\", \"S\"))\n",
    "df$am  <- factor(df$am  , labels = c(\"Auto\", \"Manual\"))"
   ]
  },
  {
   "cell_type": "markdown",
   "id": "c0d88f3b",
   "metadata": {},
   "source": [
    "### `hist`"
   ]
  },
  {
   "cell_type": "code",
   "execution_count": 187,
   "id": "609762d0",
   "metadata": {},
   "outputs": [
    {
     "data": {
      "image/png": "[encoded data removed]",
      "text/plain": [
       "Plot with title \"Histogram of MPG\""
      ]
     },
     "metadata": {
      "image/png": {
       "height": 420,
       "width": 420
      }
     },
     "output_type": "display_data"
    }
   ],
   "source": [
    "hist(df$mpg, breaks = 20, xlab = \"MPG\", main =\"Histogram of MPG\", \n",
    "     col = \"green\", cex.lab = 1.3, cex.axis = 1.3)"
   ]
  },
  {
   "cell_type": "markdown",
   "id": "ccdabf2b",
   "metadata": {},
   "source": [
    "### `plot`"
   ]
  },
  {
   "cell_type": "code",
   "execution_count": 189,
   "id": "90906b19",
   "metadata": {},
   "outputs": [
    {
     "data": {
      "image/png": "[encoded data removed]",
      "text/plain": [
       "Plot with title \"Density of MPG\""
      ]
     },
     "metadata": {
      "image/png": {
       "height": 420,
       "width": 420
      }
     },
     "output_type": "display_data"
    }
   ],
   "source": [
    "plot(density(df$mpg), xlab = \"MPG\", main =\"Density of MPG\", \n",
    "     col = \"green\", cex.lab = 1.3, cex.axis = 1.3)"
   ]
  },
  {
   "cell_type": "code",
   "execution_count": 194,
   "id": "5b58e3a8",
   "metadata": {},
   "outputs": [
    {
     "data": {
      "image/png": "[encoded data removed]",
      "text/plain": [
       "plot without title"
      ]
     },
     "metadata": {
      "image/png": {
       "height": 420,
       "width": 420
      }
     },
     "output_type": "display_data"
    }
   ],
   "source": [
    "plot(~ mpg + hp, df)"
   ]
  },
  {
   "cell_type": "code",
   "execution_count": 195,
   "id": "2db4247a",
   "metadata": {},
   "outputs": [
    {
     "data": {
      "image/png": "[encoded data removed]",
      "text/plain": [
       "Plot with title \"MPG and HP\""
      ]
     },
     "metadata": {
      "image/png": {
       "height": 420,
       "width": 420
      }
     },
     "output_type": "display_data"
    }
   ],
   "source": [
    "plot(df$mpg, df$hp, xlab = \"MPG\", ylab =\"HP\" , main =\"MPG and HP\", pch = 22)"
   ]
  },
  {
   "cell_type": "markdown",
   "id": "4cc14127",
   "metadata": {},
   "source": [
    "### `boxplot`"
   ]
  },
  {
   "cell_type": "code",
   "execution_count": 190,
   "id": "ecb3c348",
   "metadata": {},
   "outputs": [
    {
     "data": {
      "image/png": "[encoded data removed]",
      "text/plain": [
       "Plot with title \"MPG and AM\""
      ]
     },
     "metadata": {
      "image/png": {
       "height": 420,
       "width": 420
      }
     },
     "output_type": "display_data"
    }
   ],
   "source": [
    "boxplot(mpg ~ am, df, ylab = \"MPG\", main =\"MPG and AM\", \n",
    "        col = \"green\", cex.lab = 1.3, cex.axis = 1.3)"
   ]
  },
  {
   "cell_type": "code",
   "execution_count": 191,
   "id": "1313d3d0",
   "metadata": {},
   "outputs": [
    {
     "data": {
      "image/png": "[encoded data removed]",
      "text/plain": [
       "Plot with title \"MPG and AM\""
      ]
     },
     "metadata": {
      "image/png": {
       "height": 420,
       "width": 420
      }
     },
     "output_type": "display_data"
    }
   ],
   "source": [
    "boxplot(df$mpg[df$am == \"Auto\"], df$mpg[df$am == \"Manual\"], ylab = \"MPG\", main =\"MPG and AM\", \n",
    "        col = \"green\", cex.lab = 1.3, cex.axis = 1.3)"
   ]
  },
  {
   "cell_type": "markdown",
   "id": "9afe3a1c",
   "metadata": {},
   "source": [
    "## Step 2, 3: Library ggplot2"
   ]
  },
  {
   "cell_type": "code",
   "execution_count": 196,
   "id": "42cd27d8",
   "metadata": {},
   "outputs": [],
   "source": [
    "library(ggplot2)"
   ]
  },
  {
   "cell_type": "markdown",
   "id": "8518c999",
   "metadata": {},
   "source": [
    "`aes` - какие переменные должны быть отображены и каким образом. Дальше необходимо указать образ отображения."
   ]
  },
  {
   "cell_type": "markdown",
   "id": "1e72ff72",
   "metadata": {},
   "source": [
    "### `geom_histogram`"
   ]
  },
  {
   "cell_type": "code",
   "execution_count": 197,
   "id": "bf0e5b93",
   "metadata": {},
   "outputs": [
    {
     "data": {
      "image/png": "[encoded data removed]",
      "text/plain": [
       "plot without title"
      ]
     },
     "metadata": {
      "image/png": {
       "height": 420,
       "width": 420
      }
     },
     "output_type": "display_data"
    }
   ],
   "source": [
    "ggplot(df, aes(x = mpg))+\n",
    "  geom_histogram(fill = \"white\", col = \"black\", binwidth = 2)+\n",
    "  xlab(\"Miles/(US) gallon\")+\n",
    "  ylab(\"Count\")+\n",
    "  ggtitle(\"MPG histogram\")"
   ]
  },
  {
   "cell_type": "markdown",
   "id": "2b30ed53",
   "metadata": {},
   "source": [
    "### `geom_dotplot`"
   ]
  },
  {
   "cell_type": "code",
   "execution_count": 199,
   "id": "f564b92a",
   "metadata": {},
   "outputs": [
    {
     "name": "stderr",
     "output_type": "stream",
     "text": [
      "Bin width defaults to 1/30 of the range of the data. Pick better value with `binwidth`.\n",
      "\n"
     ]
    },
    {
     "data": {
      "image/png": "[encoded data removed]",
      "text/plain": [
       "plot without title"
      ]
     },
     "metadata": {
      "image/png": {
       "height": 420,
       "width": 420
      }
     },
     "output_type": "display_data"
    }
   ],
   "source": [
    "ggplot(df, aes(x = mpg, fill = am))+\n",
    "  geom_dotplot()+\n",
    "  xlab(\"Miles/(US) gallon\")+\n",
    "  ylab(\"Count\")+\n",
    "  scale_fill_discrete(name=\"Transmission type\")+\n",
    "  ggtitle(\"MPG dotplot\")"
   ]
  },
  {
   "cell_type": "markdown",
   "id": "4dd49910",
   "metadata": {},
   "source": [
    "### `geom_density`"
   ]
  },
  {
   "cell_type": "code",
   "execution_count": 206,
   "id": "e9343fa7",
   "metadata": {},
   "outputs": [
    {
     "data": {
      "image/png": "[encoded data removed]",
      "text/plain": [
       "plot without title"
      ]
     },
     "metadata": {
      "image/png": {
       "height": 420,
       "width": 420
      }
     },
     "output_type": "display_data"
    }
   ],
   "source": [
    "ggplot(df, aes(x = mpg))+\n",
    "  geom_density(fill = \"green\", alpha = 0.5)"
   ]
  },
  {
   "cell_type": "markdown",
   "id": "eca12827",
   "metadata": {},
   "source": [
    "### Отображение нескольких переменных"
   ]
  },
  {
   "cell_type": "code",
   "execution_count": 202,
   "id": "b97b8d49",
   "metadata": {},
   "outputs": [
    {
     "data": {
      "image/png": "[encoded data removed]",
      "text/plain": [
       "plot without title"
      ]
     },
     "metadata": {
      "image/png": {
       "height": 420,
       "width": 420
      }
     },
     "output_type": "display_data"
    }
   ],
   "source": [
    "ggplot(df, aes(x = mpg, fill = am))+\n",
    "  geom_density(alpha = 0.5)+\n",
    "  xlab(\"Miles/(US) gallon\")+\n",
    "  ylab(\"Count\")+\n",
    "  scale_fill_discrete(name=\"Transmission type\")+\n",
    "  ggtitle(\"MPG density plot\")"
   ]
  },
  {
   "cell_type": "code",
   "execution_count": 203,
   "id": "c9208dac",
   "metadata": {},
   "outputs": [
    {
     "data": {
      "image/png": "[encoded data removed]",
      "text/plain": [
       "plot without title"
      ]
     },
     "metadata": {
      "image/png": {
       "height": 420,
       "width": 420
      }
     },
     "output_type": "display_data"
    }
   ],
   "source": [
    "ggplot(df, aes(x = am, y = hp, fill = vs))+\n",
    "  geom_boxplot()+\n",
    "  xlab(\"Transmission type\")+\n",
    "  ylab(\"Gross horsepower\")+\n",
    "  scale_fill_discrete(name=\"Engine type\")+\n",
    "  ggtitle(\"Gross horsepower and engine type\")"
   ]
  },
  {
   "cell_type": "code",
   "execution_count": 204,
   "id": "2f399ebb",
   "metadata": {},
   "outputs": [
    {
     "data": {
      "image/png": "[encoded data removed]",
      "text/plain": [
       "plot without title"
      ]
     },
     "metadata": {
      "image/png": {
       "height": 420,
       "width": 420
      }
     },
     "output_type": "display_data"
    }
   ],
   "source": [
    "ggplot(df, aes(x = mpg, y = hp, size = qsec))+\n",
    "  geom_point()+\n",
    "  xlab(\"Miles/(US) gallon\")+\n",
    "  ylab(\"Gross horsepower\")+\n",
    "  scale_size_continuous(name=\"1/4 mile time\")+\n",
    "  ggtitle(\"Miles/(US) gallon and Gross horsepower\")"
   ]
  },
  {
   "cell_type": "markdown",
   "id": "20d58859",
   "metadata": {},
   "source": [
    "### Сохранения графиков в переменные"
   ]
  },
  {
   "cell_type": "code",
   "execution_count": 207,
   "id": "1b579694",
   "metadata": {},
   "outputs": [
    {
     "data": {
      "image/png": "[encoded data removed]",
      "text/plain": [
       "plot without title"
      ]
     },
     "metadata": {
      "image/png": {
       "height": 420,
       "width": 420
      }
     },
     "output_type": "display_data"
    }
   ],
   "source": [
    "my_plot  <- ggplot(df, aes(x = mpg, y = hp, col = vs, size = qsec))+\n",
    "  geom_point()\n",
    "\n",
    "my_plot2  <- ggplot(df, aes(x = am, y = hp, fill = vs))\n",
    "\n",
    "my_plot2 + geom_boxplot()"
   ]
  },
  {
   "cell_type": "markdown",
   "id": "9604052e",
   "metadata": {},
   "source": [
    "### Задание 1\n",
    "\n",
    "При помощи функции ggplot() или boxplot() постройте график boxplot, используя встроенные в R данные airquality. По оси x отложите номер месяца, по оси y — значения переменной Ozone.\n",
    "\n",
    "На графике boxplot отдельными точками отображаются наблюдения, отклоняющиеся от 1 или 3 квартиля больше чем на полтора межквартильных размаха. Сколько таких наблюдений присутствует в сентябре (месяц №9)?\n",
    "\n",
    "Обратите внимание, что для корректного отображения графика ggplot ожидает факторную переменную по оси x."
   ]
  },
  {
   "cell_type": "code",
   "execution_count": 209,
   "id": "238644ea",
   "metadata": {},
   "outputs": [
    {
     "data": {
      "text/html": [
       "<table class=\"dataframe\">\n",
       "<caption>A data.frame: 6 × 6</caption>\n",
       "<thead>\n",
       "\t<tr><th></th><th scope=col>Ozone</th><th scope=col>Solar.R</th><th scope=col>Wind</th><th scope=col>Temp</th><th scope=col>Month</th><th scope=col>Day</th></tr>\n",
       "\t<tr><th></th><th scope=col>&lt;int&gt;</th><th scope=col>&lt;int&gt;</th><th scope=col>&lt;dbl&gt;</th><th scope=col>&lt;int&gt;</th><th scope=col>&lt;int&gt;</th><th scope=col>&lt;int&gt;</th></tr>\n",
       "</thead>\n",
       "<tbody>\n",
       "\t<tr><th scope=row>1</th><td>41</td><td>190</td><td> 7.4</td><td>67</td><td>5</td><td>1</td></tr>\n",
       "\t<tr><th scope=row>2</th><td>36</td><td>118</td><td> 8.0</td><td>72</td><td>5</td><td>2</td></tr>\n",
       "\t<tr><th scope=row>3</th><td>12</td><td>149</td><td>12.6</td><td>74</td><td>5</td><td>3</td></tr>\n",
       "\t<tr><th scope=row>4</th><td>18</td><td>313</td><td>11.5</td><td>62</td><td>5</td><td>4</td></tr>\n",
       "\t<tr><th scope=row>5</th><td>NA</td><td> NA</td><td>14.3</td><td>56</td><td>5</td><td>5</td></tr>\n",
       "\t<tr><th scope=row>6</th><td>28</td><td> NA</td><td>14.9</td><td>66</td><td>5</td><td>6</td></tr>\n",
       "</tbody>\n",
       "</table>\n"
      ],
      "text/latex": [
       "A data.frame: 6 × 6\n",
       "\\begin{tabular}{r|llllll}\n",
       "  & Ozone & Solar.R & Wind & Temp & Month & Day\\\\\n",
       "  & <int> & <int> & <dbl> & <int> & <int> & <int>\\\\\n",
       "\\hline\n",
       "\t1 & 41 & 190 &  7.4 & 67 & 5 & 1\\\\\n",
       "\t2 & 36 & 118 &  8.0 & 72 & 5 & 2\\\\\n",
       "\t3 & 12 & 149 & 12.6 & 74 & 5 & 3\\\\\n",
       "\t4 & 18 & 313 & 11.5 & 62 & 5 & 4\\\\\n",
       "\t5 & NA &  NA & 14.3 & 56 & 5 & 5\\\\\n",
       "\t6 & 28 &  NA & 14.9 & 66 & 5 & 6\\\\\n",
       "\\end{tabular}\n"
      ],
      "text/markdown": [
       "\n",
       "A data.frame: 6 × 6\n",
       "\n",
       "| <!--/--> | Ozone &lt;int&gt; | Solar.R &lt;int&gt; | Wind &lt;dbl&gt; | Temp &lt;int&gt; | Month &lt;int&gt; | Day &lt;int&gt; |\n",
       "|---|---|---|---|---|---|---|\n",
       "| 1 | 41 | 190 |  7.4 | 67 | 5 | 1 |\n",
       "| 2 | 36 | 118 |  8.0 | 72 | 5 | 2 |\n",
       "| 3 | 12 | 149 | 12.6 | 74 | 5 | 3 |\n",
       "| 4 | 18 | 313 | 11.5 | 62 | 5 | 4 |\n",
       "| 5 | NA |  NA | 14.3 | 56 | 5 | 5 |\n",
       "| 6 | 28 |  NA | 14.9 | 66 | 5 | 6 |\n",
       "\n"
      ],
      "text/plain": [
       "  Ozone Solar.R Wind Temp Month Day\n",
       "1 41    190      7.4 67   5     1  \n",
       "2 36    118      8.0 72   5     2  \n",
       "3 12    149     12.6 74   5     3  \n",
       "4 18    313     11.5 62   5     4  \n",
       "5 NA     NA     14.3 56   5     5  \n",
       "6 28     NA     14.9 66   5     6  "
      ]
     },
     "metadata": {},
     "output_type": "display_data"
    }
   ],
   "source": [
    "head(airquality)"
   ]
  },
  {
   "cell_type": "code",
   "execution_count": 220,
   "id": "f479823f",
   "metadata": {},
   "outputs": [
    {
     "data": {
      "image/png": "[encoded data removed]",
      "text/plain": [
       "plot without title"
      ]
     },
     "metadata": {
      "image/png": {
       "height": 420,
       "width": 420
      }
     },
     "output_type": "display_data"
    }
   ],
   "source": [
    "boxplot(Ozone ~ Month, airquality, col = \"green\", cex.lab = 1.3, cex.axis = 1.3)"
   ]
  },
  {
   "cell_type": "markdown",
   "id": "371c7cca",
   "metadata": {},
   "source": [
    "### Задание 2\n",
    "\n",
    "Используем знакомые нам данные mtcars. \n",
    "\n",
    "Нужно построить scatterplot с помощью ggplot из ggplot2, по оси x которого будет mpg, по оси y - disp, а цветом отобразить переменную (hp).\n",
    "\n",
    "Полученный график нужно сохранить в переменную plot1. Таким образом в ответе должен быть скрипт:"
   ]
  },
  {
   "cell_type": "code",
   "execution_count": 237,
   "id": "d64ae467",
   "metadata": {},
   "outputs": [
    {
     "data": {
      "image/png": "[encoded data removed]",
      "text/plain": [
       "plot without title"
      ]
     },
     "metadata": {
      "image/png": {
       "height": 420,
       "width": 420
      }
     },
     "output_type": "display_data"
    }
   ],
   "source": [
    "plot1 <- ggplot(mtcars, aes(x=mpg, y=disp, col=hp))+\n",
    " geom_point()\n",
    "plot1"
   ]
  },
  {
   "cell_type": "markdown",
   "id": "14443e4c",
   "metadata": {},
   "source": [
    "### Задание 4\n",
    "\n",
    "Scatterplot (диаграмма рассеивания), где по оси X будет отложена переменная Sepal.Length,  по оси Y переменная  Sepal.Width. За цвет точек будет отвечать переменная  Species, а за размер точек переменная Petal.Length."
   ]
  },
  {
   "cell_type": "code",
   "execution_count": 239,
   "id": "346d6c21",
   "metadata": {},
   "outputs": [
    {
     "data": {
      "text/html": [
       "<table class=\"dataframe\">\n",
       "<caption>A data.frame: 6 × 5</caption>\n",
       "<thead>\n",
       "\t<tr><th></th><th scope=col>Sepal.Length</th><th scope=col>Sepal.Width</th><th scope=col>Petal.Length</th><th scope=col>Petal.Width</th><th scope=col>Species</th></tr>\n",
       "\t<tr><th></th><th scope=col>&lt;dbl&gt;</th><th scope=col>&lt;dbl&gt;</th><th scope=col>&lt;dbl&gt;</th><th scope=col>&lt;dbl&gt;</th><th scope=col>&lt;fct&gt;</th></tr>\n",
       "</thead>\n",
       "<tbody>\n",
       "\t<tr><th scope=row>1</th><td>5.1</td><td>3.5</td><td>1.4</td><td>0.2</td><td>setosa</td></tr>\n",
       "\t<tr><th scope=row>2</th><td>4.9</td><td>3.0</td><td>1.4</td><td>0.2</td><td>setosa</td></tr>\n",
       "\t<tr><th scope=row>3</th><td>4.7</td><td>3.2</td><td>1.3</td><td>0.2</td><td>setosa</td></tr>\n",
       "\t<tr><th scope=row>4</th><td>4.6</td><td>3.1</td><td>1.5</td><td>0.2</td><td>setosa</td></tr>\n",
       "\t<tr><th scope=row>5</th><td>5.0</td><td>3.6</td><td>1.4</td><td>0.2</td><td>setosa</td></tr>\n",
       "\t<tr><th scope=row>6</th><td>5.4</td><td>3.9</td><td>1.7</td><td>0.4</td><td>setosa</td></tr>\n",
       "</tbody>\n",
       "</table>\n"
      ],
      "text/latex": [
       "A data.frame: 6 × 5\n",
       "\\begin{tabular}{r|lllll}\n",
       "  & Sepal.Length & Sepal.Width & Petal.Length & Petal.Width & Species\\\\\n",
       "  & <dbl> & <dbl> & <dbl> & <dbl> & <fct>\\\\\n",
       "\\hline\n",
       "\t1 & 5.1 & 3.5 & 1.4 & 0.2 & setosa\\\\\n",
       "\t2 & 4.9 & 3.0 & 1.4 & 0.2 & setosa\\\\\n",
       "\t3 & 4.7 & 3.2 & 1.3 & 0.2 & setosa\\\\\n",
       "\t4 & 4.6 & 3.1 & 1.5 & 0.2 & setosa\\\\\n",
       "\t5 & 5.0 & 3.6 & 1.4 & 0.2 & setosa\\\\\n",
       "\t6 & 5.4 & 3.9 & 1.7 & 0.4 & setosa\\\\\n",
       "\\end{tabular}\n"
      ],
      "text/markdown": [
       "\n",
       "A data.frame: 6 × 5\n",
       "\n",
       "| <!--/--> | Sepal.Length &lt;dbl&gt; | Sepal.Width &lt;dbl&gt; | Petal.Length &lt;dbl&gt; | Petal.Width &lt;dbl&gt; | Species &lt;fct&gt; |\n",
       "|---|---|---|---|---|---|\n",
       "| 1 | 5.1 | 3.5 | 1.4 | 0.2 | setosa |\n",
       "| 2 | 4.9 | 3.0 | 1.4 | 0.2 | setosa |\n",
       "| 3 | 4.7 | 3.2 | 1.3 | 0.2 | setosa |\n",
       "| 4 | 4.6 | 3.1 | 1.5 | 0.2 | setosa |\n",
       "| 5 | 5.0 | 3.6 | 1.4 | 0.2 | setosa |\n",
       "| 6 | 5.4 | 3.9 | 1.7 | 0.4 | setosa |\n",
       "\n"
      ],
      "text/plain": [
       "  Sepal.Length Sepal.Width Petal.Length Petal.Width Species\n",
       "1 5.1          3.5         1.4          0.2         setosa \n",
       "2 4.9          3.0         1.4          0.2         setosa \n",
       "3 4.7          3.2         1.3          0.2         setosa \n",
       "4 4.6          3.1         1.5          0.2         setosa \n",
       "5 5.0          3.6         1.4          0.2         setosa \n",
       "6 5.4          3.9         1.7          0.4         setosa "
      ]
     },
     "metadata": {},
     "output_type": "display_data"
    }
   ],
   "source": [
    "head(iris)"
   ]
  },
  {
   "cell_type": "code",
   "execution_count": 256,
   "id": "487cac08",
   "metadata": {},
   "outputs": [
    {
     "data": {
      "image/png": "[encoded data removed]",
      "text/plain": [
       "plot without title"
      ]
     },
     "metadata": {
      "image/png": {
       "height": 420,
       "width": 420
      }
     },
     "output_type": "display_data"
    }
   ],
   "source": [
    "ggplot(iris, aes(Sepal.Length, Sepal.Width, col = Species)) +\n",
    "\n",
    " geom_point(aes(size = Petal.Length))"
   ]
  },
  {
   "cell_type": "markdown",
   "id": "72cabac5",
   "metadata": {},
   "source": [
    "<h1 style=\"color:black\" align=\"center\">1.7 Сохранение результатов</h1>"
   ]
  },
  {
   "cell_type": "code",
   "execution_count": 259,
   "id": "91ae6eeb",
   "metadata": {},
   "outputs": [
    {
     "data": {
      "text/html": [
       "<table class=\"dataframe\">\n",
       "<caption>A psych: 9 × 13</caption>\n",
       "<thead>\n",
       "\t<tr><th></th><th scope=col>vars</th><th scope=col>n</th><th scope=col>mean</th><th scope=col>sd</th><th scope=col>median</th><th scope=col>trimmed</th><th scope=col>mad</th><th scope=col>min</th><th scope=col>max</th><th scope=col>range</th><th scope=col>skew</th><th scope=col>kurtosis</th><th scope=col>se</th></tr>\n",
       "\t<tr><th></th><th scope=col>&lt;int&gt;</th><th scope=col>&lt;dbl&gt;</th><th scope=col>&lt;dbl&gt;</th><th scope=col>&lt;dbl&gt;</th><th scope=col>&lt;dbl&gt;</th><th scope=col>&lt;dbl&gt;</th><th scope=col>&lt;dbl&gt;</th><th scope=col>&lt;dbl&gt;</th><th scope=col>&lt;dbl&gt;</th><th scope=col>&lt;dbl&gt;</th><th scope=col>&lt;dbl&gt;</th><th scope=col>&lt;dbl&gt;</th><th scope=col>&lt;dbl&gt;</th></tr>\n",
       "</thead>\n",
       "<tbody>\n",
       "\t<tr><th scope=row>mpg</th><td>1</td><td>32</td><td> 20.090625</td><td>  6.0269481</td><td> 19.200</td><td> 19.696154</td><td>  5.4114900</td><td>10.400</td><td> 33.900</td><td> 23.500</td><td> 0.6106550</td><td>-0.37276603</td><td> 1.06542396</td></tr>\n",
       "\t<tr><th scope=row>cyl</th><td>2</td><td>32</td><td>  6.187500</td><td>  1.7859216</td><td>  6.000</td><td>  6.230769</td><td>  2.9652000</td><td> 4.000</td><td>  8.000</td><td>  4.000</td><td>-0.1746119</td><td>-1.76211977</td><td> 0.31570933</td></tr>\n",
       "\t<tr><th scope=row>disp</th><td>3</td><td>32</td><td>230.721875</td><td>123.9386938</td><td>196.300</td><td>222.523077</td><td>140.4763500</td><td>71.100</td><td>472.000</td><td>400.900</td><td> 0.3816570</td><td>-1.20721195</td><td>21.90947271</td></tr>\n",
       "\t<tr><th scope=row>hp</th><td>4</td><td>32</td><td>146.687500</td><td> 68.5628685</td><td>123.000</td><td>141.192308</td><td> 77.0952000</td><td>52.000</td><td>335.000</td><td>283.000</td><td> 0.7260237</td><td>-0.13555112</td><td>12.12031731</td></tr>\n",
       "\t<tr><th scope=row>drat</th><td>5</td><td>32</td><td>  3.596563</td><td>  0.5346787</td><td>  3.695</td><td>  3.579231</td><td>  0.7042350</td><td> 2.760</td><td>  4.930</td><td>  2.170</td><td> 0.2659039</td><td>-0.71470062</td><td> 0.09451874</td></tr>\n",
       "\t<tr><th scope=row>wt</th><td>6</td><td>32</td><td>  3.217250</td><td>  0.9784574</td><td>  3.325</td><td>  3.152692</td><td>  0.7672455</td><td> 1.513</td><td>  5.424</td><td>  3.911</td><td> 0.4231465</td><td>-0.02271075</td><td> 0.17296847</td></tr>\n",
       "\t<tr><th scope=row>qsec</th><td>7</td><td>32</td><td> 17.848750</td><td>  1.7869432</td><td> 17.710</td><td> 17.827692</td><td>  1.4158830</td><td>14.500</td><td> 22.900</td><td>  8.400</td><td> 0.3690453</td><td> 0.33511422</td><td> 0.31588992</td></tr>\n",
       "\t<tr><th scope=row>gear</th><td>8</td><td>32</td><td>  3.687500</td><td>  0.7378041</td><td>  4.000</td><td>  3.615385</td><td>  1.4826000</td><td> 3.000</td><td>  5.000</td><td>  2.000</td><td> 0.5288545</td><td>-1.06975068</td><td> 0.13042656</td></tr>\n",
       "\t<tr><th scope=row>carb</th><td>9</td><td>32</td><td>  2.812500</td><td>  1.6152000</td><td>  2.000</td><td>  2.653846</td><td>  1.4826000</td><td> 1.000</td><td>  8.000</td><td>  7.000</td><td> 1.0508738</td><td> 1.25704307</td><td> 0.28552971</td></tr>\n",
       "</tbody>\n",
       "</table>\n"
      ],
      "text/latex": [
       "A psych: 9 × 13\n",
       "\\begin{tabular}{r|lllllllllllll}\n",
       "  & vars & n & mean & sd & median & trimmed & mad & min & max & range & skew & kurtosis & se\\\\\n",
       "  & <int> & <dbl> & <dbl> & <dbl> & <dbl> & <dbl> & <dbl> & <dbl> & <dbl> & <dbl> & <dbl> & <dbl> & <dbl>\\\\\n",
       "\\hline\n",
       "\tmpg & 1 & 32 &  20.090625 &   6.0269481 &  19.200 &  19.696154 &   5.4114900 & 10.400 &  33.900 &  23.500 &  0.6106550 & -0.37276603 &  1.06542396\\\\\n",
       "\tcyl & 2 & 32 &   6.187500 &   1.7859216 &   6.000 &   6.230769 &   2.9652000 &  4.000 &   8.000 &   4.000 & -0.1746119 & -1.76211977 &  0.31570933\\\\\n",
       "\tdisp & 3 & 32 & 230.721875 & 123.9386938 & 196.300 & 222.523077 & 140.4763500 & 71.100 & 472.000 & 400.900 &  0.3816570 & -1.20721195 & 21.90947271\\\\\n",
       "\thp & 4 & 32 & 146.687500 &  68.5628685 & 123.000 & 141.192308 &  77.0952000 & 52.000 & 335.000 & 283.000 &  0.7260237 & -0.13555112 & 12.12031731\\\\\n",
       "\tdrat & 5 & 32 &   3.596563 &   0.5346787 &   3.695 &   3.579231 &   0.7042350 &  2.760 &   4.930 &   2.170 &  0.2659039 & -0.71470062 &  0.09451874\\\\\n",
       "\twt & 6 & 32 &   3.217250 &   0.9784574 &   3.325 &   3.152692 &   0.7672455 &  1.513 &   5.424 &   3.911 &  0.4231465 & -0.02271075 &  0.17296847\\\\\n",
       "\tqsec & 7 & 32 &  17.848750 &   1.7869432 &  17.710 &  17.827692 &   1.4158830 & 14.500 &  22.900 &   8.400 &  0.3690453 &  0.33511422 &  0.31588992\\\\\n",
       "\tgear & 8 & 32 &   3.687500 &   0.7378041 &   4.000 &   3.615385 &   1.4826000 &  3.000 &   5.000 &   2.000 &  0.5288545 & -1.06975068 &  0.13042656\\\\\n",
       "\tcarb & 9 & 32 &   2.812500 &   1.6152000 &   2.000 &   2.653846 &   1.4826000 &  1.000 &   8.000 &   7.000 &  1.0508738 &  1.25704307 &  0.28552971\\\\\n",
       "\\end{tabular}\n"
      ],
      "text/markdown": [
       "\n",
       "A psych: 9 × 13\n",
       "\n",
       "| <!--/--> | vars &lt;int&gt; | n &lt;dbl&gt; | mean &lt;dbl&gt; | sd &lt;dbl&gt; | median &lt;dbl&gt; | trimmed &lt;dbl&gt; | mad &lt;dbl&gt; | min &lt;dbl&gt; | max &lt;dbl&gt; | range &lt;dbl&gt; | skew &lt;dbl&gt; | kurtosis &lt;dbl&gt; | se &lt;dbl&gt; |\n",
       "|---|---|---|---|---|---|---|---|---|---|---|---|---|---|\n",
       "| mpg | 1 | 32 |  20.090625 |   6.0269481 |  19.200 |  19.696154 |   5.4114900 | 10.400 |  33.900 |  23.500 |  0.6106550 | -0.37276603 |  1.06542396 |\n",
       "| cyl | 2 | 32 |   6.187500 |   1.7859216 |   6.000 |   6.230769 |   2.9652000 |  4.000 |   8.000 |   4.000 | -0.1746119 | -1.76211977 |  0.31570933 |\n",
       "| disp | 3 | 32 | 230.721875 | 123.9386938 | 196.300 | 222.523077 | 140.4763500 | 71.100 | 472.000 | 400.900 |  0.3816570 | -1.20721195 | 21.90947271 |\n",
       "| hp | 4 | 32 | 146.687500 |  68.5628685 | 123.000 | 141.192308 |  77.0952000 | 52.000 | 335.000 | 283.000 |  0.7260237 | -0.13555112 | 12.12031731 |\n",
       "| drat | 5 | 32 |   3.596563 |   0.5346787 |   3.695 |   3.579231 |   0.7042350 |  2.760 |   4.930 |   2.170 |  0.2659039 | -0.71470062 |  0.09451874 |\n",
       "| wt | 6 | 32 |   3.217250 |   0.9784574 |   3.325 |   3.152692 |   0.7672455 |  1.513 |   5.424 |   3.911 |  0.4231465 | -0.02271075 |  0.17296847 |\n",
       "| qsec | 7 | 32 |  17.848750 |   1.7869432 |  17.710 |  17.827692 |   1.4158830 | 14.500 |  22.900 |   8.400 |  0.3690453 |  0.33511422 |  0.31588992 |\n",
       "| gear | 8 | 32 |   3.687500 |   0.7378041 |   4.000 |   3.615385 |   1.4826000 |  3.000 |   5.000 |   2.000 |  0.5288545 | -1.06975068 |  0.13042656 |\n",
       "| carb | 9 | 32 |   2.812500 |   1.6152000 |   2.000 |   2.653846 |   1.4826000 |  1.000 |   8.000 |   7.000 |  1.0508738 |  1.25704307 |  0.28552971 |\n",
       "\n"
      ],
      "text/plain": [
       "     vars n  mean       sd          median  trimmed    mad         min   \n",
       "mpg  1    32  20.090625   6.0269481  19.200  19.696154   5.4114900 10.400\n",
       "cyl  2    32   6.187500   1.7859216   6.000   6.230769   2.9652000  4.000\n",
       "disp 3    32 230.721875 123.9386938 196.300 222.523077 140.4763500 71.100\n",
       "hp   4    32 146.687500  68.5628685 123.000 141.192308  77.0952000 52.000\n",
       "drat 5    32   3.596563   0.5346787   3.695   3.579231   0.7042350  2.760\n",
       "wt   6    32   3.217250   0.9784574   3.325   3.152692   0.7672455  1.513\n",
       "qsec 7    32  17.848750   1.7869432  17.710  17.827692   1.4158830 14.500\n",
       "gear 8    32   3.687500   0.7378041   4.000   3.615385   1.4826000  3.000\n",
       "carb 9    32   2.812500   1.6152000   2.000   2.653846   1.4826000  1.000\n",
       "     max     range   skew       kurtosis    se         \n",
       "mpg   33.900  23.500  0.6106550 -0.37276603  1.06542396\n",
       "cyl    8.000   4.000 -0.1746119 -1.76211977  0.31570933\n",
       "disp 472.000 400.900  0.3816570 -1.20721195 21.90947271\n",
       "hp   335.000 283.000  0.7260237 -0.13555112 12.12031731\n",
       "drat   4.930   2.170  0.2659039 -0.71470062  0.09451874\n",
       "wt     5.424   3.911  0.4231465 -0.02271075  0.17296847\n",
       "qsec  22.900   8.400  0.3690453  0.33511422  0.31588992\n",
       "gear   5.000   2.000  0.5288545 -1.06975068  0.13042656\n",
       "carb   8.000   7.000  1.0508738  1.25704307  0.28552971"
      ]
     },
     "metadata": {},
     "output_type": "display_data"
    },
    {
     "data": {
      "image/png": "[encoded data removed]",
      "text/plain": [
       "plot without title"
      ]
     },
     "metadata": {
      "image/png": {
       "height": 420,
       "width": 420
      }
     },
     "output_type": "display_data"
    }
   ],
   "source": [
    "df  <- mtcars\n",
    "\n",
    "mean_mpg  <- mean(df$mpg)\n",
    "\n",
    "descr_df  <- describe(df[,-c(8,9)])\n",
    "\n",
    "my_boxplot  <- ggplot(df, aes(x = factor(am), y = disp))+\n",
    "  geom_boxplot()+\n",
    "  xlab(\"Transmission\")+\n",
    "  ylab(\"Displacement\")+\n",
    "  ggtitle(\"My boxplot\")\n",
    "  \n",
    "descr_df\n",
    "my_boxplot"
   ]
  },
  {
   "cell_type": "markdown",
   "id": "1f46c23b",
   "metadata": {},
   "source": [
    "```R\n",
    "write.csv(df, \"df.csv\")\n",
    "write.csv(descr_df, \"descr_df.csv\")\n",
    "\n",
    "my_mean  <- mean(10^6 : 10^7)\n",
    "save(my_mean, file = \"my_mean.RData\")\n",
    "```\n",
    "\n"
   ]
  }
 ],
 "metadata": {
  "kernelspec": {
   "display_name": "R",
   "language": "R",
   "name": "ir"
  },
  "varInspector": {
   "cols": {
    "lenName": 16,
    "lenType": 16,
    "lenVar": 40
   },
   "kernels_config": {
    "python": {
     "delete_cmd_postfix": "",
     "delete_cmd_prefix": "del ",
     "library": "var_list.py",
     "varRefreshCmd": "print(var_dic_list())"
    },
    "r": {
     "delete_cmd_postfix": ") ",
     "delete_cmd_prefix": "rm(",
     "library": "var_list.r",
     "varRefreshCmd": "cat(var_dic_list()) "
    }
   },
   "types_to_exclude": [
    "module",
    "function",
    "builtin_function_or_method",
    "instance",
    "_Feature"
   ],
   "window_display": false
  }
 },
 "nbformat": 4,
 "nbformat_minor": 5
}
